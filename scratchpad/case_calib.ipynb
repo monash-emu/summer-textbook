{
 "cells": [
  {
   "cell_type": "code",
   "execution_count": null,
   "id": "0",
   "metadata": {},
   "outputs": [],
   "source": [
    "import numpy as np\n",
    "import pandas as pd\n",
    "from scipy.stats import binom\n",
    "from plotly import graph_objects as go\n",
    "from plotly.graph_objects import Figure\n",
    "from summer2 import CompartmentalModel\n",
    "from summer2.parameters import Parameter, Function"
   ]
  },
  {
   "cell_type": "code",
   "execution_count": null,
   "id": "1",
   "metadata": {},
   "outputs": [],
   "source": [
    "# Construct simple model\n",
    "epimodel = CompartmentalModel(\n",
    "    [0.0, 100.0],\n",
    "    [\"susceptible\", \"exposed\", \"infectious\", \"recovered\"],\n",
    "    [\"infectious\"],\n",
    ")\n",
    "epimodel.add_infection_frequency_flow(\n",
    "    \"infection\",\n",
    "    Parameter(\"contact_rate\"),\n",
    "    \"susceptible\",\n",
    "    \"exposed\",\n",
    ")\n",
    "epimodel.add_transition_flow(\n",
    "    \"progression\",\n",
    "    Parameter(\"progression_rate\"),\n",
    "    \"exposed\",\n",
    "    \"infectious\",\n",
    ")\n",
    "epimodel.add_transition_flow(\n",
    "    \"recovery\",\n",
    "    Parameter(\"recovery_rate\"),\n",
    "    \"infectious\",\n",
    "    \"recovered\",\n",
    ")\n",
    "init_conds = {\"susceptible\": Parameter(\"start_pop\") - Parameter(\"seed\"), \"infectious\": Parameter(\"seed\")}\n",
    "epimodel.set_initial_population(init_conds)\n",
    "inc = epimodel.request_output_for_flow(\"incidence\", \"progression\")\n",
    "epimodel.request_function_output(\"notifications\", inc * Parameter(\"cdr\"));"
   ]
  },
  {
   "cell_type": "code",
   "execution_count": null,
   "id": "2",
   "metadata": {},
   "outputs": [],
   "source": [
    "# Arbitrary parameters\n",
    "params = {\n",
    "    \"contact_rate\": 0.8,\n",
    "    \"progression_rate\": 0.5,\n",
    "    \"recovery_rate\": 0.5,\n",
    "    \"cdr\": 0.25,\n",
    "    \"start_pop\": 1e4,\n",
    "    \"seed\": 1.0,\n",
    "}"
   ]
  },
  {
   "cell_type": "code",
   "execution_count": null,
   "id": "3",
   "metadata": {},
   "outputs": [],
   "source": [
    "# Generate synthetic data for calibration (uses CDR)\n",
    "epimodel.run(params)\n",
    "outputs = epimodel.get_derived_outputs_df()\n",
    "synth_target = outputs[::10][\"notifications\"].astype(int)"
   ]
  },
  {
   "cell_type": "code",
   "execution_count": null,
   "id": "4",
   "metadata": {},
   "outputs": [],
   "source": [
    "# Try out various contact rate parameters\n",
    "n_params = 10\n",
    "contact_rates = np.linspace(0.65, 0.95, n_params)\n",
    "inc_results = pd.DataFrame(columns=contact_rates)\n",
    "log_likes = np.zeros(n_params)\n",
    "for c, contact_param in enumerate(contact_rates):\n",
    "\n",
    "    # Only get the incidence output from the model, not modelled notifications\n",
    "    epimodel.run(params | {\"contact_rate\": contact_param})\n",
    "    model_result = epimodel.get_derived_outputs_df()\n",
    "    inc_results[contact_param] = model_result[\"incidence\"]\n",
    "    model_inc_result = model_result.loc[synth_target.index, \"incidence\"].astype(int)\n",
    "\n",
    "    # Likelihood calculation then uses the case detection proportion\n",
    "    likelihood = binom.pmf(synth_target, model_inc_result, params[\"cdr\"]).prod()\n",
    "    log_like = 1.0 if likelihood == 0.0 else np.log(likelihood)\n",
    "    print(f\"likelihood for contact rate of {round(contact_param, 2)} is {likelihood}\")\n",
    "    log_likes[c] = log_like"
   ]
  },
  {
   "cell_type": "code",
   "execution_count": null,
   "id": "5",
   "metadata": {},
   "outputs": [],
   "source": [
    "# Illustrate results\n",
    "log_likes[log_likes == 1.0] = log_likes.min() - 10.0\n",
    "fig = Figure()\n",
    "fig.add_trace(go.Scatter(x=synth_target.index, y=synth_target, name=\"cases target\", mode=\"markers\", line={\"color\": \"black\"}))\n",
    "shades = log_likes / log_likes.min()\n",
    "for c, contact_param in enumerate(contact_rates):\n",
    "    shade = round(shades[c] * 100.0)\n",
    "    fig.add_trace(go.Scatter(x=inc_results[contact_param].index, y=inc_results[contact_param], name=round(contact_param, 2), line={\"color\": f\"hsl(50%,{shade}%,{shade}%)\"}))\n",
    "fig"
   ]
  }
 ],
 "metadata": {
  "kernelspec": {
   "display_name": "Python 3 (ipykernel)",
   "language": "python",
   "name": "python3"
  },
  "language_info": {
   "codemirror_mode": {
    "name": "ipython",
    "version": 3
   },
   "file_extension": ".py",
   "mimetype": "text/x-python",
   "name": "python",
   "nbconvert_exporter": "python",
   "pygments_lexer": "ipython3",
   "version": "3.10.13"
  }
 },
 "nbformat": 4,
 "nbformat_minor": 5
}
