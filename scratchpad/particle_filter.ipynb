{
 "cells": [
  {
   "cell_type": "code",
   "execution_count": null,
   "id": "0",
   "metadata": {},
   "outputs": [],
   "source": [
    "import numpy as np\n",
    "import pandas as pd\n",
    "from scipy.stats import truncnorm\n",
    "import matplotlib.pyplot as plt"
   ]
  },
  {
   "cell_type": "code",
   "execution_count": null,
   "id": "1",
   "metadata": {},
   "outputs": [],
   "source": [
    "# Inputs\n",
    "contact_rate = 1.0\n",
    "recovery_rate = 0.1\n",
    "total_pop = 1000\n",
    "inf_init = 12\n",
    "n_particles = 20\n",
    "observations = [0, 15, 40, 65, 124, 204, 252, 210]\n",
    "\n",
    "# Updating particles\n",
    "def update_particles(particles, contact_rate, recovery_rate, total_pop):\n",
    "    suscept, infect, recovered = np.copy(particles[:, 0]), np.copy(particles[:, 1]), np.copy(particles[:, 2])\n",
    "    new_infections = np.random.binomial(suscept.astype(int), 1.0 - np.exp(-contact_rate * infect / total_pop))\n",
    "    new_recoveries = np.random.binomial(infect.astype(int), 1.0 - np.exp(-recovery_rate))\n",
    "    suscept -= new_infections\n",
    "    infect += new_infections - new_recoveries\n",
    "    recovered += new_recoveries\n",
    "    updated_particles = np.vstack([suscept, infect, recovered]).T  # Join the outputs as the columns of the new array\n",
    "    return updated_particles\n",
    "\n",
    "# Calculation of importance weights\n",
    "target_sd = 50.0\n",
    "def get_importance(p_vals, mean):\n",
    "    zero_trunc_vals = -p_vals / target_sd\n",
    "    target = np.array([mean] * n_particles)\n",
    "    return truncnorm.pdf(target, zero_trunc_vals, np.inf, loc=p_vals, scale=target_sd)\n",
    "\n",
    "def get_counts_df_from_particles(particles):\n",
    "    melted_df = pd.DataFrame(particles).melt(var_name=\"Columns\", value_name=\"Values\")\n",
    "    return melted_df.groupby([\"Columns\", \"Values\"]).size().reset_index(name=\"Counts\")\n",
    "\n",
    "# Plot results for number of infectious from output array\n",
    "def plot_particle_results(prop_particles, resamp_particles):\n",
    "    prop_counts = get_counts_df_from_particles(prop_particles[:, 1, :])\n",
    "    resamp_counts = get_counts_df_from_particles(resamp_particles[:, 1, :])\n",
    "    results_plot = plt.scatter(prop_counts[\"Columns\"] - 0.2, prop_counts[\"Values\"], s=prop_counts[\"Counts\"] * 15.0, alpha=0.5, label=\"proposed\")\n",
    "    plt.scatter(resamp_counts[\"Columns\"], resamp_counts[\"Values\"], s=resamp_counts[\"Counts\"] * 15.0, alpha=0.5, label=\"resampled\")\n",
    "    plt.scatter(range(1, len(observations) + 1), observations, label=\"target\")\n",
    "    plt.legend()\n",
    "    return results_plot"
   ]
  },
  {
   "cell_type": "code",
   "execution_count": null,
   "id": "2",
   "metadata": {},
   "outputs": [],
   "source": [
    "# Initialise particles\n",
    "particles = np.zeros([n_particles, 3, len(observations) + 1])\n",
    "particles[:, 0, 0] = total_pop - inf_init  # Susceptible\n",
    "particles[:, 1, 0] = inf_init  # Infectious\n",
    "prop_particles = np.copy(particles)\n",
    "pedigree = np.zeros([n_particles, len(observations)])\n",
    "\n",
    "# Main loop\n",
    "for o, obs in enumerate(observations):\n",
    "    \n",
    "    # Prediction\n",
    "    proposed_particles = update_particles(particles[:, :, o], contact_rate, recovery_rate, total_pop)\n",
    "    prop_particles[:, :, o + 1] = proposed_particles\n",
    "\n",
    "    # Importance\n",
    "    weights = get_importance(proposed_particles[:, 1], obs)\n",
    "    norm_weights = weights / sum(weights)\n",
    "\n",
    "    # Resampling\n",
    "    indices = np.random.choice(n_particles, size=n_particles, p=norm_weights)\n",
    "    pedigree[:, o] = indices\n",
    "    resamp_particles = proposed_particles[indices]\n",
    "    \n",
    "    # Update\n",
    "    particles[:, :, o + 1] = resamp_particles"
   ]
  },
  {
   "cell_type": "code",
   "execution_count": null,
   "id": "3",
   "metadata": {},
   "outputs": [],
   "source": [
    "plot_particle_results(prop_particles, particles)"
   ]
  }
 ],
 "metadata": {
  "kernelspec": {
   "display_name": "Python 3 (ipykernel)",
   "language": "python",
   "name": "python3"
  },
  "language_info": {
   "codemirror_mode": {
    "name": "ipython",
    "version": 3
   },
   "file_extension": ".py",
   "mimetype": "text/x-python",
   "name": "python",
   "nbconvert_exporter": "python",
   "pygments_lexer": "ipython3",
   "version": "3.10.13"
  }
 },
 "nbformat": 4,
 "nbformat_minor": 5
}
