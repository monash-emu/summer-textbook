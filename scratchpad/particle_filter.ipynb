{
 "cells": [
  {
   "cell_type": "code",
   "execution_count": 1,
   "id": "0",
   "metadata": {},
   "outputs": [],
   "source": [
    "import numpy as np\n",
    "import pandas as pd\n",
    "from scipy.stats import truncnorm"
   ]
  },
  {
   "cell_type": "code",
   "execution_count": 2,
   "id": "1",
   "metadata": {},
   "outputs": [],
   "source": [
    "# SIR model parameters\n",
    "contact_rate = 0.3\n",
    "recovery_rate = 0.1\n",
    "total_pop = 1000\n",
    "\n",
    "# Initial states\n",
    "inf_init = 12\n",
    "suscept_init = total_pop - inf_init\n",
    "rec_init = 0\n",
    "\n",
    "# Observations\n",
    "observations = [12, 157, 982, 532, 89]\n",
    "\n",
    "# Number of particles\n",
    "n_particles = 100\n",
    "\n",
    "# Updating particles\n",
    "def update_particles(particles, contact_rate, recovery_rate, total_pop):\n",
    "    suscept, infect, recovered = particles[:, 0], particles[:, 1], particles[:, 2]\n",
    "    new_infections = np.random.binomial(suscept.astype(int), 1.0 - np.exp(-contact_rate * infect / total_pop))\n",
    "    new_recoveries = np.random.binomial(infect.astype(int), 1.0 - np.exp(-recovery_rate))\n",
    "    suscept -= new_infections\n",
    "    infect += new_infections - new_recoveries\n",
    "    recovered += new_recoveries\n",
    "    particles[:, 0], particles[:, 1], particles[:, 2] = suscept, infect, recovered\n",
    "    return particles\n",
    "\n",
    "# Calculation of importance weights\n",
    "target_sd = 50.0\n",
    "def get_importance(p_vals, mean):\n",
    "    zero_trunc_vals = -p_vals / target_sd\n",
    "    target = np.array([mean] * n_particles)\n",
    "    return truncnorm.pdf(target, zero_trunc_vals, np.inf, loc=p_vals, scale=target_sd)"
   ]
  },
  {
   "cell_type": "code",
   "execution_count": 3,
   "id": "df91adec-fad0-4406-9d5c-20f47889e3df",
   "metadata": {},
   "outputs": [
    {
     "name": "stdout",
     "output_type": "stream",
     "text": [
      "Observation: 157\n",
      "Estimated susceptible: 984.44\n",
      "Estimated infectious: 14.43\n",
      "Estimated recovered: 1.13\n",
      "\n",
      "Observation: 982\n",
      "Estimated susceptible: 975.91\n",
      "Estimated infectious: 22.27\n",
      "Estimated recovered: 1.82\n",
      "\n",
      "Observation: 532\n",
      "Estimated susceptible: 965.69\n",
      "Estimated infectious: 30.02\n",
      "Estimated recovered: 4.29\n",
      "\n",
      "Observation: 89\n",
      "Estimated susceptible: 956.69\n",
      "Estimated infectious: 36.61\n",
      "Estimated recovered: 6.70\n",
      "\n"
     ]
    }
   ],
   "source": [
    "# Initialise particles\n",
    "particles = np.zeros([n_particles, 3, len(observations)])\n",
    "particles[:, 0, 0] = suscept_init\n",
    "particles[:, 1, 0] = inf_init\n",
    "particles[:, 2, 0] = rec_init\n",
    "\n",
    "# Main loop\n",
    "for o, obs in enumerate(observations[1:]):\n",
    "    \n",
    "    # Prediction\n",
    "    new_particles = update_particles(particles[:, :, o], contact_rate, recovery_rate, total_pop)\n",
    "\n",
    "    # Importance\n",
    "    weights = get_importance(new_particles[:, 1], obs)\n",
    "    norm_weights = weights / sum(weights)\n",
    "\n",
    "    # Resampling\n",
    "    indices = np.random.choice(range(n_particles), size=n_particles, p=norm_weights)\n",
    "    new_particles = new_particles[indices]\n",
    "    \n",
    "    # Results   \n",
    "    print(f\"Observation: {obs}\")\n",
    "    print(f\"Estimated susceptible: {np.mean(new_particles[:, 0]):.2f}\")\n",
    "    print(f\"Estimated infectious: {np.mean(new_particles[:, 1]):.2f}\")\n",
    "    print(f\"Estimated recovered: {np.mean(new_particles[:, 2]):.2f}\\n\")\n",
    "\n",
    "    # Update\n",
    "    particles[:, :, o + 1] = new_particles"
   ]
  }
 ],
 "metadata": {
  "kernelspec": {
   "display_name": "Python 3 (ipykernel)",
   "language": "python",
   "name": "python3"
  },
  "language_info": {
   "codemirror_mode": {
    "name": "ipython",
    "version": 3
   },
   "file_extension": ".py",
   "mimetype": "text/x-python",
   "name": "python",
   "nbconvert_exporter": "python",
   "pygments_lexer": "ipython3",
   "version": "3.10.13"
  }
 },
 "nbformat": 4,
 "nbformat_minor": 5
}
