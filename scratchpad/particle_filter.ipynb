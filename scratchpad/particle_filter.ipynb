{
 "cells": [
  {
   "cell_type": "code",
   "execution_count": null,
   "id": "0",
   "metadata": {},
   "outputs": [],
   "source": [
    "import numpy as np\n",
    "from scipy.stats import truncnorm\n",
    "import pandas as pd"
   ]
  },
  {
   "cell_type": "code",
   "execution_count": null,
   "id": "1",
   "metadata": {},
   "outputs": [],
   "source": [
    "# Define the SIR model parameters\n",
    "beta = 0.3  # Infection rate\n",
    "gamma = 0.1  # Recovery rate\n",
    "population = 1000  # Total population\n",
    "\n",
    "# Initial state\n",
    "I0 = 12  # Initial infectious\n",
    "S0 = population - I0  # Initial susceptible\n",
    "R0 = 0  # Initial recovered\n",
    "\n",
    "# Observations\n",
    "observations = [12, 157, 982, 532, 89]\n",
    "\n",
    "# Number of particles\n",
    "n_particles = 100\n",
    "\n",
    "# Initialize particles\n",
    "particles = np.zeros((n_particles, 3))\n",
    "particles[:, 0] = S0\n",
    "particles[:, 1] = I0\n",
    "particles[:, 2] = R0\n",
    "\n",
    "# Function to update particles\n",
    "def update_particles(particles, beta, gamma, population):\n",
    "    S, I, R = particles[:, 0], particles[:, 1], particles[:, 2]\n",
    "    new_infections = np.random.binomial(S.astype(int), 1.0 - np.exp(-beta * I / population))\n",
    "    new_recoveries = np.random.binomial(I.astype(int), 1.0 - np.exp(-gamma))\n",
    "    S -= new_infections\n",
    "    I += new_infections - new_recoveries\n",
    "    R += new_recoveries\n",
    "    particles[:, 0], particles[:, 1], particles[:, 2] = S, I, R\n",
    "    return particles\n",
    "\n",
    "target_sd = 50.0\n",
    "def get_importance(particles, mean):\n",
    "    p_vals = particles[:, 1]\n",
    "    trunc_vals = -p_vals / target_sd\n",
    "    return truncnorm.pdf(np.array([mean] * 100), trunc_vals, np.inf, loc=p_vals, scale=target_sd)\n",
    "\n",
    "# Particle filter implementation\n",
    "for obs in observations:\n",
    "    \n",
    "    # Prediction\n",
    "    particles = update_particles(particles, beta, gamma, population)\n",
    "\n",
    "    # Importance\n",
    "    weights = get_importance(particles, obs) + 1e-10\n",
    "    norm_weights = weights / sum(weights)\n",
    "    \n",
    "    # Resampling\n",
    "    indices = np.random.choice(range(n_particles), size=n_particles, p=norm_weights)\n",
    "    particles = particles[indices]\n",
    "    \n",
    "    # State estimation\n",
    "    S_est = np.mean(particles[:, 0])\n",
    "    I_est = np.mean(particles[:, 1])\n",
    "    R_est = np.mean(particles[:, 2])\n",
    "    \n",
    "    print(f\"Observation: {obs}\")\n",
    "    print(f\"Estimated Susceptible: {S_est:.2f}\")\n",
    "    print(f\"Estimated Infectious: {I_est:.2f}\")\n",
    "    print(f\"Estimated Recovered: {R_est:.2f}\\n\")"
   ]
  },
  {
   "cell_type": "code",
   "execution_count": null,
   "id": "2",
   "metadata": {},
   "outputs": [],
   "source": [
    "particles"
   ]
  }
 ],
 "metadata": {
  "kernelspec": {
   "display_name": "Python 3 (ipykernel)",
   "language": "python",
   "name": "python3"
  },
  "language_info": {
   "codemirror_mode": {
    "name": "ipython",
    "version": 3
   },
   "file_extension": ".py",
   "mimetype": "text/x-python",
   "name": "python",
   "nbconvert_exporter": "python",
   "pygments_lexer": "ipython3",
   "version": "3.10.13"
  }
 },
 "nbformat": 4,
 "nbformat_minor": 5
}
