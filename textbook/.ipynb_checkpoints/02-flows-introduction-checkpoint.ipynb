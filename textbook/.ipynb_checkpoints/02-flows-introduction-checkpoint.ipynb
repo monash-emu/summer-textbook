{
 "cells": [
  {
   "cell_type": "markdown",
   "id": "4d03e881-dacb-44ec-9d75-6585b81c8c65",
   "metadata": {},
   "source": [
    "Let's consider a really simple model without even an infection process,\n",
    "in order to understand the fundamentals of how we should understand transition flows."
   ]
  },
  {
   "cell_type": "code",
   "execution_count": null,
   "id": "083202e4-033f-4a15-a634-0e42252a550b",
   "metadata": {},
   "outputs": [],
   "source": [
    "# If running on Google Colab, run the following line of code to install the summer package\n",
    "# %pip install summerepi2"
   ]
  },
  {
   "cell_type": "code",
   "execution_count": null,
   "id": "0c6f00d7-0c43-471f-9625-32113f019a7b",
   "metadata": {},
   "outputs": [],
   "source": [
    "import pandas as pd\n",
    "import numpy as np\n",
    "pd.options.plotting.backend = \"plotly\"\n",
    "\n",
    "from summer2 import CompartmentalModel\n",
    "from summer2.parameters import Parameter as param"
   ]
  },
  {
   "cell_type": "code",
   "execution_count": null,
   "id": "9f5c397c-c1da-4b09-b447-deb1058e351b",
   "metadata": {},
   "outputs": [],
   "source": [
    "def get_single_transition_model(\n",
    "    settings: dict\n",
    ") -> CompartmentalModel:\n",
    "    \"\"\"\n",
    "    Generate an instance of an extremely simple two-compartment model that allows transition\n",
    "    from one of the two states to the other through a single flow linking them.\n",
    "    \n",
    "    Args:\n",
    "        settings: Non-parameter values needed to define the model structure    \n",
    "    Returns:\n",
    "        The summer model object\n",
    "    \"\"\"\n",
    "    compartments = (\n",
    "        \"source\",\n",
    "        \"destination\",\n",
    "    )\n",
    "    analysis_times = (0, 20)\n",
    "    \n",
    "    model = CompartmentalModel(\n",
    "        times=analysis_times,\n",
    "        compartments=compartments,\n",
    "        infectious_compartments=[],\n",
    "    )\n",
    "    model.set_initial_population(\n",
    "        distribution={\"source\": settings[\"population\"]}\n",
    "    )\n",
    "    model.add_transition_flow(\n",
    "        \"transition\", \n",
    "        fractional_rate=param(\"transition_rate\"), \n",
    "        source=\"source\", \n",
    "        dest=\"destination\"\n",
    "    )\n",
    "    return model"
   ]
  },
  {
   "cell_type": "markdown",
   "id": "534488c9-a6a1-4960-99e7-6db061a97705",
   "metadata": {
    "jp-MarkdownHeadingCollapsed": true,
    "tags": []
   },
   "source": [
    "With this single transition flow, \n",
    "people in the source compartment transition to the destination compartment \n",
    "at a _per capita_ rate defined by the flow's parameter.\n",
    "By \"_per capita_\" we mean that the rate of this flow is calculated as the product of the parameter value assigned to the flow rate\n",
    "and the size of the population in the source compartment.\n",
    "_summer_ will automatically multiply the rate associated with a particular flow\n",
    "by the size of the compartment it is being applied to.\n",
    "\n",
    "In the example below, we will add a progression flow called \"onset\" where the average time to developing disease is 0.1 time units.\n",
    "This can be thought of as the mean time to disease onset for someone in the healthy category as being 10 time units."
   ]
  },
  {
   "cell_type": "code",
   "execution_count": null,
   "id": "969d6703-fd49-4659-8693-27bf6d87548c",
   "metadata": {},
   "outputs": [],
   "source": [
    "settings = {\n",
    "    \"population\": 1.,\n",
    "}\n",
    "\n",
    "parameter = {\n",
    "    \"transition_rate\": 0.1,\n",
    "}\n",
    "\n",
    "transition_model = get_single_transition_model(settings)\n",
    "\n",
    "transition_model.run(parameters=parameter)\n",
    "compartment_values = transition_model.get_outputs_df()\n",
    "compartment_values.plot()"
   ]
  },
  {
   "cell_type": "code",
   "execution_count": null,
   "id": "88365627-299d-49c3-a32a-39a0c24b7394",
   "metadata": {},
   "outputs": [],
   "source": [
    "pd.DataFrame(\n",
    "    {\n",
    "        \"source\": np.exp([-0.1 * i for i in range(21)]),\n",
    "        \"destination\": 1. - np.exp([-0.1 * i for i in range(21)]),\n",
    "    }\n",
    ").plot()"
   ]
  },
  {
   "cell_type": "markdown",
   "id": "80ba0a32-8919-43bf-8e17-40a4a99d740a",
   "metadata": {},
   "source": [
    "In addition to transition flows, \n",
    "_summer_ also supports a range of other \n",
    "flows that we may wish to apply to our models.\n",
    "All of these are described in more detail in the _summer_ documentation\n",
    "and the epidemiological considerations associated with some of these will be discussed in later notebooks.\n",
    "The following is a very brief list of the available flows\n",
    "and whether each flow has a source/origin compartment\n",
    "and a destination compartment.\n",
    "\n",
    "|Flow name|Source compartment?|Destination compartment?|\n",
    "|---|---|---|\n",
    "|Infection density|Yes|Yes|\n",
    "|Infection frequency flow|Yes|Yes|\n",
    "|Death flow|Yes|No|\n",
    "|Universal death flows|Yes|No|\n",
    "|Importation flow|No|Yes|\n",
    "|Crude birth flow|No|Yes|\n",
    "|Replacement birth flow|No|Yes|"
   ]
  }
 ],
 "metadata": {
  "kernelspec": {
   "display_name": "Python 3 (ipykernel)",
   "language": "python",
   "name": "python3"
  },
  "language_info": {
   "codemirror_mode": {
    "name": "ipython",
    "version": 3
   },
   "file_extension": ".py",
   "mimetype": "text/x-python",
   "name": "python",
   "nbconvert_exporter": "python",
   "pygments_lexer": "ipython3",
   "version": "3.10.3"
  }
 },
 "nbformat": 4,
 "nbformat_minor": 5
}
