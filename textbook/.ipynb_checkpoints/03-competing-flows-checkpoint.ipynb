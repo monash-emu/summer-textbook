{
 "cells": [
  {
   "cell_type": "markdown",
   "id": "9f5fa72a-1f2d-4027-a4ad-2a3bc0294577",
   "metadata": {},
   "source": [
    "# Competing flows"
   ]
  },
  {
   "cell_type": "code",
   "execution_count": null,
   "id": "03216b91-5c97-4dad-afe5-0034c5e2e091",
   "metadata": {},
   "outputs": [],
   "source": [
    "# If running on Google Colab, run the following line of code to install the summer package\n",
    "# %pip install summerepi2"
   ]
  },
  {
   "cell_type": "code",
   "execution_count": null,
   "id": "080b8f6d-66ae-40ec-9395-e3ff4b65f0f1",
   "metadata": {},
   "outputs": [],
   "source": [
    "import pandas as pd\n",
    "import numpy as np\n",
    "pd.options.plotting.backend = \"plotly\"\n",
    "\n",
    "from summer2 import CompartmentalModel\n",
    "from summer2.parameters import Parameter"
   ]
  },
  {
   "cell_type": "markdown",
   "id": "97d2314b-3cc3-448b-a376-b60fcb3e92b6",
   "metadata": {},
   "source": [
    "Let's dig into what applying these flows to a model means in a little more detail.\n",
    "Consider a very similar model to the one we saw in the previous notebook,\n",
    "but with two competing transition flows applied to our source compartment instead of one."
   ]
  },
  {
   "cell_type": "code",
   "execution_count": null,
   "id": "03bd9f63-207a-4090-ba9a-9bf6a63eb4fd",
   "metadata": {},
   "outputs": [],
   "source": [
    "def get_competing_transition_model(\n",
    "    settings: dict\n",
    ") -> CompartmentalModel:\n",
    "    compartments = (\n",
    "        \"source\",\n",
    "        \"destination_0\",\n",
    "        \"destination_1\",\n",
    "    )\n",
    "    analysis_times = (\n",
    "        settings[\"start_time\"], \n",
    "        settings[\"end_time\"],\n",
    "    )\n",
    "    \n",
    "    model = CompartmentalModel(\n",
    "        times=analysis_times,\n",
    "        compartments=compartments,\n",
    "        infectious_compartments=[],\n",
    "    )\n",
    "    model.set_initial_population(\n",
    "        distribution={\"source\": settings[\"population\"]}\n",
    "    )\n",
    "    model.add_transition_flow(\n",
    "        \"transition_0\", \n",
    "        fractional_rate=Parameter(\"transition_0\"), \n",
    "        source=\"source\", \n",
    "        dest=\"destination_0\"\n",
    "    )\n",
    "    model.add_transition_flow(\n",
    "        \"transition_1\", \n",
    "        fractional_rate=Parameter(\"transition_1\"), \n",
    "        source=\"source\", \n",
    "        dest=\"destination_1\"\n",
    "    )\n",
    "    return model"
   ]
  },
  {
   "cell_type": "code",
   "execution_count": null,
   "id": "59e5c55a-27e8-4d07-8ac8-07570d24a2d8",
   "metadata": {},
   "outputs": [],
   "source": [
    "settings = {\n",
    "    \"population\": 1.,\n",
    "    \"start_time\": 0.,\n",
    "    \"end_time\": 200.,\n",
    "}\n",
    "parameters = {\n",
    "    \"transition_0\": 0.01,\n",
    "    \"transition_1\": 0.02,\n",
    "}\n",
    "\n",
    "transition_model = get_competing_transition_model(settings)\n",
    "\n",
    "transition_model.run(parameters=parameters)\n",
    "\n",
    "outputs = transition_model.get_outputs_df()"
   ]
  },
  {
   "cell_type": "markdown",
   "id": "e2dbde74-eec3-430b-8d9e-ae3782361f69",
   "metadata": {
    "tags": []
   },
   "source": [
    "## Sojourn times\n",
    "The average time in the source compartment of this model is \n",
    "the reciprocal of the sum of the two flow rates.\n",
    "This is because, for a given person current in the `source` compartment,\n",
    "there are two ways to exit the compartment,\n",
    "so the total rate of leaving the compartment is the sum of these two flow rates.\n",
    "In other words, when considering the `source` compartment\n",
    "in the absence of any inward flows,\n",
    "the _per capita_ rate of exiting the compartment is the sum of the two flow rates.\n",
    "If these rates remain constant over time and in the absence of inward flows,\n",
    "the size of the compartment at time $t$ is given by:\n",
    "$$ e ^{-outflows \\times t} $$\n",
    "and the average time in the compartment is given by:\n",
    "$$ \\int_0^\\infty e ^{-outflows \\times t} dt $$\n",
    "which is equal to:\n",
    "$$ \\frac{1}{outflows} $$\n",
    "This can also be termed the \"sojourn time\" of the compartment."
   ]
  },
  {
   "cell_type": "code",
   "execution_count": null,
   "id": "a6f319f9-0bb5-4acd-a25e-c8bf749ce842",
   "metadata": {},
   "outputs": [],
   "source": [
    "print(f\"The average sojourn time for the source compartment is {round(1. / sum(parameters.values()), 3)} time units.\")"
   ]
  },
  {
   "cell_type": "markdown",
   "id": "76dcd247-f584-4525-9f05-10cf0532e3dd",
   "metadata": {},
   "source": [
    "We can check this numerically by multiplying the number of people arriving in the destination\n",
    "compartment at each time step by the time it took them to arrive there."
   ]
  },
  {
   "cell_type": "code",
   "execution_count": null,
   "id": "a1490737-54f3-48b8-b0fa-a4f8eecf62d9",
   "metadata": {},
   "outputs": [],
   "source": [
    "weighted_arrival_times = outputs.diff()[\"source\"] * outputs.index\n",
    "print(f\"The average time to arrive in the destination compartment is {-weighted_arrival_times.sum()}\")"
   ]
  },
  {
   "cell_type": "markdown",
   "id": "f126310c-aed4-4f6b-bd06-c121f1338216",
   "metadata": {},
   "source": [
    "## Median transition time\n",
    "Of course, this does not imply that half of the population \n",
    "will have left the `source` category after one sojourn time.\n",
    "To obtain this value we would solve the equation\n",
    "$$ e ^{-outflows \\times t} = \\frac{1}{2} $$\n",
    "to get\n",
    "$$ \\frac{-log(\\tfrac{1}{2})}{outflows} $$"
   ]
  },
  {
   "cell_type": "code",
   "execution_count": null,
   "id": "7ac8abb2-2b82-42ec-a176-656875cecfca",
   "metadata": {},
   "outputs": [],
   "source": [
    "print(f\"The time when half of the population to leave the source is {round(-np.log(0.5) / sum(parameters.values()), 3)} time units.\")"
   ]
  },
  {
   "cell_type": "code",
   "execution_count": null,
   "id": "23b0e66a-2072-41ca-bdf9-14401687d109",
   "metadata": {},
   "outputs": [],
   "source": [
    "print(f\"The first time step with more than half the source compartment depleted is {outputs['source'][outputs['source'].lt(0.5)].index[0]} time units.\")"
   ]
  },
  {
   "cell_type": "markdown",
   "id": "9da43d53-ed0a-4117-83b8-28a6adf796b5",
   "metadata": {},
   "source": [
    "## Risks from competing rates\n",
    "Often in epidemiology,\n",
    "we may want to think about the risk of an outcome for a person in a particular state.\n",
    "For example, we may want to know what the risk of death is\n",
    "for a person entering the `source` compartment in our simple model.\n",
    "In this case, there are only two possibly outcomes which are applied\n",
    "together for any person entering this compartment,\n",
    "and these flows \"compete with one-another\".\n",
    "The risk of following each of the outflows from the compartment is\n",
    "proportional to the rate of that flow.\n",
    "In our example, \n",
    "the risk of transition_0 for a person entering the infectious compartment\n",
    "is the rate of transition_0 divided by the total of all outflows."
   ]
  },
  {
   "cell_type": "code",
   "execution_count": null,
   "id": "3e4ac61c-c1e6-480a-a938-040898dd8451",
   "metadata": {},
   "outputs": [],
   "source": [
    "print(f\"The risk of following transition_0 is {round(parameters['transition_0'] / sum(parameters.values()) * 100)}%.\")"
   ]
  },
  {
   "cell_type": "code",
   "execution_count": null,
   "id": "3226a0d8-7afd-4ad8-8efd-d30dbb7b1f30",
   "metadata": {},
   "outputs": [],
   "source": [
    "outputs[\"destination_0\"] / outputs[[\"destination_0\", \"destination_1\"]].sum(axis=1)"
   ]
  }
 ],
 "metadata": {
  "kernelspec": {
   "display_name": "Python 3 (ipykernel)",
   "language": "python",
   "name": "python3"
  },
  "language_info": {
   "codemirror_mode": {
    "name": "ipython",
    "version": 3
   },
   "file_extension": ".py",
   "mimetype": "text/x-python",
   "name": "python",
   "nbconvert_exporter": "python",
   "pygments_lexer": "ipython3",
   "version": "3.10.3"
  }
 },
 "nbformat": 4,
 "nbformat_minor": 5
}
