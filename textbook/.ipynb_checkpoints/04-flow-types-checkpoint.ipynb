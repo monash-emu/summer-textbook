{
 "cells": [
  {
   "cell_type": "markdown",
   "id": "ignored-international",
   "metadata": {},
   "source": [
    "# Flow types\n",
    "\n",
    "In the [previous notebook](https://github.com/monash-emu/summer/blob/master/docs/textbook/01-basic-model.ipynb), we introduced our general approach to creating and running a simple compartmental model of the transmission of an acute immunising infection. This basic model had only three compartments, which were linked together by two transition flows, with one additional flow through which the population simulated could exit the system (deaths). However, there are several epidemiological issues to consider when adding flows to the compartmental structure, and many different types of flow we might want to apply to our compartments.\n",
    "\n",
    "_summer_'s [CompartmentalModel](http://summerepi.com/api/model.html) class offers a variety of intercompartmental flows that can be used to define the dynamics of a model. These consist of:\n",
    "\n",
    "- [Transition flow](#Transition-flow) ([docs](http://summerepi.com/api/model.html#summer.model.CompartmentalModel.add_transition_flow))\n",
    "- [Infection density flow](#Infection-density-flow) ([docs](http://summerepi.com/api/model.html#summer.model.CompartmentalModel.add_infection_density_flow))\n",
    "- [Infection frequency flow](#Infection-frequency-flow) ([docs](http://summerepi.com/api/model.html#summer.model.CompartmentalModel.add_infection_frequency_flow))\n",
    "- [Death flow](#Death-flow) ([docs](http://summerepi.com/api/model.html#summer.model.CompartmentalModel.add_death_flow))\n",
    "- [Universal death flows](#Universal-death-flow) ([docs](http://summerepi.com/api/model.html#summer.model.CompartmentalModel.add_universal_death_flows))\n",
    "- [Crude birth flow](#Crude-birth-flow) ([docs](http://summerepi.com/api/model.html#summer.model.CompartmentalModel.add_crude_birth_flow))\n",
    "- [Importation flow](#Importation-flow) ([docs](http://summerepi.com/api/model.html#summer.model.CompartmentalModel.add_importation_flow))\n",
    "- [Replacement birth flow](#Replacement-birth-flow) ([docs](http://summerepi.com/api/model.html#summer.model.CompartmentalModel.add_replacement_birth_flow))\n",
    "- [Function flow](#Function-flow) ([docs](http://summerepi.com/api/model.html#summer.model.CompartmentalModel.add_function_flow))\n",
    "\n",
    "Note that this is a somewhat \"non-traditional\" way of thinking about compartmental models, which are more often represented as ODEs (as mentioned in notebook 01). When defined in this way, a \"flow\" can be thought of an entry to or exit from a compartment, that increments/decrements the value of that compartment at a certain rate and is indicated with an addition/subtraction term in the ODE for that compartment. Each entry/exit to/from a compartment may have a corresponding exit/entry from/to a linked compartment. However, we believe that modellers more often think in terms of \"compartments\" linked by \"flows\", which is also reflected in the common illustration of such systems through flow diagrams.\n",
    "\n",
    "Let's start off with a small amount of boilerplate (repeated) code that we'll need for just about all our notebooks."
   ]
  },
  {
   "cell_type": "code",
   "execution_count": null,
   "id": "77ed8145-1ecd-4394-8ef7-736e4ef3d372",
   "metadata": {},
   "outputs": [],
   "source": [
    "try:\n",
    "  import google.colab\n",
    "  IN_COLAB = True\n",
    "  %pip install summerepi2\n",
    "except:\n",
    "  IN_COLAB = False"
   ]
  },
  {
   "cell_type": "code",
   "execution_count": null,
   "id": "2946a555-12e0-41dd-b69a-ba578ef09f06",
   "metadata": {},
   "outputs": [],
   "source": [
    "import pandas as pd\n",
    "from jax import numpy as jnp\n",
    "from typing import Dict\n",
    "import copy\n",
    "\n",
    "from summer2 import CompartmentalModel\n",
    "from summer2.parameters import Parameter as param\n",
    "from summer2.parameters import Function as func\n",
    "from summer2.parameters import Time\n",
    "\n",
    "pd.options.plotting.backend = \"plotly\""
   ]
  },
  {
   "cell_type": "code",
   "execution_count": null,
   "id": "1e0c7760-4297-484c-8352-cc8fbb5abc23",
   "metadata": {},
   "outputs": [],
   "source": [
    "def get_base_model(\n",
    "    parameters: Dict\n",
    ") -> CompartmentalModel:\n",
    "    \"\"\"\n",
    "    Generate an instance of a very simple two-compartment model that allows transition\n",
    "    from one of the two states to the other through a single flow linking them, \n",
    "    population distribution and parameters hard-coded.\n",
    "    This is just about the simplest \"closed\" system possible,\n",
    "    such that we're tracking where our starting population goes to and how many\n",
    "    are left in their origin compartment.\n",
    "    \n",
    "    Returns:\n",
    "        The summer model object\n",
    "    \"\"\"\n",
    "    compartments = (\n",
    "        \"healthy\",\n",
    "        \"diseased\",\n",
    "    )\n",
    "    analysis_times = (0, 20)\n",
    "    \n",
    "    model = CompartmentalModel(\n",
    "        times=analysis_times,\n",
    "        compartments=compartments,\n",
    "        infectious_compartments=[],\n",
    "    )\n",
    "    model.set_initial_population(\n",
    "        distribution={\"healthy\": 1.}\n",
    "    )\n",
    "    model.add_transition_flow(\n",
    "        \"onset\", \n",
    "        fractional_rate=param(\"onset_rate\"), \n",
    "        source=\"healthy\", \n",
    "        dest=\"diseased\"\n",
    "    )\n",
    "    return model"
   ]
  },
  {
   "cell_type": "markdown",
   "id": "annual-purse",
   "metadata": {},
   "source": [
    "## Transition flow\n",
    "\n",
    "With this type of flow, people in the source compartment transition to the destination compartment at a _per capita_ rate defined by the flow's parameter.\n",
    "By \"_per capita_\" we mean that the rate of this flow is calculated as the product of the parameter value assigned to the flow rate\n",
    "and the size of the population in the source compartment.\n",
    "\n",
    "With just a single outflow from the source compartment, \n",
    "the sojourn time is the reciprocal of the rate of outflow.\n",
    "(By competing flows, we mean flows that have the same source compartment.)\n",
    "Where multiple flows share a common source compartment, the sojourn time is the reciprocal of the sum of the outflows from that compartment.\n",
    "\n",
    "In the example below, we will add a progression flow called \"onset\" where the average time to developing disease is 0.1 time units.\n",
    "This can be thought of as the mean time to disease onset for someone in the healthy category as being 10 time units."
   ]
  },
  {
   "cell_type": "code",
   "execution_count": null,
   "id": "sealed-fight",
   "metadata": {},
   "outputs": [],
   "source": [
    "transition_params = {\n",
    "    \"population\": 1.,\n",
    "    \"onset_rate\": 0.1,\n",
    "}\n",
    "\n",
    "transition_model = get_base_model(transition_params)\n",
    "\n",
    "transition_model.run(parameters=transition_params)\n",
    "compartment_values = transition_model.get_outputs_df()\n",
    "compartment_values.plot()"
   ]
  },
  {
   "cell_type": "markdown",
   "id": "stable-james",
   "metadata": {},
   "source": [
    "### Time-varying transition flow\n",
    "\n",
    "The rate at which people transition can be set as a constant, or it can be defined as a function of time. This is the case for all _summer_ flows: every parameter can be a constant _or_ a function of time.\n",
    "Parameters also take a `computed_values` argument, which is a dictionary of values computed at runtime that is not specific to any individual flow and can be specified by the user.\n",
    "We'll come back to examples of this later, but for now this is just an example of how to create a function that _summer_ can understand and can act on the `time` variable within its scope.\n",
    "Older versions of _summer_ do not include the computed values argument, and it is a good idea to provide a default of `None` for functions in which this argument is not used (i.e. depend solely on time)."
   ]
  },
  {
   "cell_type": "code",
   "execution_count": null,
   "id": "867c750e-791b-4092-9f49-e0b25e231a93",
   "metadata": {},
   "outputs": [],
   "source": [
    "def get_step_onset_model(\n",
    "    parameters: Dict\n",
    ") -> CompartmentalModel:\n",
    "    \"\"\"\n",
    "    Generates a model that is almost as simple as the previous example,\n",
    "    but the parameter varies according to a step function.\n",
    "    \n",
    "    Returns:\n",
    "        The summer model object\n",
    "    \"\"\"\n",
    "    compartments = (\n",
    "        \"healthy\",\n",
    "        \"diseased\",\n",
    "    )\n",
    "    analysis_times = (0, 20)\n",
    "    \n",
    "    def scaled_onset_rate(time):\n",
    "        return jnp.where(\n",
    "            time < 10., \n",
    "            parameters[\"onset_rate\"], \n",
    "            0.\n",
    "        )\n",
    "\n",
    "    onset_rate = func(scaled_onset_rate, [Time])\n",
    "   \n",
    "    model = CompartmentalModel(\n",
    "        times=analysis_times,\n",
    "        compartments=compartments,\n",
    "        infectious_compartments=[],\n",
    "    )\n",
    "    model.set_initial_population(\n",
    "        distribution={\"healthy\": 1.}\n",
    "    )\n",
    "    model.add_transition_flow(\n",
    "        \"onset\",\n",
    "        fractional_rate=onset_rate,\n",
    "        source=\"healthy\", \n",
    "        dest=\"diseased\"\n",
    "    )\n",
    "    return model"
   ]
  },
  {
   "cell_type": "code",
   "execution_count": null,
   "id": "binding-template",
   "metadata": {},
   "outputs": [],
   "source": [
    "step_model = get_step_onset_model(transition_params)\n",
    "step_model.run(parameters=transition_params)\n",
    "compartment_values = step_model.get_outputs_df()\n",
    "compartment_values.plot()"
   ]
  },
  {
   "cell_type": "markdown",
   "id": "625fd00b-ce45-4ecb-aa02-297224439fec",
   "metadata": {},
   "source": [
    "Of course, this function is not intended to represent anything very epidemiologically plausible,\n",
    "but the syntax could be reused with a more complicated function used instead.\n",
    "Also to stress, this syntax can be used for the other flow types we will now discuss."
   ]
  },
  {
   "cell_type": "code",
   "execution_count": null,
   "id": "e85510af-927f-4536-ad88-58f7cc477b5e",
   "metadata": {},
   "outputs": [],
   "source": [
    "sir_params = {\n",
    "    \"contact_rate\": 1.,\n",
    "    \"recovery_rate\": 0.333,\n",
    "    \"population\": 1000.,\n",
    "    \"seed\": 10.,\n",
    "    \"start_time\": 0.,\n",
    "    \"end_time\": 20.,\n",
    "}\n",
    "\n",
    "sir_freq_model = get_sir_freq_model(sir_params)\n",
    "sir_freq_model.run(parameters=sir_params)\n",
    "compartment_values = sir_freq_model.get_outputs_df()\n",
    "compartment_values.plot()"
   ]
  },
  {
   "cell_type": "markdown",
   "id": "cda04ad7-0da9-4812-9aa2-ecf49aa319ae",
   "metadata": {},
   "source": [
    "We are now beginning to see some interesting dynamics, although the model is still simpler than the one we already saw in Notebook 1."
   ]
  },
  {
   "cell_type": "markdown",
   "id": "baking-technology",
   "metadata": {},
   "source": [
    "## Death flow\n",
    "\n",
    "With a death flow, some percent of people in a user-selected source compartment die and leave the system every time unit."
   ]
  },
  {
   "cell_type": "code",
   "execution_count": null,
   "id": "impaired-assignment",
   "metadata": {},
   "outputs": [],
   "source": [
    "def get_sir_with_death_model(\n",
    "    parameters: Dict\n",
    ")-> CompartmentalModel:\n",
    "    \"\"\"\n",
    "    Take the previous SIR model and add a death flow.\n",
    "    This is now structurally similar to the model we introduced in Notebook 1.\n",
    "    \n",
    "    Args:\n",
    "        parameters: The parameter values to be used in running the model\n",
    "    Returns:\n",
    "        The summer model object\n",
    "    \"\"\"\n",
    "    \n",
    "    model = get_sir_freq_model(parameters)\n",
    "\n",
    "    # Add the death rate to the model\n",
    "    model.add_death_flow(\"infection_death\", death_rate=param(\"death_rate\"), source=\"infectious\")\n",
    "    \n",
    "    return model"
   ]
  },
  {
   "cell_type": "code",
   "execution_count": null,
   "id": "b8a7aefc-5965-424c-9e6e-3a6ef09219c6",
   "metadata": {},
   "outputs": [],
   "source": [
    "sir_params.update({\"death_rate\": 0.3})  # Add an arbitrary parameter value\n",
    "\n",
    "sir_death_model = get_sir_with_death_model(sir_params)\n",
    "    \n",
    "sir_death_model.run(parameters=sir_params)\n",
    "compartment_values = sir_death_model.get_outputs_df()\n",
    "compartment_values.plot()"
   ]
  },
  {
   "cell_type": "markdown",
   "id": "banner-medline",
   "metadata": {
    "tags": []
   },
   "source": [
    "## Universal death flow\n",
    "\n",
    "Adding \"universal deaths\" is a convenient way to set up a death flow for every compartment, which can account for non-disease mortality (e.g. heart disease, trauma, etc.). This is functionally the same as manually adding a death flow for every compartment with the same parameter value. You can adjust the universal death rate for particular strata later during the stratification process (e.g. for age-specific mortality rates)."
   ]
  },
  {
   "cell_type": "code",
   "execution_count": null,
   "id": "c9731236-9fd3-47f0-9357-3906fc198b88",
   "metadata": {},
   "outputs": [],
   "source": [
    "def get_sir_with_popdeath_model(\n",
    "    parameters: Dict\n",
    ")-> CompartmentalModel:\n",
    "    \"\"\"\n",
    "    Take the previous SIR model and add a universal or population-wide death flow.\n",
    "    \n",
    "    Args:\n",
    "        parameters: The parameter values to be used in running the model\n",
    "    Returns:\n",
    "        The summer model object\n",
    "    \"\"\"\n",
    "    \n",
    "    model = get_sir_freq_model(parameters)\n",
    "\n",
    "    # Add the population death rate to the model\n",
    "    model.add_universal_death_flows(\"universal_death\", death_rate=param(\"pop_death\"))\n",
    "    \n",
    "    return model"
   ]
  },
  {
   "cell_type": "code",
   "execution_count": null,
   "id": "a6e000be-134b-4d6a-9ec2-f51086ca07e4",
   "metadata": {},
   "outputs": [],
   "source": [
    "sir_params.update({\"pop_death\": 0.05})  # Add an arbitrary population-wide death rate\n",
    "\n",
    "sir_pop_death_model = get_sir_with_popdeath_model(sir_params)\n",
    "    \n",
    "sir_pop_death_model.run(parameters=sir_params)\n",
    "compartment_values = sir_pop_death_model.get_outputs_df()\n",
    "compartment_values.plot()\n",
    "\n",
    "# Please ignore the following deprecation warning, we will remove this in \n",
    "# the next summer release."
   ]
  },
  {
   "cell_type": "markdown",
   "id": "sporting-reduction",
   "metadata": {},
   "source": [
    "## Importation flow\n",
    "\n",
    "An absolute number of people arrive in the destination per time unit. This can be used to model arrivals from outside of the modelled region.\n",
    "\n",
    "'split_imports' determines whether this number is split over the existing destination compartments (`True`), or the full number of people sent to each (`False`).  In this example the behaviour is the same (since the destination of the flow is a single compartment), but for stratified models, this can be an important distinction - we will cover this in more detail in later notebooks."
   ]
  },
  {
   "cell_type": "code",
   "execution_count": null,
   "id": "184e86ed-b795-4f9e-b190-029f7372dbfc",
   "metadata": {},
   "outputs": [],
   "source": [
    "def get_sir_with_imports_model(\n",
    "    parameters: Dict\n",
    ")-> CompartmentalModel:\n",
    "    \"\"\"\n",
    "    Take the previous SIR model and add an importation flow.\n",
    "    \n",
    "    Args:\n",
    "        parameters: The parameter values to be used in running the model\n",
    "    Returns:\n",
    "        The summer model object\n",
    "    \"\"\"\n",
    "    \n",
    "    model = get_sir_freq_model(parameters)\n",
    "\n",
    "    # Add importations to the model\n",
    "    model.add_importation_flow(\n",
    "        \"imports\", \n",
    "        num_imported=param(\"imports\"), \n",
    "        dest=\"susceptible\", \n",
    "        split_imports=True\n",
    "    )\n",
    "    model.add_importation_flow(\n",
    "        \"imports\", \n",
    "        num_imported=param(\"imports\"), \n",
    "        dest=\"recovered\", \n",
    "        split_imports=True\n",
    "    )\n",
    "    \n",
    "    return model"
   ]
  },
  {
   "cell_type": "code",
   "execution_count": null,
   "id": "competent-violence",
   "metadata": {},
   "outputs": [],
   "source": [
    "sir_params.update({\"imports\": 15.})  # Add an arbitrary importation rate\n",
    "\n",
    "sir_imports_model = get_sir_with_imports_model(sir_params)\n",
    "    \n",
    "sir_imports_model.run(parameters=sir_params)\n",
    "compartment_values = sir_imports_model.get_outputs_df()\n",
    "compartment_values.plot()"
   ]
  },
  {
   "cell_type": "markdown",
   "id": "41826573-b59f-4c85-8d58-a70321a504e3",
   "metadata": {},
   "source": [
    "The population size increases quickly with this arbitrary parameter choice."
   ]
  },
  {
   "cell_type": "markdown",
   "id": "b4168b57-d3d4-4afa-97eb-cc09249b0e15",
   "metadata": {},
   "source": [
    "As expected, we end up with more of the population in the susceptible compartment, although this model is now a \"closed\" system, in that it retains a constant total population size throughout."
   ]
  },
  {
   "cell_type": "markdown",
   "id": "metropolitan-chambers",
   "metadata": {},
   "source": [
    "## Summary\n",
    "We've worked through several of the most commonly used flow types that we would use in infectious diseases modelling, representing these in _summer_ code and and showing their epidemiological effects. Of course, flows will be fundamental to the models we illustrate in the following notebooks as well, so we hope you have a good grip on the general syntax now.\n",
    "\n",
    "A detailed API reference of the CompartmentalModel class can be found [here](http://summerepi.com/api/model.html)"
   ]
  }
 ],
 "metadata": {
  "interpreter": {
   "hash": "c1e1924619185674a370a1ee117571daa81709dee989e73fcb61e2f904b8f122"
  },
  "kernelspec": {
   "display_name": "Python 3 (ipykernel)",
   "language": "python",
   "name": "python3"
  },
  "language_info": {
   "codemirror_mode": {
    "name": "ipython",
    "version": 3
   },
   "file_extension": ".py",
   "mimetype": "text/x-python",
   "name": "python",
   "nbconvert_exporter": "python",
   "pygments_lexer": "ipython3",
   "version": "3.10.3"
  }
 },
 "nbformat": 4,
 "nbformat_minor": 5
}
