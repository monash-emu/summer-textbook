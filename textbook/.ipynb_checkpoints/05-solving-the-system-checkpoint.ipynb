{
 "cells": [
  {
   "cell_type": "markdown",
   "id": "2865196f-6579-4515-8382-12d8c5d85ad2",
   "metadata": {
    "tags": []
   },
   "source": [
    "# Obtaining numerical solutions\n",
    "## Ordinary differential equation for the infectious compartment\n",
    "In developing `summer`, we have aimed to move away from notating our models in ODEs\n",
    "and we will generally avoid ODE notation throughout this textbook.\n",
    "This is because the `summer` API is intended to support code that is highly expressive,\n",
    "such that the epidemiological intention can be easily gleaned from reading the code itself.\n",
    "Therefore, there should be less need for an alternative form of notation.\n",
    "Further, the ODEs used to notate epidemiological models\n",
    "do not constitute the code used in simulation,\n",
    "but rather the modellers intention for the construction of the system.\n",
    "Therefore, there is considerable potential for the ODEs to diverge from the underlying code,\n",
    "which is very common in our experience.\n",
    "\n",
    "Nevertheless, for readers who are familiar with ODE notation,\n",
    "we present the following expression for the infectious compartment of the model introduced in notebook 01:\n",
    "$$ \\frac{dI}{dS}=\\frac{\\beta S}{N}-(\\gamma + \\mu)I $$\n",
    "where the `infectious` and `susceptible` compartments \n",
    "are represented by $I$ and $S$ respectively,\n",
    "and the contact rate, `recovery` rate and `infection_death` rate\n",
    "are represented by $\\beta$, $\\gamma$ and $\\mu$ respectively.\n",
    "Note that the division by $N$ is handled behind the scenes by\n",
    "_summer_ after the user requested frequency-dependent transmission."
   ]
  },
  {
   "cell_type": "markdown",
   "id": "6de900ae-96fe-41c5-bf44-5d6d823bf716",
   "metadata": {
    "tags": []
   },
   "source": [
    "## Obtaining numerical solutions\n",
    "\n",
    "This section presents some code that shows an approximation of what is happening inside the model we just built and ran.\n",
    "This is just to show how we could have got the same soluations without using any solver at all,\n",
    "and is intended to provide some insight into what is going on under the surface.\n",
    "Clearly, coding models in this explicit way would make for overly verbose code\n",
    "if we tried to create a complicated, highly stratified model in this way, \n",
    "and would not utilise many of the convenient features of the _summer_ platform.\n",
    "\n",
    "In the example code below we use the Euler method to solve our compartmental system defined by the model's compartment structure and flows.\n",
    "However, we don't typically use Euler in our modelling for policy, \n",
    "and a range of different solvers are available in the _summer_ backend."
   ]
  },
  {
   "cell_type": "code",
   "execution_count": null,
   "id": "89dd395b-5f81-4d90-b1f2-abcc264949f0",
   "metadata": {},
   "outputs": [],
   "source": [
    "# If running on Google Colab, run the following line of code to install the summer package\n",
    "# %pip install summerepi2"
   ]
  },
  {
   "cell_type": "code",
   "execution_count": null,
   "id": "75a4fa2a-6424-41a1-8476-f861dd1fae92",
   "metadata": {},
   "outputs": [],
   "source": [
    "import numpy as np\n",
    "import pandas as pd\n",
    "pd.options.plotting.backend = \"plotly\"\n",
    "\n",
    "from summer2 import CompartmentalModel\n",
    "from summer2.parameters import Parameter"
   ]
  },
  {
   "cell_type": "markdown",
   "id": "161de70b-caee-4024-9116-ffd722976af7",
   "metadata": {},
   "source": [
    "## Declare parameters\n",
    "First, we'll declare a set of model specifications and parameters \n",
    "that we'll use with each of our two approaches."
   ]
  },
  {
   "cell_type": "code",
   "execution_count": null,
   "id": "12d8c29f-c905-4b63-b018-ae55e5cbb76a",
   "metadata": {},
   "outputs": [],
   "source": [
    "config = {\n",
    "    \"population\": 1000.,\n",
    "    \"seed\": 10.,\n",
    "    \"start_time\": 0.,\n",
    "    \"end_time\": 20.,\n",
    "    \"time_step\": 0.1,\n",
    "}\n",
    "\n",
    "parameters = {\n",
    "    \"contact_rate\": 1.,\n",
    "    \"recovery_rate\": 0.333,\n",
    "    \"death_rate\": 0.05,\n",
    "}"
   ]
  },
  {
   "cell_type": "markdown",
   "id": "dc825e5b-e6f6-49a7-9554-4029e371820d",
   "metadata": {},
   "source": [
    "## Explicit evaluation\n",
    "The comments in the following cell work through how this explicit approach to model evaluation can be performed."
   ]
  },
  {
   "cell_type": "code",
   "execution_count": null,
   "id": "d4c1f36a-8ac5-4438-a586-b821832b50ab",
   "metadata": {},
   "outputs": [],
   "source": [
    "# Get the evaluation times based on the requested parameters\n",
    "time_period = config[\"end_time\"] - config[\"start_time\"]\n",
    "num_steps = int(time_period / config[\"time_step\"]) + 1\n",
    "times = np.linspace(config[\"start_time\"], config[\"end_time\"], num=num_steps)\n",
    "\n",
    "# Prepare for outputs and populate the initial conditions\n",
    "explicit_calcs = np.zeros((num_steps, 3))\n",
    "explicit_calcs[0] = [\n",
    "    config[\"population\"] - config[\"seed\"], \n",
    "    config[\"seed\"],\n",
    "    0.,\n",
    "]\n",
    "\n",
    "# Run the calculations at each modelled time step, except the first one\n",
    "for t_idx, time in enumerate(times[1:], 1):\n",
    "\n",
    "    # Get some quantities that we'll need later\n",
    "    flow_rates = np.zeros(3)\n",
    "    compartment_sizes = explicit_calcs[t_idx - 1]\n",
    "    n_suscept = compartment_sizes[0]\n",
    "    n_infect = compartment_sizes[1]\n",
    "    n_pop = compartment_sizes.sum()\n",
    "    \n",
    "    # Apply the infection process under the assumption of frequency-dependent transmission\n",
    "    force_of_infection = parameters[\"contact_rate\"] * n_infect / n_pop\n",
    "    infection_flow_rate = force_of_infection * n_suscept\n",
    "    flow_rates[0] -= infection_flow_rate\n",
    "    flow_rates[1] += infection_flow_rate\n",
    "\n",
    "    # Recovery of the infectious compartment\n",
    "    recovery_flow_rate = parameters[\"recovery_rate\"] * n_infect\n",
    "    flow_rates[1] -= recovery_flow_rate\n",
    "    flow_rates[2] += recovery_flow_rate\n",
    "    \n",
    "    # Add an infection-specific death flow to the infectious compartment\n",
    "    death_flow_rate = n_infect * parameters[\"death_rate\"]\n",
    "    flow_rates[1] -= death_flow_rate\n",
    "    \n",
    "    # Calculate compartment sizes at the next time step given the calculated flow rates\n",
    "    explicit_calcs[t_idx] = compartment_sizes + flow_rates * config[\"time_step\"]  \n",
    "    \n",
    "compartments = (\n",
    "    \"susceptible\",\n",
    "    \"infectious\",\n",
    "    \"recovered\",\n",
    ")\n",
    "explicit_outputs_df = pd.DataFrame(explicit_calcs, columns=compartments, index=times)"
   ]
  },
  {
   "cell_type": "markdown",
   "id": "138ea851-2ed6-4f12-b708-dae6a934ff9d",
   "metadata": {},
   "source": [
    "## Comparison to the _summer_ approach\n",
    "Now let's create the same system using a _summer_ compartmental model object."
   ]
  },
  {
   "cell_type": "code",
   "execution_count": null,
   "id": "2beb0ca3-cbc4-407b-b327-abe44c0d77a9",
   "metadata": {},
   "outputs": [],
   "source": [
    "def get_sir_model(\n",
    "    model_config: dict,\n",
    ") -> CompartmentalModel:\n",
    "    \"\"\"\n",
    "    This is the same model as from notebook 01.\n",
    "    \n",
    "    Args:\n",
    "        model_config: Values needed for model construction other than the parameter values   \n",
    "    Returns:\n",
    "        The summer model object\n",
    "    \"\"\"\n",
    "    compartments = (\n",
    "        \"susceptible\",\n",
    "        \"infectious\",\n",
    "        \"recovered\",\n",
    "    )\n",
    "    infectious_compartment = [\n",
    "        \"infectious\",\n",
    "    ]\n",
    "    analysis_times = (\n",
    "        model_config[\"start_time\"], \n",
    "        model_config[\"end_time\"]\n",
    "    )\n",
    "    model = CompartmentalModel(\n",
    "        times=analysis_times,\n",
    "        compartments=compartments,\n",
    "        infectious_compartments=infectious_compartment,\n",
    "        # timestep=model_config[\"time_step\"],\n",
    "    )\n",
    "    pop = model_config[\"population\"]\n",
    "    seed = model_config[\"seed\"]\n",
    "    suscept_pop = pop - seed\n",
    "    msg = \"Seed larger than population\"\n",
    "    assert pop >= 0., msg\n",
    "    model.set_initial_population(\n",
    "        distribution={\n",
    "            \"susceptible\": suscept_pop, \n",
    "            \"infectious\": seed}\n",
    "    )\n",
    "    model.add_infection_frequency_flow(\n",
    "        name=\"infection\", \n",
    "        contact_rate=Parameter(\"contact_rate\"), \n",
    "        source=\"susceptible\", \n",
    "        dest=\"infectious\",\n",
    "    )\n",
    "    model.add_transition_flow(\n",
    "        name=\"recovery\", \n",
    "        fractional_rate=Parameter(\"recovery_rate\"), \n",
    "        source=\"infectious\", \n",
    "        dest=\"recovered\",\n",
    "    )\n",
    "    model.add_death_flow(\n",
    "        name=\"infection_death\", \n",
    "        death_rate=Parameter(\"death_rate\"), \n",
    "        source=\"infectious\",\n",
    "    )\n",
    "    return model"
   ]
  },
  {
   "cell_type": "markdown",
   "id": "cb2d59bc-5980-4bba-ae12-2b8d2a13bfd1",
   "metadata": {},
   "source": [
    "## Plotting the two approaches\n",
    "Last, let's confirm that the outputs are indeed the same with the two approaches."
   ]
  },
  {
   "cell_type": "code",
   "execution_count": null,
   "id": "afa17ded-643e-4291-9498-a3193b4992d0",
   "metadata": {},
   "outputs": [],
   "source": [
    "explicit_outputs_df.plot()"
   ]
  },
  {
   "cell_type": "code",
   "execution_count": null,
   "id": "ade5cbe4-92cf-4912-822d-8874c81f1a51",
   "metadata": {},
   "outputs": [],
   "source": [
    "sir_model = get_sir_model(config)\n",
    "sir_model.run(parameters=parameters, solver)\n",
    "compartment_values = sir_model.get_outputs_df()\n",
    "compartment_values.plot()"
   ]
  },
  {
   "cell_type": "code",
   "execution_count": null,
   "id": "06c36c85-b1f2-4ff9-93c6-75ec3fe6f1a2",
   "metadata": {},
   "outputs": [],
   "source": [
    "explicit_outputs_df"
   ]
  },
  {
   "cell_type": "code",
   "execution_count": null,
   "id": "17a04910-54a6-4a6d-b53a-deeec4a4b76d",
   "metadata": {},
   "outputs": [],
   "source": [
    "compartment_values"
   ]
  }
 ],
 "metadata": {
  "kernelspec": {
   "display_name": "Python 3 (ipykernel)",
   "language": "python",
   "name": "python3"
  },
  "language_info": {
   "codemirror_mode": {
    "name": "ipython",
    "version": 3
   },
   "file_extension": ".py",
   "mimetype": "text/x-python",
   "name": "python",
   "nbconvert_exporter": "python",
   "pygments_lexer": "ipython3",
   "version": "3.10.4"
  }
 },
 "nbformat": 4,
 "nbformat_minor": 5
}
