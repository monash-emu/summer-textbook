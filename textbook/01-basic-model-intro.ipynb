{
 "cells": [
  {
   "cell_type": "markdown",
   "metadata": {
    "tags": []
   },
   "source": [
    "# Basic model construction\n",
    "\n",
    "## Introduction\n",
    "The objective of this first notebook is to introduce the _summer_ interface \n",
    "that we will use throughout this series,\n",
    "use it to demonstrate the construction of a simple model,\n",
    "and demonstrate several principles of infectious disease modelling.\n",
    "Because this is the first notebook/chapter, \n",
    "there is slightly more content in this notebook introducing the code packages we will be using.\n",
    "Although the model is so simple that we could actually write this system even more tersely,\n",
    "we'll also try to use good coding habits from the outset.\n",
    "Also, we'll immediately come back to some of the features of our simple model in the following notebooks,\n",
    "including thinking more about flows and how we obtain numerical solutions for our system.\n",
    "In our example model, we will create an SIR compartmental model for a general, unspecified, immunising infectious disease spreading through a fully susceptible population.\n",
    "\n",
    "In this model there will be:\n",
    "\n",
    "- Three compartments, named `susceptible`, `infectious` and `recovered`\n",
    "- A starting population of 1000 people, with 10 of them infected (and infectious)\n",
    "- An evaluation timespan from day zero to 20 units of time\n",
    "- Inter-compartmental flows for infection, death and recovery\n",
    "\n",
    "## Preliminaries\n",
    "As with any Python script, we first have to import the objects we need,\n",
    "plus we'll set the visualisation of pandas objects to be interactive.\n",
    "You'll see similar cells to these in all the notebooks in the series."
   ]
  },
  {
   "cell_type": "code",
   "execution_count": null,
   "metadata": {},
   "outputs": [],
   "source": [
    "# If running on Google Colab, run the following line of code to install the summer package\n",
    "# %pip install summerepi2"
   ]
  },
  {
   "cell_type": "code",
   "execution_count": null,
   "metadata": {},
   "outputs": [],
   "source": [
    "import pandas as pd\n",
    "pd.options.plotting.backend = \"plotly\"\n",
    "\n",
    "from summer2 import CompartmentalModel\n",
    "from summer2.parameters import Parameter"
   ]
  },
  {
   "cell_type": "markdown",
   "metadata": {},
   "source": [
    "## Model definition\n",
    "First, let's create a function that gives us a base SIR model with the\n",
    "basic compartments, starting populations and inter-compartmental flows implemented.\n",
    "Note the steps in model construction included as comments through the following function."
   ]
  },
  {
   "cell_type": "code",
   "execution_count": null,
   "metadata": {},
   "outputs": [],
   "source": [
    "def get_sir_model(\n",
    "    model_config: dict,\n",
    ") -> CompartmentalModel:\n",
    "    \"\"\"\n",
    "    Generate an instance of an SIR model with some standard parameters, \n",
    "    population distribution and parameters hard-coded.\n",
    "    \n",
    "    Args:\n",
    "        model_config: Values needed for model construction other than the parameter values   \n",
    "    Returns:\n",
    "        The summer model object\n",
    "    \"\"\"\n",
    "    \n",
    "    # Name the base model compartments\n",
    "    compartments = (\n",
    "        \"susceptible\",\n",
    "        \"infectious\",\n",
    "        \"recovered\",\n",
    "    )\n",
    "    \n",
    "    # Specify the evaluation times\n",
    "    analysis_times = (\n",
    "        model_config[\"start_time\"], \n",
    "        model_config[\"end_time\"],\n",
    "    )\n",
    "    \n",
    "    # Build the basic models with this information and specify which compartment is infectious\n",
    "    model = CompartmentalModel(\n",
    "        times=analysis_times,\n",
    "        compartments=compartments,\n",
    "        infectious_compartments=[\"infectious\"],\n",
    "    )\n",
    "    \n",
    "    # Assign the starting population\n",
    "    model.set_initial_population(\n",
    "        distribution=\n",
    "        {\n",
    "            \"susceptible\": model_config[\"population\"] - model_config[\"seed\"], \n",
    "            \"infectious\": model_config[\"seed\"],\n",
    "        }\n",
    "    )\n",
    "    \n",
    "    # Add a dynamic infection flow that transitions people from susceptible to infectious\n",
    "    model.add_infection_frequency_flow(\n",
    "        name=\"infection\", \n",
    "        contact_rate=Parameter(\"contact_rate\"),\n",
    "        source=\"susceptible\", \n",
    "        dest=\"infectious\",\n",
    "    )\n",
    "    \n",
    "    # Add a constant flow that transitions people from infectious to recovered\n",
    "    model.add_transition_flow(\n",
    "        name=\"recovery\", \n",
    "        fractional_rate=Parameter(\"recovery\"),\n",
    "        source=\"infectious\", \n",
    "        dest=\"recovered\",\n",
    "    )\n",
    "    \n",
    "    # Add a constant death flow that transitions people from infectious out of the model\n",
    "    model.add_death_flow(\n",
    "        name=\"infection_death\", \n",
    "        death_rate=Parameter(\"infection_death\"),\n",
    "        source=\"infectious\",\n",
    "    )\n",
    "    \n",
    "    # Return the finished model object\n",
    "    return model"
   ]
  },
  {
   "cell_type": "markdown",
   "metadata": {},
   "source": [
    "## Getting the model, running it and examining the results\n",
    "Now we can use our model building function to get an instance of this model,\n",
    "run it, and have a look at the compartment size progression over time.\n",
    "Note that we use the plotting functions built-in to pandas objects to do this.\n",
    "Pandas is a very widely used library for data processing, which we will use extensively in this series.\n",
    "Because there may be considerable output wrangling necessary after we have run our model and this wrangling is not infectious diseases-specific,\n",
    "we prefer use external libraries for these steps.\n",
    "Here we use pandas' easy integration with _plotly_ to create an interactive plot from the pandas\n",
    "object in a single line of code.\n",
    "(Note that this could easily be set to other output formats,\n",
    "e.g. by setting the pandas plotting backend to _matplotlib_ instead.)"
   ]
  },
  {
   "cell_type": "code",
   "execution_count": null,
   "metadata": {},
   "outputs": [],
   "source": [
    "config = {\n",
    "    \"population\": 1000.,\n",
    "    \"seed\": 10.,\n",
    "    \"start_time\": 0.,\n",
    "    \"end_time\": 20.,\n",
    "}\n",
    "\n",
    "parameters = {\n",
    "    \"recovery\": 0.333,\n",
    "    \"infection_death\": 0.05,\n",
    "    \"contact_rate\": 1.,\n",
    "}\n",
    "\n",
    "sir_model = get_sir_model(config)  # Get the model object\n",
    "sir_model.run(parameters=parameters)  # Run it\n",
    "compartment_values = sir_model.get_outputs_df()  # Access the compartment values as a pandas dataframe\n",
    "compartment_values.plot()  # Plot"
   ]
  },
  {
   "cell_type": "markdown",
   "metadata": {},
   "source": [
    "## Digging into the model object\n",
    "Now that we have our `CompartmentalModel` object,\n",
    "we can use this structure to inspect some aspects of what is going on under the surface,\n",
    "for example, compartments, flows and others attributes.\n",
    "This is **highly recommended**, \n",
    "to ensure that the model you have created is consistent with what you were wanting.\n",
    "Try out using tab complete in this notebook to inspect the range of methods and\n",
    "attributes that are available for a `CompartmentalModel` object."
   ]
  },
  {
   "cell_type": "code",
   "execution_count": null,
   "metadata": {},
   "outputs": [],
   "source": [
    "print(sir_model.compartments)\n",
    "print(sir_model.initial_population)\n",
    "print(sir_model.times)\n",
    "compartment_values"
   ]
  },
  {
   "cell_type": "markdown",
   "metadata": {},
   "source": [
    "## Epidemiological messages\n",
    "This is clearly a very simple model of an epidemic caused by a short-lived pathogen that induces complete immunity in its host.\n",
    "However, despite its simplicity, it does capture a surprising number of the actual features of an epidemic caused by an infection\n",
    "of this type.\n",
    "In general, models of infectious diseases transmission should be as complicated as they need to be,\n",
    "which means that the additional complexity that we might need to inject into this model is highly dependent on the purpose that\n",
    "we will be using it for - or the epidemiological question that we will be addressing through our analysis.\n",
    "It may also be dependent on us having sufficient epidemiological understanding of the epidemic to be able to incorporate these\n",
    "features - with a reasonable level of confidence that we are actually capturing the processes that we are interested in\n",
    "(including empiric data to estimate the parameters that we need to build our more complicated model).\n",
    "\n",
    "Let's think of some of the epidemiological features that this very simple model **does** capture:\n",
    "- Very broadly, this model gives us the shape that epi curves often follow - looking vaguely like a bell\n",
    "- There is an exponential growth phase when the population remains largely susceptible\n",
    "- The growth in the epidemic decreases as the proportion of susceptibles decreases\n",
    "- As the effective reproduction number falls past one, the epidemic peaks and begins to decline\n",
    "- The epidemic dies out as the susceptibles decrease and the effective reproduction number drops below one\n",
    "- As the epidemic ends and transmission declines to approximately zero, susceptibles are depleted, but not completely - a proportion of the population remains susceptible even after the epidemic\n",
    "\n",
    "Let's think of some of the epidemiological features that this model **does not** capture:\n",
    "- Any heterogeneity in the background population with regards progression through infection states after exposure\n",
    "- Any heterogeneity in transmission, such as greater transmission to people within the population with similar characteristics\n",
    "- Any heterogeneity in the pathogen, such as multiple strains with different characteristics circulating through the population\n",
    "- Any changes in how people transition through their stages over time that might be induced through changes external to the model\n",
    "(i.e. other than those related to the changes in the population distribution across compartments resulting from transmission of this immunising pathogen)\n",
    "- Tracking any outputs other than the sizes of the model's compartments\n",
    "\n",
    "We will return to these features and how to elaborate our base model to capture them over the following notebooks."
   ]
  }
 ],
 "metadata": {
  "kernelspec": {
   "display_name": "Python 3 (ipykernel)",
   "language": "python",
   "name": "python3"
  },
  "language_info": {
   "codemirror_mode": {
    "name": "ipython",
    "version": 3
   },
   "file_extension": ".py",
   "mimetype": "text/x-python",
   "name": "python",
   "nbconvert_exporter": "python",
   "pygments_lexer": "ipython3",
   "version": "3.10.4"
  },
  "vscode": {
   "interpreter": {
    "hash": "7afc08b952f75bca94590012dd49682c815a0fa68720c270ce23d7ae27bf110a"
   }
  }
 },
 "nbformat": 4,
 "nbformat_minor": 4
}
