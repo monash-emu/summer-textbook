{
 "cells": [
  {
   "cell_type": "markdown",
   "id": "6de900ae-96fe-41c5-bf44-5d6d823bf716",
   "metadata": {
    "tags": []
   },
   "source": [
    "## Obtaining numerical solutions\n",
    "\n",
    "This section presents some code that shows an approximation of what is happening inside the model we just built and ran.\n",
    "This is a sanity check that the outputs look as we would expect if we had coded one of our simple models manually,\n",
    "and is intended to provide some insight into what is going on under the surface.\n",
    "Clearly, coding models in this explicit way would\n",
    "make for overly verbose code if we tried to create a complicated, highly stratified model\n",
    "in this way, and would not utilise many of the convenient features of the _summer_ platform.\n",
    "\n",
    "In the example code below we use the Euler method to solve a system of ordinary differential equations (ODEs),\n",
    "which is defined by the model's flows.\n",
    "However, we don't typically use Euler in our modelling for policy, \n",
    "and a range of different solvers are available in the _summer_ backend."
   ]
  },
  {
   "cell_type": "code",
   "execution_count": null,
   "id": "73bb6bf5-ff79-41dd-8a2d-704f95161776",
   "metadata": {},
   "outputs": [],
   "source": [
    "try:\n",
    "  import google.colab\n",
    "  IN_COLAB = True\n",
    "  %pip install summerepi2\n",
    "except:\n",
    "  IN_COLAB = False"
   ]
  },
  {
   "cell_type": "code",
   "execution_count": null,
   "id": "75a4fa2a-6424-41a1-8476-f861dd1fae92",
   "metadata": {},
   "outputs": [],
   "source": [
    "import numpy as np\n",
    "import pandas as pd\n",
    "from typing import Dict\n",
    "\n",
    "from summer2 import CompartmentalModel\n",
    "from summer2.parameters import Parameter as param\n",
    "\n",
    "pd.options.plotting.backend = \"plotly\""
   ]
  },
  {
   "cell_type": "markdown",
   "id": "161de70b-caee-4024-9116-ffd722976af7",
   "metadata": {},
   "source": [
    "## Declare parameters\n",
    "First, we'll declare a set of parameters we can use with either of our two approaches."
   ]
  },
  {
   "cell_type": "code",
   "execution_count": null,
   "id": "12d8c29f-c905-4b63-b018-ae55e5cbb76a",
   "metadata": {},
   "outputs": [],
   "source": [
    "parameters = {\n",
    "    \"contact_rate\": 1.,\n",
    "    \"recovery_rate\": 0.333,\n",
    "    \"death_rate\": 0.05,\n",
    "    \"population\": 1000.,\n",
    "    \"seed\": 10.,\n",
    "    \"start_time\": 0.,\n",
    "    \"end_time\": 20.,\n",
    "    \"time_step\": 0.1,\n",
    "}"
   ]
  },
  {
   "cell_type": "markdown",
   "id": "dc825e5b-e6f6-49a7-9554-4029e371820d",
   "metadata": {},
   "source": [
    "## Explicit evaluation\n",
    "The block comments in the following cell work through how this explicit approach to model evaluation can be performed."
   ]
  },
  {
   "cell_type": "code",
   "execution_count": null,
   "id": "d4c1f36a-8ac5-4438-a586-b821832b50ab",
   "metadata": {},
   "outputs": [],
   "source": [
    "# Get the evaluation times based on the requested parameters\n",
    "time_period = parameters[\"end_time\"] - parameters[\"start_time\"]\n",
    "num_steps = int(time_period / parameters[\"time_step\"]) + 1\n",
    "times = np.linspace(parameters[\"start_time\"], parameters[\"end_time\"], num=num_steps)\n",
    "\n",
    "# Prepare for outputs and populate the initial conditions\n",
    "explicit_calcs = np.zeros((num_steps, 3))\n",
    "explicit_calcs[0] = [\n",
    "    parameters[\"population\"] - parameters[\"seed\"], \n",
    "    parameters[\"seed\"],\n",
    "    0.,\n",
    "]\n",
    "\n",
    "# Run the calculations at each modelled time step\n",
    "for t_idx, t in enumerate(times):\n",
    "    if t_idx == 0:\n",
    "        continue\n",
    "\n",
    "    # Get some quantities that we'll need later\n",
    "    flow_rates = np.zeros(3)\n",
    "    compartment_sizes = explicit_calcs[t_idx - 1]\n",
    "    n_suscept = compartment_sizes[0]\n",
    "    n_infect = compartment_sizes[1]\n",
    "    n_pop = compartment_sizes.sum()\n",
    "    \n",
    "    # Apply the infection process (under the assumption of frequency-dependent transmission)\n",
    "    force_of_infection = parameters[\"contact_rate\"] * n_infect / n_pop\n",
    "    infection_flow_rate = force_of_infection * n_suscept\n",
    "    flow_rates[0] -= infection_flow_rate\n",
    "    flow_rates[1] += infection_flow_rate\n",
    "\n",
    "    # Recovery of the infectious compartment\n",
    "    recovery_flow_rate = parameters[\"recovery_rate\"] * n_infect\n",
    "    flow_rates[1] -= recovery_flow_rate\n",
    "    flow_rates[2] += recovery_flow_rate\n",
    "    \n",
    "    # Add an infection-specific death flow to the infectious compartment\n",
    "    death_flow_rate = n_infect * parameters[\"death_rate\"]\n",
    "    flow_rates[1] -= death_flow_rate\n",
    "    \n",
    "    # Calculate compartment sizes at the next time step given the calculated flow rates\n",
    "    explicit_calcs[t_idx] = compartment_sizes + flow_rates * parameters[\"time_step\"]  \n",
    "    \n",
    "compartments = (\n",
    "    \"susceptible\",\n",
    "    \"infectious\",\n",
    "    \"recovered\",\n",
    ")\n",
    "explicit_outputs_df = pd.DataFrame(explicit_calcs, columns=compartments, index=times)"
   ]
  },
  {
   "cell_type": "markdown",
   "id": "138ea851-2ed6-4f12-b708-dae6a934ff9d",
   "metadata": {},
   "source": [
    "## Comparison to the _summer_ approach\n",
    "Now let's create the same system using a _summer_ compartmental model object."
   ]
  },
  {
   "cell_type": "code",
   "execution_count": null,
   "id": "2beb0ca3-cbc4-407b-b327-abe44c0d77a9",
   "metadata": {},
   "outputs": [],
   "source": [
    "def get_sir_model(\n",
    "    parameters: Dict,\n",
    ") -> CompartmentalModel:\n",
    "    \"\"\"\n",
    "    This is the same model as from notebook 01.\n",
    "    \n",
    "    Args:\n",
    "        parameters: The parameter values to be used in running the model\n",
    "    Returns:\n",
    "        The summer model object\n",
    "    \"\"\"\n",
    "    \n",
    "    # Define the \n",
    "    compartments = (\n",
    "        \"susceptible\",\n",
    "        \"infectious\",\n",
    "        \"recovered\",\n",
    "    )\n",
    "    infectious_compartment = [\n",
    "        \"infectious\",\n",
    "    ]\n",
    "    analysis_times = (\n",
    "        parameters[\"start_time\"], \n",
    "        parameters[\"end_time\"]\n",
    "    )\n",
    "\n",
    "    model = CompartmentalModel(\n",
    "        times=analysis_times,\n",
    "        compartments=compartments,\n",
    "        infectious_compartments=infectious_compartment,\n",
    "        timestep=parameters[\"time_step\"],\n",
    "    )\n",
    "    \n",
    "    # Check and assign infectious seed\n",
    "    pop = parameters[\"population\"]\n",
    "    seed = parameters[\"seed\"]\n",
    "    suscept_pop = pop - seed\n",
    "    msg = \"Seed larger than population\"\n",
    "    assert pop >= 0., msg\n",
    "    \n",
    "    model.set_initial_population(\n",
    "        distribution={\n",
    "            \"susceptible\": suscept_pop, \n",
    "            \"infectious\": seed}\n",
    "    )\n",
    "    \n",
    "    # Add a frequency-dependent transmission flow\n",
    "    model.add_infection_frequency_flow(\n",
    "        name=\"infection\", \n",
    "        contact_rate=param(\"contact_rate\"), \n",
    "        source=\"susceptible\", \n",
    "        dest=\"infectious\",\n",
    "    )\n",
    "    \n",
    "    # Add a constant recovery flow\n",
    "    model.add_transition_flow(\n",
    "        name=\"recovery\", \n",
    "        fractional_rate=param(\"recovery_rate\"), \n",
    "        source=\"infectious\", \n",
    "        dest=\"recovered\",\n",
    "    )\n",
    "    \n",
    "    # Add a constant infection-related death rate\n",
    "    model.add_death_flow(\n",
    "        name=\"infection_death\", \n",
    "        death_rate=param(\"death_rate\"), \n",
    "        source=\"infectious\",\n",
    "    )\n",
    "    return model"
   ]
  },
  {
   "cell_type": "markdown",
   "id": "cb2d59bc-5980-4bba-ae12-2b8d2a13bfd1",
   "metadata": {},
   "source": [
    "## Plotting the to approaches\n",
    "Last, let's confirm that the outputs are indeed the same with the two approaches."
   ]
  },
  {
   "cell_type": "code",
   "execution_count": null,
   "id": "afa17ded-643e-4291-9498-a3193b4992d0",
   "metadata": {},
   "outputs": [],
   "source": [
    "explicit_outputs_df.plot()"
   ]
  },
  {
   "cell_type": "code",
   "execution_count": null,
   "id": "ade5cbe4-92cf-4912-822d-8874c81f1a51",
   "metadata": {},
   "outputs": [],
   "source": [
    "sir_model = get_sir_model(parameters)\n",
    "sir_model.run(parameters=parameters)\n",
    "compartment_values = sir_model.get_outputs_df()\n",
    "compartment_values.plot()"
   ]
  }
 ],
 "metadata": {
  "kernelspec": {
   "display_name": "Python 3 (ipykernel)",
   "language": "python",
   "name": "python3"
  },
  "language_info": {
   "codemirror_mode": {
    "name": "ipython",
    "version": 3
   },
   "file_extension": ".py",
   "mimetype": "text/x-python",
   "name": "python",
   "nbconvert_exporter": "python",
   "pygments_lexer": "ipython3",
   "version": "3.10.3"
  }
 },
 "nbformat": 4,
 "nbformat_minor": 5
}
