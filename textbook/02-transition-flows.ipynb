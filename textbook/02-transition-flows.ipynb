{
 "cells": [
  {
   "cell_type": "markdown",
   "id": "4d03e881-dacb-44ec-9d75-6585b81c8c65",
   "metadata": {},
   "source": [
    "Let's consider a really simple model without even an infection process,\n",
    "in order to understand the fundamentals of how we should understand transition flows."
   ]
  },
  {
   "cell_type": "code",
   "execution_count": null,
   "id": "ff709f0c-a160-4770-be43-89fe5e10f7dc",
   "metadata": {},
   "outputs": [],
   "source": [
    "# If we are running in google colab, pip install the required packages, \n",
    "# but do not modify local environments\n",
    "# This will be present in all subsequent notebooks\n",
    "try:\n",
    "  import google.colab\n",
    "  IN_COLAB = True\n",
    "  %pip install summerepi2\n",
    "except:\n",
    "  IN_COLAB = False"
   ]
  },
  {
   "cell_type": "code",
   "execution_count": null,
   "id": "0c6f00d7-0c43-471f-9625-32113f019a7b",
   "metadata": {},
   "outputs": [],
   "source": [
    "import pandas as pd\n",
    "import numpy as np\n",
    "from typing import Dict\n",
    "\n",
    "from summer2 import CompartmentalModel\n",
    "from summer2.parameters import Parameter as param\n",
    "\n",
    "pd.options.plotting.backend = \"plotly\""
   ]
  },
  {
   "cell_type": "code",
   "execution_count": null,
   "id": "9f5c397c-c1da-4b09-b447-deb1058e351b",
   "metadata": {},
   "outputs": [],
   "source": [
    "def get_single_transition_model(\n",
    "    parameters: dict\n",
    ") -> CompartmentalModel:\n",
    "    \"\"\"\n",
    "    Generate an instance of a very simple two-compartment model that allows transition\n",
    "    from one of the two states to the other through a single flow linking them, \n",
    "    population distribution and parameters hard-coded.\n",
    "    This is close to the simplest \"closed\" system possible,\n",
    "    such that we're tracking where our starting population goes to and how many\n",
    "    are left in their origin compartment.\n",
    "    \n",
    "    Returns:\n",
    "        The summer model object\n",
    "    \"\"\"\n",
    "    compartments = (\n",
    "        \"healthy\",\n",
    "        \"diseased\",\n",
    "    )\n",
    "    analysis_times = (0, 20)\n",
    "    \n",
    "    model = CompartmentalModel(\n",
    "        times=analysis_times,\n",
    "        compartments=compartments,\n",
    "        infectious_compartments=[],\n",
    "    )\n",
    "    model.set_initial_population(\n",
    "        distribution={\"healthy\": 1.}\n",
    "    )\n",
    "    model.add_transition_flow(\n",
    "        \"onset\", \n",
    "        fractional_rate=param(\"onset_rate\"), \n",
    "        source=\"healthy\", \n",
    "        dest=\"diseased\"\n",
    "    )\n",
    "    return model"
   ]
  },
  {
   "cell_type": "markdown",
   "id": "534488c9-a6a1-4960-99e7-6db061a97705",
   "metadata": {
    "jp-MarkdownHeadingCollapsed": true,
    "tags": []
   },
   "source": [
    "With this single transition flow, \n",
    "people in the source compartment transition to the destination compartment \n",
    "at a _per capita_ rate defined by the flow's parameter.\n",
    "By \"_per capita_\" we mean that the rate of this flow is calculated as the product of the parameter value assigned to the flow rate\n",
    "and the size of the population in the source compartment.\n",
    "\n",
    "With just a single outflow from the source compartment, \n",
    "the sojourn time is the reciprocal of the rate of outflow.\n",
    "(By competing flows, we mean flows that have the same source compartment.)\n",
    "Where multiple flows share a common source compartment, the sojourn time is the reciprocal of the sum of the outflows from that compartment.\n",
    "\n",
    "In the example below, we will add a progression flow called \"onset\" where the average time to developing disease is 0.1 time units.\n",
    "This can be thought of as the mean time to disease onset for someone in the healthy category as being 10 time units."
   ]
  },
  {
   "cell_type": "code",
   "execution_count": null,
   "id": "969d6703-fd49-4659-8693-27bf6d87548c",
   "metadata": {},
   "outputs": [],
   "source": [
    "transition_params = {\n",
    "    \"population\": 1.,\n",
    "    \"onset_rate\": 0.1,\n",
    "}\n",
    "\n",
    "transition_model = get_single_transition_model(transition_params)\n",
    "\n",
    "transition_model.run(parameters=transition_params)\n",
    "compartment_values = transition_model.get_outputs_df()\n",
    "compartment_values.plot()"
   ]
  },
  {
   "cell_type": "markdown",
   "id": "80ba0a32-8919-43bf-8e17-40a4a99d740a",
   "metadata": {},
   "source": [
    "In addition to transition flows, \n",
    "_summer_ also supports a range of other \n",
    "flows that we may wish to apply to our models.\n",
    "\n",
    "|Flow name|Source compartment?|Destination compartment?|\n",
    "|---|---|---|\n",
    "|Infection density|Yes|Yes|\n",
    "|Infection frequency flow|Yes|Yes|\n",
    "|Death flow|Yes|No|\n",
    "|Universal death flows|Yes|No|\n",
    "Crude birth flow (docs)\n",
    "Importation flow (docs)\n",
    "Replacement birth flow (docs)\n",
    "Function flow (docs)"
   ]
  }
 ],
 "metadata": {
  "kernelspec": {
   "display_name": "Python 3 (ipykernel)",
   "language": "python",
   "name": "python3"
  },
  "language_info": {
   "codemirror_mode": {
    "name": "ipython",
    "version": 3
   },
   "file_extension": ".py",
   "mimetype": "text/x-python",
   "name": "python",
   "nbconvert_exporter": "python",
   "pygments_lexer": "ipython3",
   "version": "3.10.3"
  }
 },
 "nbformat": 4,
 "nbformat_minor": 5
}
