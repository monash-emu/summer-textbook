{
 "cells": [
  {
   "cell_type": "code",
   "execution_count": null,
   "id": "c24af200-45f1-4d9b-906e-08ec414f62e0",
   "metadata": {},
   "outputs": [],
   "source": [
    "try:\n",
    "  import google.colab\n",
    "  IN_COLAB = True\n",
    "  %pip install summerepi2\n",
    "except:\n",
    "  IN_COLAB = False"
   ]
  },
  {
   "cell_type": "code",
   "execution_count": null,
   "id": "27c7b19c-5be5-4b4c-bd89-d77fc1177972",
   "metadata": {},
   "outputs": [],
   "source": [
    "import pandas as pd\n",
    "from jax import numpy as jnp\n",
    "from typing import Dict\n",
    "import copy\n",
    "\n",
    "from summer2 import CompartmentalModel\n",
    "from summer2.parameters import Parameter as param\n",
    "from summer2.parameters import Function as func\n",
    "from summer2.parameters import Time\n",
    "\n",
    "pd.options.plotting.backend = \"plotly\""
   ]
  },
  {
   "cell_type": "code",
   "execution_count": null,
   "id": "b68bd594-77d0-4fb4-8000-9b5f593abefe",
   "metadata": {},
   "outputs": [],
   "source": [
    "def get_series_comps_model(\n",
    "    parameters: Dict,\n",
    "    n_comps: 1,\n",
    ") -> CompartmentalModel:\n",
    "    \n",
    "    compartments = [f\"comp_{i_comp}\" for i_comp in range(n_comps)]\n",
    "    analysis_times = (0, 20)\n",
    "    model = CompartmentalModel(\n",
    "        times=analysis_times,\n",
    "        compartments=compartments,\n",
    "        infectious_compartments=[],\n",
    "    )\n",
    "    \n",
    "    # Start everyone from the first compartment\n",
    "    model.set_initial_population(\n",
    "        distribution={\"comp_0\": 1.}\n",
    "    )\n",
    "    \n",
    "    # Adjust the transition rate for the multiple compartments\n",
    "    progression_rate = 1. / param(\"transition_rate\") * n_comps\n",
    "    \n",
    "    # Join up all the sequential compartments with transition flows\n",
    "    for i_comp in range(n_comps - 1):\n",
    "        model.add_transition_flow(\n",
    "            f\"progression_{i_comp}\", \n",
    "            fractional_rate=progression_rate, \n",
    "            source=f\"comp_{i_comp}\", \n",
    "            dest=f\"comp_{i_comp + 1}\"\n",
    "        )\n",
    "    \n",
    "    return model"
   ]
  },
  {
   "cell_type": "code",
   "execution_count": null,
   "id": "217fe605-777b-449b-b235-29bc7b62396c",
   "metadata": {},
   "outputs": [],
   "source": [
    "parameters = {\"transition_rate\": 10.}\n",
    "outputs = {}\n",
    "n_comp_requests = [2, 3, 4] + list(range(6, 10, 2)) + list(range(10, 105, 5))\n",
    "for i in n_comp_requests:\n",
    "    transition_model = get_series_comps_model(parameters, i)\n",
    "    transition_model.run(parameters)\n",
    "    comp_sizes = transition_model.get_outputs_df()\n",
    "    outputs[i] = comp_sizes[f\"comp_{i - 1}\"]"
   ]
  },
  {
   "cell_type": "code",
   "execution_count": null,
   "id": "ccd98df5-ab82-4e35-9984-3130a6c0c44f",
   "metadata": {},
   "outputs": [],
   "source": [
    "outputs_df = pd.DataFrame(outputs)\n",
    "outputs_df.plot(title=\"Last compartment size\")"
   ]
  },
  {
   "cell_type": "code",
   "execution_count": null,
   "id": "59544e1e-7981-4b3d-8d7b-987f16a4e23f",
   "metadata": {},
   "outputs": [],
   "source": [
    "outputs_df.diff().plot(title=\"Transition time\")"
   ]
  }
 ],
 "metadata": {
  "kernelspec": {
   "display_name": "Python 3 (ipykernel)",
   "language": "python",
   "name": "python3"
  },
  "language_info": {
   "codemirror_mode": {
    "name": "ipython",
    "version": 3
   },
   "file_extension": ".py",
   "mimetype": "text/x-python",
   "name": "python",
   "nbconvert_exporter": "python",
   "pygments_lexer": "ipython3",
   "version": "3.10.3"
  }
 },
 "nbformat": 4,
 "nbformat_minor": 5
}
