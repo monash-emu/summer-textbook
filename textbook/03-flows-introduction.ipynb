{
 "cells": [
  {
   "cell_type": "markdown",
   "id": "4d03e881-dacb-44ec-9d75-6585b81c8c65",
   "metadata": {},
   "source": [
    "# Thinking about flows\n",
    "## A single transition flow\n",
    "Taking a step back from the simple model presented in the previous notebook, \n",
    "this notebook digs into what we mean by a transition flow.\n",
    "To do this, let's consider a really simple model without even an infection process,\n",
    "and only a single transition flow between two compartments.\n",
    "![](../images/source_dest_structure.svg)"
   ]
  },
  {
   "cell_type": "code",
   "execution_count": null,
   "id": "083202e4-033f-4a15-a634-0e42252a550b",
   "metadata": {},
   "outputs": [],
   "source": [
    "# If running on Google Colab, run the following line of code to install the summer package\n",
    "# %pip install summerepi2"
   ]
  },
  {
   "cell_type": "code",
   "execution_count": null,
   "id": "0c6f00d7-0c43-471f-9625-32113f019a7b",
   "metadata": {},
   "outputs": [],
   "source": [
    "import pandas as pd\n",
    "import numpy as np\n",
    "pd.options.plotting.backend = \"plotly\"\n",
    "\n",
    "from summer2 import CompartmentalModel\n",
    "from summer2.parameters import Parameter"
   ]
  },
  {
   "cell_type": "code",
   "execution_count": null,
   "id": "9f5c397c-c1da-4b09-b447-deb1058e351b",
   "metadata": {},
   "outputs": [],
   "source": [
    "def get_single_transition_model(\n",
    "    model_config: dict\n",
    ") -> CompartmentalModel:\n",
    "    \"\"\"\n",
    "    Generate an instance of an extremely simple two-compartment model that allows transition\n",
    "    from one of the two states to the other through a single flow linking them.\n",
    "    \n",
    "    Args:\n",
    "        model_config: Non-parameter values needed to define the model structure    \n",
    "    Returns:\n",
    "        The summer model object\n",
    "    \"\"\"\n",
    "    compartments = (\n",
    "        \"source\",\n",
    "        \"destination\",\n",
    "    )\n",
    "    analysis_times = (\n",
    "        model_config[\"start_time\"], \n",
    "        model_config[\"end_time\"],\n",
    "    )\n",
    "    \n",
    "    model = CompartmentalModel(\n",
    "        times=analysis_times,\n",
    "        compartments=compartments,\n",
    "        infectious_compartments=[],\n",
    "    )\n",
    "    model.set_initial_population(\n",
    "        distribution={\"source\": model_config[\"population\"]}\n",
    "    )\n",
    "    model.add_transition_flow(\n",
    "        \"transition\", \n",
    "        fractional_rate=Parameter(\"transition_rate\"), \n",
    "        source=\"source\", \n",
    "        dest=\"destination\"\n",
    "    )\n",
    "    return model"
   ]
  },
  {
   "cell_type": "markdown",
   "id": "534488c9-a6a1-4960-99e7-6db061a97705",
   "metadata": {
    "jp-MarkdownHeadingCollapsed": true,
    "tags": []
   },
   "source": [
    "With this single transition flow, \n",
    "people in the source compartment transition to the destination compartment \n",
    "at a _per capita_ rate defined by the flow's parameter.\n",
    "By \"_per capita_\" we mean that the rate of this flow is calculated as the product of the parameter value assigned to the flow rate\n",
    "and the size of the population in the source compartment.\n",
    "_summer_ will automatically multiply the rate associated with a particular flow\n",
    "by the size of the compartment it is being applied to."
   ]
  },
  {
   "cell_type": "code",
   "execution_count": null,
   "id": "969d6703-fd49-4659-8693-27bf6d87548c",
   "metadata": {},
   "outputs": [],
   "source": [
    "config = {\n",
    "    \"population\": 1.,\n",
    "    \"start_time\": 0.,\n",
    "    \"end_time\": 20.,\n",
    "}\n",
    "parameter = {\n",
    "    \"transition_rate\": 0.1,\n",
    "}\n",
    "\n",
    "transition_model = get_single_transition_model(config)\n",
    "\n",
    "transition_model.run(parameters=parameter)\n",
    "\n",
    "transition_model.get_outputs_df().plot(\n",
    "    labels={\"index\": \"time\", \"value\": \"proportion\"},\n",
    ")"
   ]
  },
  {
   "cell_type": "markdown",
   "id": "fc3e6fcf-2711-41f1-a459-fa4ad1cd9d04",
   "metadata": {},
   "source": [
    "## Analytic equivalent\n",
    "For a model as simple as this,\n",
    "it is easy to recreate the same system analytically,\n",
    "as shown below.\n",
    "However, very quickly as we start to add compartments and complexity to our models,\n",
    "we reach the point that we cannot exactly predict compartment sizes\n",
    "without solving the system numerically,\n",
    "which we will address in the next notebook."
   ]
  },
  {
   "cell_type": "code",
   "execution_count": null,
   "id": "88365627-299d-49c3-a32a-39a0c24b7394",
   "metadata": {},
   "outputs": [],
   "source": [
    "pd.DataFrame(\n",
    "    {\n",
    "        \"source\": np.exp([-parameter[\"transition_rate\"] * i_time for i_time in range(21)]),\n",
    "        \"destination\": 1. - np.exp([-parameter[\"transition_rate\"] * i_time for i_time in range(21)]),\n",
    "    }\n",
    ").plot(\n",
    "    labels={\"index\": \"time\", \"value\": \"proportion\"},\n",
    ")"
   ]
  },
  {
   "cell_type": "markdown",
   "id": "80ba0a32-8919-43bf-8e17-40a4a99d740a",
   "metadata": {},
   "source": [
    "## Other flow types\n",
    "In infectious diseases modelling, \n",
    "transition flows should be used to represent a person's progression from one state to another.\n",
    "For example, a person may recover from active disease some period of time after being infected.\n",
    "Of course, transition flows are not the only type of flow that we might want to include in our models.\n",
    "_summer_ also supports a range of other flows that we may wish to use.\n",
    "All of these are described in more detail in the _summer_ documentation\n",
    "and the epidemiological considerations associated with some of these will be discussed in later notebooks.\n",
    "The following is a very brief list of the available flows\n",
    "and whether each flow has a source/origin compartment\n",
    "and a destination compartment.\n",
    "\n",
    "|Flow name|Source compartment?|Destination compartment?|\n",
    "|---|---|---|\n",
    "|Infection density|Yes|Yes|\n",
    "|Infection frequency flow|Yes|Yes|\n",
    "|Death flow|Yes|No|\n",
    "|Universal death flows|Yes|No|\n",
    "|Importation flow|No|Yes|\n",
    "|Crude birth flow|No|Yes|\n",
    "|Replacement birth flow|No|Yes|\n",
    "\n",
    "Also note that _summer_ does not restrict the user to using only fixed rates for flows\n",
    "and functions of time or other emergent quantities from the model can be used to modify the flow rates.\n",
    "Flow can also be adjusted after they are first applied,\n",
    "including through the process of stratification.\n",
    "This is described in more detail in the _summer_ documentation."
   ]
  }
 ],
 "metadata": {
  "kernelspec": {
   "display_name": "Python 3 (ipykernel)",
   "language": "python",
   "name": "python3"
  },
  "language_info": {
   "codemirror_mode": {
    "name": "ipython",
    "version": 3
   },
   "file_extension": ".py",
   "mimetype": "text/x-python",
   "name": "python",
   "nbconvert_exporter": "python",
   "pygments_lexer": "ipython3",
   "version": "3.10.4"
  }
 },
 "nbformat": 4,
 "nbformat_minor": 5
}
