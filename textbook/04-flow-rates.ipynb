{
 "cells": [
  {
   "cell_type": "markdown",
   "id": "532221fc-fa8e-46d9-80c4-9699953fde37",
   "metadata": {},
   "source": [
    "# Thinking about flow rates\n",
    "## Risk and rates\n",
    "The parameters applied to the flows in compartmental models  represent the rate of transition,\n",
    "e.g. the rate of transition from the source to destination compartment\n",
    "discussed in [notebook 03](./03-flows-introduction.ipynb).\n",
    "However, in epidemiology, often the empiric data we are dealing with \n",
    "has not been provided us in the format of a rate (per unit time).\n",
    "More commonly, we might know the risk of a process happening,\n",
    "either over the course of an illness episode or over a period of time.\n",
    "It's really important to understand the relationship between \n",
    "the parameters values applied to flows\n",
    "and field epidemiological observations."
   ]
  },
  {
   "cell_type": "code",
   "execution_count": null,
   "id": "03216b91-5c97-4dad-afe5-0034c5e2e091",
   "metadata": {},
   "outputs": [],
   "source": [
    "try:\n",
    "    import google.colab\n",
    "    %pip install summerepi2==1.1.1\n",
    "except:\n",
    "    pass"
   ]
  },
  {
   "cell_type": "code",
   "execution_count": null,
   "id": "080b8f6d-66ae-40ec-9395-e3ff4b65f0f1",
   "metadata": {},
   "outputs": [],
   "source": [
    "import numpy as np\n",
    "\n",
    "from summer2 import CompartmentalModel\n",
    "from summer2.parameters import Parameter"
   ]
  },
  {
   "cell_type": "markdown",
   "id": "4e3a84f5-41e5-4cc3-ab61-37f563a93363",
   "metadata": {},
   "source": [
    "To get started thinking about risks and rates,\n",
    "let's grab our extremely simple single transition model from the [previous notebook](./03-flows-introduction.ipynb)."
   ]
  },
  {
   "cell_type": "code",
   "execution_count": null,
   "id": "adbcd883-063e-4802-a83e-96ad02e95851",
   "metadata": {},
   "outputs": [],
   "source": [
    "def get_single_transition_model(\n",
    "    config: dict,\n",
    ") -> CompartmentalModel:\n",
    "    \n",
    "    compartments = (\n",
    "        \"source\",\n",
    "        \"destination\",\n",
    "    )\n",
    "    analysis_times = (0.0, config[\"end_time\"])\n",
    "    model = CompartmentalModel(\n",
    "        times=analysis_times,\n",
    "        compartments=compartments,\n",
    "        infectious_compartments=[],\n",
    "    )\n",
    "    model.set_initial_population(\n",
    "        distribution={\"source\": config[\"population\"]}\n",
    "    )\n",
    "    \n",
    "    model.add_transition_flow(\n",
    "        \"transition\", \n",
    "        fractional_rate=Parameter(\"transition_rate\"), \n",
    "        source=\"source\", \n",
    "        dest=\"destination\"\n",
    "    )\n",
    "    \n",
    "    return model"
   ]
  },
  {
   "cell_type": "code",
   "execution_count": null,
   "id": "19961ba3-c472-4ed9-8d1a-e61cf8641698",
   "metadata": {},
   "outputs": [],
   "source": [
    "model_config = {\n",
    "    \"population\": 1.0,\n",
    "    \"end_time\": 20.0,\n",
    "}\n",
    "parameter = {\n",
    "    \"transition_rate\": 0.1,\n",
    "}\n",
    "\n",
    "transition_model = get_single_transition_model(model_config)\n",
    "transition_model.run(parameters=parameter)\n",
    "\n",
    "risk_time = 10.0\n",
    "dec_places = 3\n",
    "risk_value = round(transition_model.get_outputs_df()[\"destination\"][risk_time], dec_places)\n",
    "\n",
    "print(f\"The risk of reaching the destination compartment after ten time units is {risk_value}\")"
   ]
  },
  {
   "cell_type": "markdown",
   "id": "95965ca3-97f9-455c-8198-ee47921ba81b",
   "metadata": {},
   "source": [
    "As introduced in the previous notebook,\n",
    "where we have a single outflow from our compartment of interest,\n",
    "the relationship between the size of the destination compartment\n",
    "and the transition rate can be given by:\n",
    "$$ risk = 1 - e^{-rate \\times t} $$\n",
    "This is the risk of reaching the destination compartment after $t$ time units have elapsed.\n",
    "\n",
    "Solving for rate, we have:\n",
    "$$ rate = \\frac{-log_{e}(1 - risk)}{t} $$\n",
    "So we could use this rearrangement of the formula to work backwards and calculate that\n",
    "the rate we should apply to the source compartment using empiric data.\n",
    "\n",
    "This would be the approach we should use \n",
    "if we had epidemiological evidence that told us that 63.2% of people\n",
    "had reached the destination compartment after ten time units\n",
    "(e.g. from a cohort study or clinical trial that reports information in this way)."
   ]
  },
  {
   "cell_type": "code",
   "execution_count": null,
   "id": "3c9d1009-6a06-49e9-ac72-e383181eb6ff",
   "metadata": {},
   "outputs": [],
   "source": [
    "recalculated_rate = round(-np.log(1.0 - risk_value) / risk_time, dec_places)\n",
    "print(f\"To achieve a risk of {risk_value} after {round(risk_time)} time units, we need a rate of {0.632}.\")"
   ]
  },
  {
   "cell_type": "markdown",
   "id": "97d2314b-3cc3-448b-a376-b60fcb3e92b6",
   "metadata": {},
   "source": [
    "## Competing flows\n",
    "Let's dig into what applying these flows to a model means a little further.\n",
    "The analyses in this notebook are extremely simple,\n",
    "and are just intended to give a sense for how to think about flows and compartments.\n",
    "Consider a very similar model to the one we saw in the previous notebook,\n",
    "but with two competing transition flows applied to our source compartment instead of one.\n",
    "\n",
    "![](../images/source_two_dest_structure.svg)"
   ]
  },
  {
   "cell_type": "code",
   "execution_count": null,
   "id": "03bd9f63-207a-4090-ba9a-9bf6a63eb4fd",
   "metadata": {},
   "outputs": [],
   "source": [
    "def get_competing_transition_model(\n",
    "    config: dict,\n",
    ") -> CompartmentalModel:\n",
    "    \n",
    "    compartments = (\n",
    "        \"source\",\n",
    "        \"destination_0\",\n",
    "        \"destination_1\",\n",
    "    )\n",
    "    analysis_times = (0.0, config[\"end_time\"])\n",
    "    model = CompartmentalModel(\n",
    "        times=analysis_times,\n",
    "        compartments=compartments,\n",
    "        infectious_compartments=[],\n",
    "    )\n",
    "    model.set_initial_population(\n",
    "        distribution={\"source\": config[\"population\"]}\n",
    "    )\n",
    "    \n",
    "    model.add_transition_flow(\n",
    "        \"transition_0\", \n",
    "        fractional_rate=Parameter(\"transition_0\"), \n",
    "        source=\"source\", \n",
    "        dest=\"destination_0\"\n",
    "    )\n",
    "    model.add_transition_flow(\n",
    "        \"transition_1\", \n",
    "        fractional_rate=Parameter(\"transition_1\"), \n",
    "        source=\"source\", \n",
    "        dest=\"destination_1\"\n",
    "    )\n",
    "    \n",
    "    return model"
   ]
  },
  {
   "cell_type": "code",
   "execution_count": null,
   "id": "59e5c55a-27e8-4d07-8ac8-07570d24a2d8",
   "metadata": {},
   "outputs": [],
   "source": [
    "model_config = {\n",
    "    \"population\": 1.0,\n",
    "    \"end_time\": 200.0,\n",
    "}\n",
    "parameters = {\n",
    "    \"transition_0\": 0.01,\n",
    "    \"transition_1\": 0.02,\n",
    "}\n",
    "\n",
    "transition_model = get_competing_transition_model(model_config)\n",
    "transition_model.run(parameters=parameters)\n",
    "outputs = transition_model.get_outputs_df()"
   ]
  },
  {
   "cell_type": "markdown",
   "id": "e2dbde74-eec3-430b-8d9e-ae3782361f69",
   "metadata": {
    "tags": []
   },
   "source": [
    "## Sojourn times\n",
    "When considering the rate at which a person exits a compartment in the absence of any inward flows,\n",
    "the rate of exiting the compartment is the sum of the outflow rates.\n",
    "In this example, the average time spent in the `source` compartment is \n",
    "the reciprocal of the sum of the two transition rates.\n",
    "\n",
    "If these rates remain constant over time and in the absence of inward flows,\n",
    "the size of the compartment at time $t$ is:\n",
    "$$ e ^{-outflows \\times t} $$\n",
    "and the average time in the compartment is given by:\n",
    "$$ \\int_0^\\infty e ^{-outflows \\times t} dt $$\n",
    "which is equal to:\n",
    "$$ \\frac{1}{outflows} $$\n",
    "This can also be termed the \"sojourn time\" of the compartment."
   ]
  },
  {
   "cell_type": "code",
   "execution_count": null,
   "id": "a6f319f9-0bb5-4acd-a25e-c8bf749ce842",
   "metadata": {},
   "outputs": [],
   "source": [
    "print(f\"The average sojourn time for the source compartment is {round(1.0 / sum(parameters.values()), 2)} time units.\")"
   ]
  },
  {
   "cell_type": "markdown",
   "id": "76dcd247-f584-4525-9f05-10cf0532e3dd",
   "metadata": {},
   "source": [
    "We can check this numerically by multiplying the number of people arriving in the destination\n",
    "compartment at each time step by the time it took them to arrive there\n",
    "(although this gives us a very slight underestimate \n",
    "because the model isn't run for infinite time)."
   ]
  },
  {
   "cell_type": "code",
   "execution_count": null,
   "id": "a1490737-54f3-48b8-b0fa-a4f8eecf62d9",
   "metadata": {},
   "outputs": [],
   "source": [
    "weighted_arrival_times = outputs.diff()[\"source\"] * outputs.index\n",
    "print(f\"The average time to arrive in the destination compartment is {-weighted_arrival_times.sum()}\")"
   ]
  },
  {
   "cell_type": "markdown",
   "id": "f126310c-aed4-4f6b-bd06-c121f1338216",
   "metadata": {},
   "source": [
    "## Median transition time\n",
    "Of course, this does not imply that half of the population \n",
    "will have left the `source` category after one sojourn time.\n",
    "To obtain this value we would solve the equation:\n",
    "$$ e ^{-outflows \\times t} = \\tfrac{1}{2} $$\n",
    "to get:\n",
    "$$ \\frac{-log(\\tfrac{1}{2})}{outflows} $$"
   ]
  },
  {
   "cell_type": "code",
   "execution_count": null,
   "id": "7ac8abb2-2b82-42ec-a176-656875cecfca",
   "metadata": {},
   "outputs": [],
   "source": [
    "print(f\"The time when half of the population have left the source is {round(-np.log(0.5) / sum(parameters.values()), 3)} time units.\")"
   ]
  },
  {
   "cell_type": "markdown",
   "id": "dd413142-3ef9-4e59-81d0-a48b67224b6a",
   "metadata": {},
   "source": [
    "Again, we can check whether this is approximately correct \n",
    "from the numerical solutions we obtained for our simple model."
   ]
  },
  {
   "cell_type": "code",
   "execution_count": null,
   "id": "23b0e66a-2072-41ca-bdf9-14401687d109",
   "metadata": {},
   "outputs": [],
   "source": [
    "print(f\"The first time step with more than half the source compartment depleted is {outputs['source'][outputs['source'].lt(0.5)].index[0]} time units.\")"
   ]
  },
  {
   "cell_type": "markdown",
   "id": "9da43d53-ed0a-4117-83b8-28a6adf796b5",
   "metadata": {},
   "source": [
    "## Risks from competing rates\n",
    "Often in epidemiology,\n",
    "we may want to think about the risk of an outcome for a person in a particular state.\n",
    "For example, we may want to know what the risk of ending up\n",
    "in the `destination_0` compartment rather than `destination_1`.\n",
    "A more real-world example may be if we have applied a recovery\n",
    "and a death flow to the infectious model compartment and want to calculate\n",
    "the infection fatality rate that this implies.\n",
    "In this example, there are only two possible outcomes,\n",
    "which are applied together for any person entering this compartment,\n",
    "and these flows compete with one another.\n",
    "\n",
    "The risk of following each of the outflows from the compartment is\n",
    "proportional to the magnitude or rate of that flow.\n",
    "In our example, \n",
    "the risk of transition_0 for a person entering the source compartment\n",
    "is the rate of transition_0 divided by the total of all outflows."
   ]
  },
  {
   "cell_type": "code",
   "execution_count": null,
   "id": "3e4ac61c-c1e6-480a-a938-040898dd8451",
   "metadata": {},
   "outputs": [],
   "source": [
    "print(f\"The risk of following transition_0 is {round(parameters['transition_0'] / sum(parameters.values()) * 100)}%.\")"
   ]
  },
  {
   "cell_type": "markdown",
   "id": "1aca4427-3608-40d5-a234-69130afbd940",
   "metadata": {},
   "source": [
    "This is probably pretty obvious,\n",
    "but we can easily check from our numeric solutions."
   ]
  },
  {
   "cell_type": "code",
   "execution_count": null,
   "id": "3226a0d8-7afd-4ad8-8efd-d30dbb7b1f30",
   "metadata": {},
   "outputs": [],
   "source": [
    "outputs[\"destination_0\"] / outputs[[\"destination_0\", \"destination_1\"]].sum(axis=1)"
   ]
  },
  {
   "cell_type": "markdown",
   "id": "086f1b1f-ba71-41cb-b0ff-f3219d12573f",
   "metadata": {},
   "source": [
    "These considerations are often important when we come \n",
    "to estimating parameters for our system.\n",
    "\n",
    "## Non-proportional hazards\n",
    "Things may often not be as easy as we would like,\n",
    "and the proportion of people reaching one outcome\n",
    "rather than the other may be different depending on \n",
    "the time point that we consider.\n",
    "In this situation, we should not apply our risk/rate logic \n",
    "to a single compartment directly \n",
    "if we have information on the risk of two competing outcomes at\n",
    "two different points in time.\n",
    "\n",
    "For example, we might know that 30% of people recover \n",
    "and 70% of people die as a result of a particular infection,\n",
    "and that recoveries occur after an average of 5 days\n",
    "but the deaths occur after an average of 10 days.\n",
    "We can't calculate the two flow rates from risks using\n",
    "our earlier equation for deriving rates from risks.\n",
    "\n",
    "There are a few options available for a situation like this,\n",
    "but we would first have to decide whether to explicitly represent\n",
    "the two processes with compartments of their own.\n",
    "If we did this, we could make the two calculations separately,\n",
    "which would be a valid approach and might be the simplest option.\n",
    "However, if we really wanted to reduce complexity and represent \n",
    "the two competing outcomes as outflows from one compartment,\n",
    "it may be impossible to incorporate all of our empiric data\n",
    "using flows represented by exponential declines.\n",
    "Rather, the best we could do would be to decide on \n",
    "the proportion of people that should reach each of \n",
    "out two outcomes and settle on an average sojourn time\n",
    "for anyone entering the compartment.\n",
    "\n",
    "Nevertheless, if we understand these principles of model parameterisation,\n",
    "we can make a judgement about what the least unrealistic\n",
    "model parameter choices are to the situation at hand."
   ]
  }
 ],
 "metadata": {
  "kernelspec": {
   "display_name": "Python 3 (ipykernel)",
   "language": "python",
   "name": "python3"
  },
  "language_info": {
   "codemirror_mode": {
    "name": "ipython",
    "version": 3
   },
   "file_extension": ".py",
   "mimetype": "text/x-python",
   "name": "python",
   "nbconvert_exporter": "python",
   "pygments_lexer": "ipython3",
   "version": "3.10.3"
  }
 },
 "nbformat": 4,
 "nbformat_minor": 5
}
