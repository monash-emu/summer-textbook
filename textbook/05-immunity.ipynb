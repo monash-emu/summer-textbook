{
 "cells": [
  {
   "cell_type": "markdown",
   "id": "16100eb7-30be-41b9-996c-bbbba620f7e3",
   "metadata": {},
   "source": [
    "# Post-infection immunity\n",
    "Considerations around the extent of immunity are critical in determining \n",
    "the long-term dynamics of infectious diseases.\n",
    "\n",
    "## Structural assumptions regarding immunity\n",
    "Let's have a brief look at the following structural assumptions\n",
    "we could make around the extent and duration of post-infection immunity.\n",
    "These can be termed SI, SIR, SIS and SIRS.\n",
    "![](../images/immunity_structures.svg)"
   ]
  },
  {
   "cell_type": "code",
   "execution_count": null,
   "id": "358061ae-0a8a-4b84-b8aa-8c84b2fed613",
   "metadata": {},
   "outputs": [],
   "source": [
    "# If running on Google Colab, run the following line of code to install the summer package\n",
    "# %pip install summerepi2"
   ]
  },
  {
   "cell_type": "code",
   "execution_count": null,
   "id": "39af0417-1c05-4542-bd73-645f7557fec5",
   "metadata": {},
   "outputs": [],
   "source": [
    "import pandas as pd\n",
    "pd.options.plotting.backend = \"plotly\"\n",
    "\n",
    "from summer2 import CompartmentalModel\n",
    "from summer2.parameters import Parameter"
   ]
  },
  {
   "cell_type": "code",
   "execution_count": null,
   "id": "c1b33742-3fd4-4acf-8686-d1041b4d6fe0",
   "metadata": {},
   "outputs": [],
   "source": [
    "def get_si_base_structure(\n",
    "    model_config: dict,\n",
    "    extra_comps=[],\n",
    ") -> CompartmentalModel:\n",
    "    \"\"\"\n",
    "    Generate a mode that doesn't do much in itself, but has some basic\n",
    "    characteristics that we can then use to add in different assumptions\n",
    "    around post-infection immunity.\n",
    "    We don't apply the infection process yet, as the destination compartment\n",
    "    for infection will be determined later.\n",
    "    \n",
    "    Args:\n",
    "        model_config: The fixed values used in creating the model structure\n",
    "        extra_comps: Any compartments to incorporate in addition to the base ones\n",
    "    Returns:\n",
    "        The summer model object\n",
    "    \"\"\"\n",
    "    \n",
    "    # Compartments are comprised of the base ones and any additional latency compartments requested\n",
    "    compartments = [\n",
    "        \"susceptible\",\n",
    "        \"infectious\",\n",
    "    ] + extra_comps\n",
    "    \n",
    "    # Otherwise the model is very similar to that from notebook 01, as follows\n",
    "    infectious_compartment = [\"infectious\"]\n",
    "    analysis_times = (\n",
    "        model_config[\"start_time\"], \n",
    "        model_config[\"end_time\"],\n",
    "    )\n",
    "    model = CompartmentalModel(\n",
    "        times=analysis_times,\n",
    "        compartments=compartments,\n",
    "        infectious_compartments=infectious_compartment,\n",
    "    )\n",
    "    pop = model_config[\"population\"]\n",
    "    seed = model_config[\"seed\"]\n",
    "    suscept_pop = pop - seed\n",
    "    msg = \"Seed larger than population\"\n",
    "    assert pop >= 0., msg\n",
    "    model.set_initial_population(\n",
    "        distribution={\n",
    "            \"susceptible\": suscept_pop, \n",
    "            \"infectious\": seed}\n",
    "    )\n",
    "    model.add_infection_frequency_flow(\n",
    "        name=\"infection\", \n",
    "        contact_rate=Parameter(\"contact_rate\"),\n",
    "        source=\"susceptible\", \n",
    "        dest=\"infectious\",\n",
    "    )\n",
    "    return model"
   ]
  },
  {
   "cell_type": "code",
   "execution_count": null,
   "id": "68ac3036-f599-45c1-8d91-9aa2f18e28e7",
   "metadata": {},
   "outputs": [],
   "source": [
    "config = {\n",
    "    \"population\": 1.,\n",
    "    \"seed\": 0.001,\n",
    "    \"start_time\": 0.,\n",
    "    \"end_time\": 40.,\n",
    "}\n",
    "\n",
    "parameters = {\n",
    "    \"contact_rate\": 1.,\n",
    "    \"recovery_rate\": 0.333,\n",
    "    \"death_rate\": 0.05,\n",
    "}"
   ]
  },
  {
   "cell_type": "markdown",
   "id": "caff0c28-3a91-440a-aeb5-22ee7fe1e03d",
   "metadata": {},
   "source": [
    "### SI structure\n",
    "We can represent permanent infection and infectiousness\n",
    "by ensuring that anyone entering the `infectious` compartment\n",
    "remains forever trapped within this state.\n",
    "There are few infectious diseases that would be accurately\n",
    "represented with this structural assumption."
   ]
  },
  {
   "cell_type": "code",
   "execution_count": null,
   "id": "2343592b-6a72-474e-8ba6-177bd571cd6b",
   "metadata": {},
   "outputs": [],
   "source": [
    "si_model = get_si_base_structure(config, [])\n",
    "\n",
    "si_model.run(parameters=parameters)\n",
    "si_values = si_model.get_outputs_df()\n",
    "si_values.plot()"
   ]
  },
  {
   "cell_type": "markdown",
   "id": "6fbcad54-9b7a-4e72-bb38-c76b697f08a2",
   "metadata": {},
   "source": [
    "### SIR structure\n",
    "For context, let's next consider the model we have been\n",
    "using throughout several of the preceding notebooks.\n",
    "Here we assume that immunity to reinfection is \n",
    "permanent and complete, which may be appropriate\n",
    "for some infectious diseases."
   ]
  },
  {
   "cell_type": "code",
   "execution_count": null,
   "id": "0778ee0f-80db-442f-90d8-8263ac85e776",
   "metadata": {},
   "outputs": [],
   "source": [
    "sir_model = get_si_base_structure(config, [\"recovered\"])\n",
    "\n",
    "sir_model.add_transition_flow(\n",
    "    name=\"recovery\", \n",
    "    fractional_rate=Parameter(\"recovery_rate\"), \n",
    "    source=\"infectious\", \n",
    "    dest=\"recovered\",\n",
    ")\n",
    "\n",
    "sir_model.run(parameters=parameters)\n",
    "sir_values = sir_model.get_outputs_df()\n",
    "sir_values.plot()"
   ]
  },
  {
   "cell_type": "markdown",
   "id": "07710ea8-c836-4645-96b4-9ee4b60e8772",
   "metadata": {},
   "source": [
    "### SIS structure\n",
    "Under this structure,\n",
    "no immunity is conferred by infection.\n",
    "That is, recovered individuals are at the same\n",
    "risk of reinfection as those who have never been infected."
   ]
  },
  {
   "cell_type": "code",
   "execution_count": null,
   "id": "00f098fb-aa17-4aa3-9363-59b50c694510",
   "metadata": {},
   "outputs": [],
   "source": [
    "sis_model = get_si_base_structure(config)\n",
    "\n",
    "sis_model.add_transition_flow(\n",
    "    name=\"recovery\", \n",
    "    fractional_rate=Parameter(\"recovery_rate\"), \n",
    "    source=\"infectious\", \n",
    "    dest=\"susceptible\",\n",
    ")\n",
    "\n",
    "sis_model.run(parameters=parameters)\n",
    "sis_values = sis_model.get_outputs_df()\n",
    "sis_values.plot()"
   ]
  },
  {
   "cell_type": "markdown",
   "id": "a443bb9f-33fd-4b08-9680-725c8d0e7687",
   "metadata": {},
   "source": [
    "### SIRS structure\n",
    "Under this assumption,\n",
    "complete immunity is obtained for a limited period\n",
    "after recovery from the infectious state.\n",
    "After an initial epidemic wave depletes the susceptible population,\n",
    "the model approaches an equilibrium state in which\n",
    "the rate of infection offsets the rate of waning of immunity\n",
    "from the recovered population."
   ]
  },
  {
   "cell_type": "code",
   "execution_count": null,
   "id": "71e381c1-c9ac-49b8-b7e6-8ef2f65c97fe",
   "metadata": {},
   "outputs": [],
   "source": [
    "parameters.update(\n",
    "    {\"immunity_waning\": 0.1}\n",
    ")\n",
    "sirs_model = get_si_base_structure(config, [\"recovered\"])\n",
    "\n",
    "sirs_model.add_transition_flow(\n",
    "    name=\"recovery\", \n",
    "    fractional_rate=Parameter(\"recovery_rate\"), \n",
    "    source=\"infectious\", \n",
    "    dest=\"recovered\",\n",
    ")\n",
    "\n",
    "sirs_model.add_transition_flow(\n",
    "    name=\"immunity_waning\",\n",
    "    fractional_rate=Parameter(\"immunity_waning\"),\n",
    "    source=\"recovered\",\n",
    "    dest=\"susceptible\",\n",
    ")\n",
    "\n",
    "sirs_model.run(parameters=parameters)\n",
    "sirs_values = sirs_model.get_outputs_df()\n",
    "sirs_values.plot()"
   ]
  },
  {
   "cell_type": "markdown",
   "id": "edc9a116-7047-47cc-8340-4fa0dfff286d",
   "metadata": {
    "tags": []
   },
   "source": [
    "## Tracking immunity status\n",
    "One really important consideration whenever constructing\n",
    "compartmental models of infectious disease transmission\n",
    "is that these models are \"memory-less\".\n",
    "That is, the model state at future time points are entirely\n",
    "determined by the model's current state.\n",
    "Therefore, although we can calculate the rate of \n",
    "new persons transitioning between two given model states\n",
    "at a certain point in time,\n",
    "calculating these rates does not provide us with information\n",
    "about the history of the new arrivals into the destination compartment.\n",
    "If we wish to obtain this sort of information from a compartmental model,\n",
    "this can be achieved by incorporating additional compartments to track\n",
    "past states.\n",
    "For example, consider an alternative structure to the SIRS\n",
    "assumption around waning immunity.\n",
    "![](../images/sirs2_structure.svg)"
   ]
  },
  {
   "cell_type": "code",
   "execution_count": null,
   "id": "dee84cd0-2185-411c-9bdf-b174e2285eaf",
   "metadata": {},
   "outputs": [],
   "source": [
    "parameters.update(\n",
    "    {\"immunity_waning\": 0.1}\n",
    ")\n",
    "sirs2_model = get_si_base_structure(config, [\"recovered\", \"susceptible_2\"])\n",
    "\n",
    "sirs2_model.add_infection_frequency_flow(\n",
    "    name=\"reinfection\",\n",
    "    contact_rate=Parameter(\"contact_rate\"),\n",
    "    source=\"susceptible_2\", \n",
    "    dest=\"infectious\",\n",
    ")\n",
    "    \n",
    "sirs2_model.add_transition_flow(\n",
    "    name=\"recovery\", \n",
    "    fractional_rate=Parameter(\"recovery_rate\"), \n",
    "    source=\"infectious\", \n",
    "    dest=\"recovered\",\n",
    ")\n",
    "\n",
    "sirs2_model.add_transition_flow(\n",
    "    name=\"immunity_waning\",\n",
    "    fractional_rate=Parameter(\"immunity_waning\"),\n",
    "    source=\"recovered\",\n",
    "    dest=\"susceptible_2\",\n",
    ")\n",
    "\n",
    "sirs2_model.run(parameters=parameters)\n",
    "sirs2_values = sirs2_model.get_outputs_df()\n",
    "sirs2_values.plot()"
   ]
  },
  {
   "cell_type": "markdown",
   "id": "37d88363-ee39-45b4-aab2-d067e2701c0b",
   "metadata": {},
   "source": [
    "Note that the dynamics of this model are identical\n",
    "to those of the SIRS model in which recovery\n",
    "returned infectious persons to the starting susceptible compartment.\n",
    "The only difference is that we now have two compartments\n",
    "to represent the susceptible population together,\n",
    "and so could produce outputs for quantities including \n",
    "the proportion of the total population ever infected \n",
    "and the proportion of infections attributable to reinfection.\n",
    "These quantities could not have been obtained from\n",
    "the simpler SIRS model introduced above.\n",
    "\n",
    "## Comparison\n",
    "In summary, let's look at the dynamics of each of the\n",
    "model structures we have considered.\n",
    "(Toggle the SIRS2 line off to see the SIRS line underneath.)"
   ]
  },
  {
   "cell_type": "code",
   "execution_count": null,
   "id": "01cc1b45-0490-4bfe-9015-c1f2390dc2e5",
   "metadata": {},
   "outputs": [],
   "source": [
    "pd.DataFrame(\n",
    "    {\n",
    "        \"si\": si_values[\"infectious\"],\n",
    "        \"sir\": sir_values[\"infectious\"],\n",
    "        \"sis\": sis_values[\"infectious\"],\n",
    "        \"sirs\": sirs_values[\"infectious\"],\n",
    "        \"sirs2\": sirs2_values[\"infectious\"],\n",
    "    }\n",
    ").plot(title=\"Prevalence under various immunity assumptions\")"
   ]
  }
 ],
 "metadata": {
  "kernelspec": {
   "display_name": "Python 3 (ipykernel)",
   "language": "python",
   "name": "python3"
  },
  "language_info": {
   "codemirror_mode": {
    "name": "ipython",
    "version": 3
   },
   "file_extension": ".py",
   "mimetype": "text/x-python",
   "name": "python",
   "nbconvert_exporter": "python",
   "pygments_lexer": "ipython3",
   "version": "3.10.3"
  }
 },
 "nbformat": 4,
 "nbformat_minor": 5
}
