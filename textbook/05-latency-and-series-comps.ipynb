{
 "cells": [
  {
   "cell_type": "markdown",
   "id": "ac1aee76-fc01-41b5-8fa3-cc69ba32c731",
   "metadata": {},
   "source": [
    "# Series compartments and the effect of latency\n",
    "In this notebook, we look at the effect on a simple SIR/SEIR model of\n",
    "including a single or two sequential compartments representing the latent period\n",
    "following infection, but before the onset of infectiousness.\n",
    "We then consider the more general effect of chaining multiple compartments together in series."
   ]
  },
  {
   "cell_type": "markdown",
   "id": "954aefdc-0cca-48d7-bae6-ef5efc117e7d",
   "metadata": {},
   "source": [
    "## Latent period versus incubation period\n",
    "The latent (or pre-infectious) period is the time from infection\n",
    "to the onset of infectiousness,\n",
    "whereas the incubation period is the time from infection to symptom onset.\n",
    "In the simple SIR model we introduced in notebook 01,\n",
    "there is no delay between infection and infectiousness,\n",
    "such that the latent period is zero.\n",
    "Symptoms are not explicitly represented in this model,\n",
    "so the incubation period is not explicitly represented in this model\n",
    "(and model structure to represent symptom status may only be necessary\n",
    "if symptoms lead to some epidemiological change, \n",
    "such as through case isolation).\n",
    "\n",
    "The serial interval and generation time are strongly influenced by these\n",
    "periods, as well as by the duration of the infectious period.\n",
    "The serial interval is defined as the duration of time from\n",
    "the point of onset of symptoms of one infectious individual \n",
    "in a transmission chain\n",
    "and the point of onset of symptoms in a person they infect.\n",
    "Similarly, the generation time is defined as the duration of time \n",
    "from the infection of one individual in a transmission chain\n",
    "and the point of infection in an person they infect.\n",
    "\n",
    "## Effect on epidemic dynamics\n",
    "Whether to include an intervening latency compartment between infection\n",
    "and infectiousness can have significant effects on epidemic dynamics.\n",
    "Perhaps the most important effect is that it will delay the initial take off of the epidemic,\n",
    "although it will have only marginal effects on the final size of the epidemic.\n",
    "Increasing additional latency compartments chained in series\n",
    "has a less dramatic effect on epidemic dynamics,\n",
    "but can better recreate the true delay from infection to infectiousness\n",
    "and could be important to certain questions.\n",
    "(We explore this later in this notebook.)\n",
    "Therefore, whether to include one or more latency compartments depends\n",
    "strongly on the epidemiological question being considered."
   ]
  },
  {
   "cell_type": "code",
   "execution_count": null,
   "id": "c24af200-45f1-4d9b-906e-08ec414f62e0",
   "metadata": {},
   "outputs": [],
   "source": [
    "# If running on Google Colab, run the following line of code to install the summer package\n",
    "# %pip install summerepi2"
   ]
  },
  {
   "cell_type": "code",
   "execution_count": null,
   "id": "27c7b19c-5be5-4b4c-bd89-d77fc1177972",
   "metadata": {},
   "outputs": [],
   "source": [
    "import pandas as pd\n",
    "pd.options.plotting.backend = \"plotly\"\n",
    "\n",
    "from summer2 import CompartmentalModel\n",
    "from summer2.parameters import Parameter"
   ]
  },
  {
   "cell_type": "code",
   "execution_count": null,
   "id": "13ed45e3-2b72-4a6a-a2c7-d4ba9aef020d",
   "metadata": {},
   "outputs": [],
   "source": [
    "def get_sir_base_structure(\n",
    "    model_config: dict,\n",
    "    extra_comps=[],\n",
    ") -> CompartmentalModel:\n",
    "    \"\"\"\n",
    "    Generate a mode that doesn't do much in itself, but has some basic\n",
    "    characteristics that we can then use to add in the latency structures\n",
    "    that we want later on.\n",
    "    We don't apply the infection process yet, as the destination compartment\n",
    "    for infection will be determined later.\n",
    "    \n",
    "    Args:\n",
    "        model_config: The fixed values used in creating the model structure\n",
    "        extra_comps: Any compartments to incorporate in addition to the base ones\n",
    "    Returns:\n",
    "        The summer model object\n",
    "    \"\"\"\n",
    "    \n",
    "    # Compartments are comprised of the base ones and any additional latency compartments requested\n",
    "    compartments = [\n",
    "        \"susceptible\",\n",
    "        \"infectious\",\n",
    "        \"recovered\",\n",
    "    ] + extra_comps\n",
    "    \n",
    "    # Otherwise the model is very similar to that from notebook 01, as follows\n",
    "    infectious_compartment = [\"infectious\"]\n",
    "    analysis_times = (\n",
    "        model_config[\"start_time\"], \n",
    "        model_config[\"end_time\"],\n",
    "    )\n",
    "    model = CompartmentalModel(\n",
    "        times=analysis_times,\n",
    "        compartments=compartments,\n",
    "        infectious_compartments=infectious_compartment,\n",
    "    )\n",
    "    pop = model_config[\"population\"]\n",
    "    seed = model_config[\"seed\"]\n",
    "    suscept_pop = pop - seed\n",
    "    msg = \"Seed larger than population\"\n",
    "    assert pop >= 0., msg\n",
    "    model.set_initial_population(\n",
    "        distribution={\n",
    "            \"susceptible\": suscept_pop, \n",
    "            \"infectious\": seed}\n",
    "    )\n",
    "    model.add_transition_flow(\n",
    "        name=\"recovery\", \n",
    "        fractional_rate=Parameter(\"recovery_rate\"), \n",
    "        source=\"infectious\", \n",
    "        dest=\"recovered\",\n",
    "    )\n",
    "    return model"
   ]
  },
  {
   "cell_type": "code",
   "execution_count": null,
   "id": "3316f176-c7b8-401c-b6c3-9e19c67299b5",
   "metadata": {},
   "outputs": [],
   "source": [
    "config = {\n",
    "    \"population\": 1.,\n",
    "    \"seed\": 0.001,\n",
    "    \"start_time\": 0.,\n",
    "    \"end_time\": 50.,\n",
    "}\n",
    "\n",
    "parameters = {\n",
    "    \"contact_rate\": 1.,\n",
    "    \"recovery_rate\": 0.333,\n",
    "    \"death_rate\": 0.05,\n",
    "    \"progression\": 1.,  # Progression from exposed to infectious, not used in this model configuration\n",
    "}\n",
    "\n",
    "sir_model = get_sir_base_structure(config)\n",
    "\n",
    "sir_model.add_infection_frequency_flow(\n",
    "    name=\"infection\", \n",
    "    contact_rate=Parameter(\"contact_rate\"), \n",
    "    source=\"susceptible\", \n",
    "    dest=\"infectious\",\n",
    ")\n",
    "\n",
    "sir_model.run(parameters=parameters)\n",
    "sir_values = sir_model.get_outputs_df()"
   ]
  },
  {
   "cell_type": "markdown",
   "id": "c52b0ddd-b984-481e-9a3b-5c5ac8eb63b4",
   "metadata": {},
   "source": [
    "Let's add an exposed compartment to our based model to create the following model structure:\n",
    "![](../images/seir_structure.svg)"
   ]
  },
  {
   "cell_type": "code",
   "execution_count": null,
   "id": "fc372d64-c08a-4ae1-b0e8-aa66ce378483",
   "metadata": {},
   "outputs": [],
   "source": [
    "# Rebuild the model with a latent compartment\n",
    "seir_model = get_sir_base_structure(\n",
    "    config, \n",
    "    extra_comps=[\"exposed\"]\n",
    ")\n",
    "seir_model.add_infection_frequency_flow(\n",
    "    name=\"infection\", \n",
    "    contact_rate=Parameter(\"contact_rate\"), \n",
    "    source=\"susceptible\", \n",
    "    dest=\"exposed\",\n",
    ")\n",
    "seir_model.add_transition_flow(\n",
    "    name=\"progression\", \n",
    "    fractional_rate=Parameter(\"progression\"), \n",
    "    source=\"exposed\",\n",
    "    dest=\"infectious\",\n",
    ")\n",
    "\n",
    "# Run and get outputs\n",
    "seir_model.run(parameters=parameters)\n",
    "seir_values = seir_model.get_outputs_df()"
   ]
  },
  {
   "cell_type": "markdown",
   "id": "72224995-ff03-4c33-826c-b25f0001eee7",
   "metadata": {},
   "source": [
    "Now let's try with two latent compartments in series:\n",
    "![](../images/seeir_structure.svg)"
   ]
  },
  {
   "cell_type": "code",
   "execution_count": null,
   "id": "c7b5781c-090a-4572-bee0-fa609d5f7bc5",
   "metadata": {},
   "outputs": [],
   "source": [
    "# Rebuild the model with two sequential latent compartments\n",
    "extra_comps = [\"exposed_0\", \"exposed_1\"]\n",
    "\n",
    "seeir_model = get_sir_base_structure(\n",
    "    config, \n",
    "    extra_comps=extra_comps,\n",
    ")\n",
    "seeir_model.add_infection_frequency_flow(\n",
    "    name=\"infection\", \n",
    "    contact_rate=Parameter(\"contact_rate\"), \n",
    "    source=\"susceptible\", \n",
    "    dest=\"exposed_0\",\n",
    ")\n",
    "seeir_model.add_transition_flow(\n",
    "    name=\"progression_0\", \n",
    "    fractional_rate=Parameter(\"progression\") * len(extra_comps), \n",
    "    source=\"exposed_0\",\n",
    "    dest=\"exposed_1\",\n",
    ")\n",
    "seeir_model.add_transition_flow(\n",
    "    name=\"progression_1\", \n",
    "    fractional_rate=Parameter(\"progression\") * len(extra_comps), \n",
    "    source=\"exposed_1\",\n",
    "    dest=\"infectious\",\n",
    ")\n",
    "\n",
    "# Run and get outputs\n",
    "seeir_model.run(parameters=parameters)\n",
    "seeir_values = seeir_model.get_outputs_df()"
   ]
  },
  {
   "cell_type": "markdown",
   "id": "0a10812d-5d45-4ae1-abc7-87ebb8072d97",
   "metadata": {},
   "source": [
    "Having built and run these three variations on the SIR framework,\n",
    "let's see how the behaviour differs between the three alternatives."
   ]
  },
  {
   "cell_type": "code",
   "execution_count": null,
   "id": "76197503-4bd3-4c3c-bdf6-f39c1d083dcc",
   "metadata": {},
   "outputs": [],
   "source": [
    "results = pd.DataFrame(\n",
    "    {\n",
    "        \"sir\": sir_values[\"infectious\"],\n",
    "        \"seir\": seir_values[\"infectious\"],\n",
    "        \"seeir\": seeir_values[\"infectious\"],\n",
    "    }\n",
    ")\n",
    "results.plot(\n",
    "    title=\"Epidemic trajectory and peak timing are quite different if latency is included\"\n",
    ")"
   ]
  },
  {
   "cell_type": "code",
   "execution_count": null,
   "id": "1c10d312-8b98-4967-ad9b-1ab8eb6e2a20",
   "metadata": {
    "tags": []
   },
   "outputs": [],
   "source": [
    "results = pd.DataFrame(\n",
    "    {\n",
    "        \"sir\": sir_values[\"recovered\"],\n",
    "        \"seir\": seir_values[\"recovered\"],\n",
    "        \"seeir\": seeir_values[\"recovered\"],\n",
    "    }\n",
    ")\n",
    "results.plot(\n",
    "    title=\"Epidemic final size is very similar\",\n",
    ")"
   ]
  },
  {
   "cell_type": "markdown",
   "id": "6385c5db-b5cd-4e22-818b-0d8728638672",
   "metadata": {},
   "source": [
    "## Multi-compartment model\n",
    "Next, let's consider the more general effects of chaining\n",
    "multiple model compartments together in series.\n",
    "First let's build a really simple model without any transmission dynamics at all.\n",
    "The model just starts everyone out in the first compartment in the series.\n",
    "Then people transition sequentially through a set of compartments with\n",
    "sequential naming.\n",
    "In order to make the average total duration in all the intermediate compartments\n",
    "equal for all these model configurations,\n",
    "we have to multiply the rate of transition between any two compartments\n",
    "by the number of transitions that need to be made to reach the final compartment.\n",
    "We'll arbitrarily use an average duration to arriving in the final compartment\n",
    "of 30 time units (which can be thought of as days).\n",
    "We'll then specify a list of different numbers of sequential compartments\n",
    "we'd like to try out."
   ]
  },
  {
   "cell_type": "code",
   "execution_count": null,
   "id": "b68bd594-77d0-4fb4-8000-9b5f593abefe",
   "metadata": {},
   "outputs": [],
   "source": [
    "def get_series_comps_model(\n",
    "    n_comps: int,\n",
    ") -> CompartmentalModel:\n",
    "    \n",
    "    # Create the base model with some simple sequential compartment names\n",
    "    comps = [f\"comp_{i_comp}\" for i_comp in range(n_comps)]\n",
    "    model = CompartmentalModel(\n",
    "        times=(0, 60),\n",
    "        compartments=comps,\n",
    "        infectious_compartments=[],\n",
    "    )\n",
    "    \n",
    "    # Start everyone from the first compartment in the series\n",
    "    model.set_initial_population(\n",
    "        distribution={\"comp_0\": 1.}\n",
    "    )\n",
    "    \n",
    "    # Adjust the transition rate for the multiple compartments\n",
    "    progression_rate = 1. / Parameter(\"sojourn_time\") * (n_comps - 1)\n",
    "    \n",
    "    # Join up all the sequential compartments with transition flows\n",
    "    for i_comp in range(n_comps - 1):\n",
    "        model.add_transition_flow(\n",
    "            f\"progression_{i_comp}\", \n",
    "            fractional_rate=progression_rate, \n",
    "            source=f\"comp_{i_comp}\", \n",
    "            dest=f\"comp_{i_comp + 1}\"\n",
    "        )\n",
    "    \n",
    "    return model"
   ]
  },
  {
   "cell_type": "code",
   "execution_count": null,
   "id": "217fe605-777b-449b-b235-29bc7b62396c",
   "metadata": {},
   "outputs": [],
   "source": [
    "# Specify some characteristics/parameters for this very simple model - can be modified here\n",
    "parameters = {\"sojourn_time\": 30.}\n",
    "n_comp_requests = [2, 3, 4] + list(range(6, 10, 2)) + list(range(10, 105, 5))"
   ]
  },
  {
   "cell_type": "code",
   "execution_count": null,
   "id": "ccd98df5-ab82-4e35-9984-3130a6c0c44f",
   "metadata": {},
   "outputs": [],
   "source": [
    "# Run the model with various numbers of sequential compartments\n",
    "outputs = {}\n",
    "for comp_request in n_comp_requests:\n",
    "    transition_model = get_series_comps_model(comp_request)\n",
    "    transition_model.run(parameters)\n",
    "    comp_sizes = transition_model.get_outputs_df()\n",
    "    \n",
    "    # Get the values for the last compartment in the series\n",
    "    outputs[comp_request] = comp_sizes[f\"comp_{comp_request - 1}\"]\n",
    "\n",
    "# Plot\n",
    "outputs_df = pd.DataFrame(outputs)\n",
    "outputs_df.plot(title=\"Last compartment size\")"
   ]
  },
  {
   "cell_type": "markdown",
   "id": "e9ee9f32-b754-4658-a5c6-b046c1774bc2",
   "metadata": {},
   "source": [
    "## Equivalent mathematical distribution\n",
    "The equivalent mathematical distribution that can capture the\n",
    "delay that is implemented by including multiple compartments\n",
    "in series in this way is the Erlang distribution\n",
    "(a special case of the gamma distribution).\n",
    "An Erlang distribution with shape parameter of one\n",
    "is analogous to a single transition without intermediate\n",
    "compartments.\n",
    "An Erlang distribution with shape parameter of two\n",
    "is analogous to having one intervening compartment between\n",
    "the two compartments of interest.\n",
    "An Erlang distribution with shape parameter of three\n",
    "is analogous to having two intervening compartments between\n",
    "the two compartments of interest, and so on.\n",
    "\n",
    "Let's get the equivalent values to those we modelled with\n",
    "our compartmental model directly from the Erlang distribution."
   ]
  },
  {
   "cell_type": "code",
   "execution_count": null,
   "id": "4c70773e-9da7-447f-9b69-a7b4cb1b9375",
   "metadata": {},
   "outputs": [],
   "source": [
    "from scipy.stats import erlang\n",
    "\n",
    "results = {}\n",
    "for shape in n_comp_requests:\n",
    "    shape -= 1\n",
    "    results[shape] = erlang.pdf(\n",
    "        transition_model.times, \n",
    "        shape, \n",
    "        scale=parameters[\"sojourn_time\"] / shape\n",
    "    )"
   ]
  },
  {
   "cell_type": "code",
   "execution_count": null,
   "id": "75899823-f049-45a9-aff9-770a2fd197b3",
   "metadata": {},
   "outputs": [],
   "source": [
    "diff_df = outputs_df.diff()\n",
    "diff_df.plot(\n",
    "    title=\"Modelled transition time\"\n",
    ")"
   ]
  },
  {
   "cell_type": "code",
   "execution_count": null,
   "id": "f8afdc70-5275-4529-994c-f6838ae70f77",
   "metadata": {},
   "outputs": [],
   "source": [
    "pd.DataFrame(results, index=transition_model.times).plot(\n",
    "    title=\"Equivalent Erlang distributions\"\n",
    ")"
   ]
  }
 ],
 "metadata": {
  "kernelspec": {
   "display_name": "Python 3 (ipykernel)",
   "language": "python",
   "name": "python3"
  },
  "language_info": {
   "codemirror_mode": {
    "name": "ipython",
    "version": 3
   },
   "file_extension": ".py",
   "mimetype": "text/x-python",
   "name": "python",
   "nbconvert_exporter": "python",
   "pygments_lexer": "ipython3",
   "version": "3.10.4"
  }
 },
 "nbformat": 4,
 "nbformat_minor": 5
}
