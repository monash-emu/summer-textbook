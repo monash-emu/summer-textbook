{
 "cells": [
  {
   "cell_type": "markdown",
   "id": "necessary-institution",
   "metadata": {
    "tags": []
   },
   "source": [
    "# Derived outputs\n",
    "\n",
    "## Introduction\n",
    "In the first notebook, we introduced our general approach to creating and running a simple compartmental model of the transmission of an acute immunising infection. This notebook builds on this simple model to consider other \"derived outputs\" that we might want to examine other than just the estimated compartment sizes over time. In general, we may wish to estimate epidemiological quantities that are derived from some combination of:\n",
    "\n",
    "- The model compartment sizes for each timestep\n",
    "- The model flow rates at each timestep\n",
    "- Model inputs\n",
    "\n",
    "_summer_ offers a range of approaches to calculating model outputs beyond\n",
    "just the absolute size of the various compartments modelled,\n",
    "which are described in the _summer_ API."
   ]
  },
  {
   "cell_type": "code",
   "execution_count": null,
   "id": "36fe499f-462b-4c6f-b87c-860aa69d52fd",
   "metadata": {},
   "outputs": [],
   "source": [
    "# If running on Google Colab, run the following line of code to install the summer package\n",
    "# %pip install summerepi2"
   ]
  },
  {
   "cell_type": "code",
   "execution_count": null,
   "id": "910940e8-7c02-4aaa-a8b4-23e5734f956c",
   "metadata": {},
   "outputs": [],
   "source": [
    "import pandas as pd\n",
    "pd.options.plotting.backend = \"plotly\"\n",
    "\n",
    "from summer2 import CompartmentalModel\n",
    "from summer2.parameters import Parameter"
   ]
  },
  {
   "cell_type": "code",
   "execution_count": null,
   "id": "c0d55a5e-0dba-4739-8795-c61cac1442cb",
   "metadata": {},
   "outputs": [],
   "source": [
    "def get_sir_model(\n",
    "    model_config: dict,\n",
    ") -> CompartmentalModel:\n",
    "    \"\"\"\n",
    "    This is the same model as introduced in notebook 01.\n",
    "    \"\"\"\n",
    "    \n",
    "    compartments = (\n",
    "        \"susceptible\",\n",
    "        \"infectious\",\n",
    "        \"recovered\",\n",
    "    )\n",
    "    analysis_times = (\n",
    "        model_config[\"start_time\"], \n",
    "        model_config[\"end_time\"],\n",
    "    )\n",
    "    model = CompartmentalModel(\n",
    "        times=analysis_times,\n",
    "        compartments=compartments,\n",
    "        infectious_compartments=[\"infectious\"],\n",
    "    )\n",
    "    model.set_initial_population(\n",
    "        distribution=\n",
    "        {\n",
    "            \"susceptible\": model_config[\"population\"] - model_config[\"seed\"], \n",
    "            \"infectious\": model_config[\"seed\"],\n",
    "        }\n",
    "    )\n",
    "    model.add_infection_frequency_flow(\n",
    "        name=\"infection\", \n",
    "        contact_rate=Parameter(\"contact_rate\"),\n",
    "        source=\"susceptible\", \n",
    "        dest=\"infectious\",\n",
    "    )\n",
    "    model.add_transition_flow(\n",
    "        name=\"recovery\", \n",
    "        fractional_rate=Parameter(\"recovery\"),\n",
    "        source=\"infectious\", \n",
    "        dest=\"recovered\",\n",
    "    )\n",
    "    model.add_death_flow(\n",
    "        name=\"infection_death\", \n",
    "        death_rate=Parameter(\"infection_death\"),\n",
    "        source=\"infectious\",\n",
    "    )\n",
    "    return model"
   ]
  },
  {
   "cell_type": "code",
   "execution_count": null,
   "id": "a03aeea4-44dd-447c-975b-98fc84481f93",
   "metadata": {},
   "outputs": [],
   "source": [
    "config = {\n",
    "    \"population\": 1000.,\n",
    "    \"seed\": 10.,\n",
    "    \"start_time\": 0.,\n",
    "    \"end_time\": 20.,\n",
    "}\n",
    "\n",
    "parameters = {\n",
    "    \"recovery\": 0.333,\n",
    "    \"infection_death\": 0.05,\n",
    "    \"contact_rate\": 1.,\n",
    "}\n",
    "\n",
    "sir_model = get_sir_model(config)\n",
    "sir_model.run(parameters=parameters)\n",
    "compartment_values = sir_model.get_outputs_df()\n",
    "compartment_values.plot.area()"
   ]
  },
  {
   "cell_type": "markdown",
   "id": "0f8d0967-4536-480b-afc7-04af474e14d2",
   "metadata": {},
   "source": [
    "## Calculations based on compartment sizes\n",
    "First let's think about the proportion of the population ever infected.\n",
    "This might be a particularly important output, because it \n",
    "might be the best quantity emerging from our model to compare against data from a serosurvey.\n",
    "Specifically, we want to know the proportion of the total population that is\n",
    "in either the `infectious` or `recovered` compartments.\n",
    "In our very simple model, this can be easily derived from the compartment sizes.\n",
    "This sort of quantity is easy to derive from the\n",
    "compartment size dataframe that can be output from the model after it has run\n",
    "using the `get_outputs_df` method, as shown in the previous cell.\n",
    "However, these calculations can get more complicated,\n",
    "so we'll demonstrate the syntax for asking the _summer_ object to calculate this."
   ]
  },
  {
   "cell_type": "code",
   "execution_count": null,
   "id": "e0c22ac8-0e71-46c1-bd7a-6ead90de7b8d",
   "metadata": {},
   "outputs": [],
   "source": [
    "# Find the size of the compartments that have ever been infected\n",
    "sir_model = get_sir_model(config)\n",
    "sir_model.request_output_for_compartments(\n",
    "    name=\"ever_infected\", \n",
    "    compartments=[\"infectious\", \"recovered\"]\n",
    ")\n",
    "\n",
    "# Find the total population\n",
    "sir_model.request_output_for_compartments(\n",
    "    name=\"total_population\",\n",
    "    compartments=sir_model.compartments,\n",
    ")\n",
    "\n",
    "# Get the proportion\n",
    "sir_model.request_function_output(\n",
    "    name=\"prop_ever_infected\",\n",
    "    func=lambda inf, tot: inf / tot,\n",
    "    sources=[\"ever_infected\", \"total_population\"],\n",
    ")\n",
    "sir_model.run(parameters=parameters)\n",
    "derived_outputs = sir_model.get_derived_outputs_df()\n",
    "derived_outputs[\"prop_ever_infected\"].plot(title=\"Seropositive proportion\")"
   ]
  },
  {
   "cell_type": "markdown",
   "id": "alternative-williams",
   "metadata": {},
   "source": [
    "## Flow outputs\n",
    "\n",
    "A **[flow output](/api/model.html#summer.model.CompartmentalModel.request_output_for_flow)** tracks a set of requested flow rates for each timestep. These requests can also select flows between particular strata in a stratified model (see later examples).\n",
    "For example, we might want to ask the model to track the number of people who died from infection per timestep. Note that this is not represented by any of the explicitly modelled states."
   ]
  },
  {
   "cell_type": "code",
   "execution_count": null,
   "id": "referenced-luther",
   "metadata": {},
   "outputs": [],
   "source": [
    "sir_model = get_sir_model(parameters)\n",
    "\n",
    "# Request that the model calculate a derived output when it is run\n",
    "sir_model.request_output_for_flow(\n",
    "    name=\"deaths\", \n",
    "    flow_name=\"infection_death\"\n",
    ")"
   ]
  },
  {
   "cell_type": "markdown",
   "id": "satellite-sunday",
   "metadata": {},
   "source": [
    "Now when we run the model, we can obtain a pandas dataframe representing the new infection-related daily deaths that can be accessed through `model.get_derived_outputs_df`, as follows."
   ]
  },
  {
   "cell_type": "code",
   "execution_count": null,
   "id": "acquired-trick",
   "metadata": {},
   "outputs": [],
   "source": [
    "# Run the model\n",
    "sir_model.run(parameters=parameters)\n",
    "\n",
    "# View the derived outputs that were calculated when the `run()` method was called\n",
    "modelled_deaths = sir_model.get_derived_outputs_df()\n",
    "modelled_deaths.plot()"
   ]
  },
  {
   "cell_type": "markdown",
   "id": "5b1c844a-beb1-490a-a4b8-5246d1681c0e",
   "metadata": {},
   "source": [
    "### Distinguishing incidence from infection\n",
    "Let's build a new model that incorporates an explicit delay between infection and later progression or activation to the infectious compartment.\n",
    "Because we still only allow that the compartment called \"_infectious_\" is actually infectious (contributes to the force of infection calculation),\n",
    "we therefore have a delay between the process of being infected by someone else and progressing to become infectious yourself."
   ]
  },
  {
   "cell_type": "code",
   "execution_count": null,
   "id": "bfbbc613-9775-4485-912b-e34fa53aa75f",
   "metadata": {},
   "outputs": [],
   "source": [
    "def get_seir_model():\n",
    "    \"\"\"\n",
    "    An adaptation of the SIR model introduced above, with a couple of\n",
    "    small differences to turn it into an SEIR model.\n",
    "    Generate an instance of an SEIR model with some fixed parameters, \n",
    "    population distribution and parameters.\n",
    "    \n",
    "    Returns:\n",
    "        model: The SEIR compartmental model\n",
    "    \"\"\"\n",
    "    compartments = (\n",
    "        \"susceptible\",\n",
    "        \"exposed\",\n",
    "        \"infectious\",\n",
    "        \"recovered\",\n",
    "    )\n",
    "    infectious_compartment = [\n",
    "        \"infectious\",\n",
    "    ]\n",
    "    analysis_times = (\n",
    "        parameters[\"start_time\"], \n",
    "        parameters[\"end_time\"]\n",
    "    )\n",
    "    \n",
    "    model = CompartmentalModel(\n",
    "        times=analysis_times,\n",
    "        compartments=compartments,\n",
    "        infectious_compartments=infectious_compartment,\n",
    "    )\n",
    "    \n",
    "    # Check and assign infectious seed\n",
    "    pop = parameters[\"population\"]\n",
    "    seed = parameters[\"seed\"]\n",
    "    suscept_pop = pop - seed\n",
    "    msg = \"Seed larger than population\"\n",
    "    assert pop >= 0.\n",
    "    \n",
    "    model.set_initial_population(\n",
    "        distribution={\n",
    "            \"susceptible\": suscept_pop, \n",
    "            \"infectious\": seed}\n",
    "    )\n",
    "    \n",
    "    # Add the flows to the model\n",
    "    model.add_infection_frequency_flow(\n",
    "        name=\"infection\", \n",
    "        contact_rate=param(\"contact_rate\"),\n",
    "        source=\"susceptible\", \n",
    "        dest=\"exposed\",  # This is different from the SIR model\n",
    "    )\n",
    "    # This flow didn't exist in the SIR model\n",
    "    model.add_transition_flow(\n",
    "        name=\"progression\",\n",
    "        fractional_rate=param(\"progression\"),\n",
    "        source=\"exposed\",\n",
    "        dest=\"infectious\",\n",
    "    )\n",
    "    model.add_transition_flow(\n",
    "        name=\"recovery\", \n",
    "        fractional_rate=param(\"recovery_rate\"), \n",
    "        source=\"infectious\", \n",
    "        dest=\"recovered\",\n",
    "    )\n",
    "    model.add_death_flow(\n",
    "        name=\"infection_death\", \n",
    "        death_rate=param(\"death_rate\"), \n",
    "        source=\"infectious\",\n",
    "    )\n",
    "    return model"
   ]
  },
  {
   "cell_type": "markdown",
   "id": "aedce7e1-3358-4bc5-acd6-77fbd54ce54d",
   "metadata": {},
   "source": [
    "Let's track these transitions (infection and progression) explicitly.\n",
    "The process of infection is intuitive, but let's refer to the process of progressing from the \n",
    "exposed to the infectious compartment as \"incidence\",\n",
    "because it represents the rate at which new disease episodes occur."
   ]
  },
  {
   "cell_type": "code",
   "execution_count": null,
   "id": "f880f09c-19a8-4a8a-ba00-15b93840003e",
   "metadata": {},
   "outputs": [],
   "source": [
    "seir_model = get_seir_model()\n",
    "\n",
    "parameters.update(\n",
    "    {\"progression\": 0.333}\n",
    ")\n",
    "\n",
    "seir_model.request_output_for_flow(\n",
    "    name=\"infection\",\n",
    "    flow_name=\"infection\",\n",
    ")\n",
    "seir_model.request_output_for_flow(\n",
    "    name=\"incidence\", \n",
    "    flow_name=\"progression\",\n",
    ")"
   ]
  },
  {
   "cell_type": "markdown",
   "id": "cedf2719-05b1-4088-a6ef-d35f1dfb7e77",
   "metadata": {},
   "source": [
    "Looks like these quantities are pretty similar, but not identical, in this model.\n",
    "This is consistent with what we would expect.\n",
    "The delay from individuals being infected to progressing to active disease\n",
    "is directly reflected in the delay in the changes in the infection and incidence quantities."
   ]
  },
  {
   "cell_type": "code",
   "execution_count": null,
   "id": "b914ee77-3c5d-4479-adb7-64a63b4ce41a",
   "metadata": {},
   "outputs": [],
   "source": [
    "seir_model.run(parameters=parameters)\n",
    "derived_outputs = seir_model.get_derived_outputs_df()\n",
    "derived_outputs.plot()"
   ]
  },
  {
   "cell_type": "markdown",
   "id": "bored-elder",
   "metadata": {},
   "source": [
    "## Cumulative outputs\n",
    "\n",
    "You can use a  **[cumulative output](/model.html#summer.model.CompartmentalModel.request_cumulative_output)** to request that the model tracks the cumulative sum of other derived outputs over time. For example, let's track total infection deaths and the total people recovered:"
   ]
  },
  {
   "cell_type": "code",
   "execution_count": null,
   "id": "interracial-wells",
   "metadata": {},
   "outputs": [],
   "source": [
    "model = get_sir_model(parameters)\n",
    "model.request_output_for_flow(name=\"deaths\", flow_name=\"infection_death\")\n",
    "\n",
    "# Request that the 'deaths' derived output is accumulated into 'deaths_cumulative'.\n",
    "model.request_cumulative_output(name=\"deaths_cumulative\", source=\"deaths\")\n",
    "\n",
    "# Run and plot the outputs\n",
    "model.run(parameters=parameters)\n",
    "derived_outputs = model.get_derived_outputs_df()\n",
    "derived_outputs.plot()"
   ]
  },
  {
   "cell_type": "markdown",
   "id": "behind-percentage",
   "metadata": {},
   "source": [
    "## Aggregate outputs\n",
    "\n",
    "You can use an **[aggregate output](/model.html#summer.model.CompartmentalModel.request_aggregate_output)** to request an aggregate of other derived outputs."
   ]
  },
  {
   "cell_type": "code",
   "execution_count": null,
   "id": "typical-paragraph",
   "metadata": {},
   "outputs": [],
   "source": [
    "model = get_sir_model(parameters)\n",
    "\n",
    "# Track some flows\n",
    "model.request_output_for_flow(name=\"deaths\", flow_name=\"infection_death\")\n",
    "model.request_output_for_flow(name=\"recoveries\", flow_name=\"recovery\")\n",
    "\n",
    "# Accumulate the flows\n",
    "model.request_cumulative_output(name=\"deaths_cumulative\", source=\"deaths\")\n",
    "model.request_cumulative_output(name=\"recoveries_cumulative\", source=\"recoveries\")\n",
    "\n",
    "# Aggregate 'deaths_cumulative' and 'recovered_cumulative' into a single output\n",
    "model.request_aggregate_output(\n",
    "    name=\"cum_dead_or_recovered\",\n",
    "    sources=[\"deaths_cumulative\", \"recoveries_cumulative\"]\n",
    ")\n",
    "\n",
    "model.run(parameters=parameters)\n",
    "derived_outputs = model.get_derived_outputs_df()"
   ]
  },
  {
   "cell_type": "code",
   "execution_count": null,
   "id": "fed95889-b157-4f4e-b21b-4a3673448d3f",
   "metadata": {},
   "outputs": [],
   "source": [
    "derived_outputs[[\"deaths_cumulative\", \"recoveries_cumulative\"]].plot.area()"
   ]
  }
 ],
 "metadata": {
  "kernelspec": {
   "display_name": "Python 3 (ipykernel)",
   "language": "python",
   "name": "python3"
  },
  "language_info": {
   "codemirror_mode": {
    "name": "ipython",
    "version": 3
   },
   "file_extension": ".py",
   "mimetype": "text/x-python",
   "name": "python",
   "nbconvert_exporter": "python",
   "pygments_lexer": "ipython3",
   "version": "3.10.4"
  }
 },
 "nbformat": 4,
 "nbformat_minor": 5
}
