{
 "cells": [
  {
   "cell_type": "code",
   "execution_count": null,
   "id": "0ef26f8c-d016-4579-bab7-ba8a97697027",
   "metadata": {},
   "outputs": [],
   "source": [
    "try:\n",
    "  import google.colab\n",
    "  IN_COLAB = True\n",
    "  %pip install summerepi2\n",
    "except:\n",
    "  IN_COLAB = False"
   ]
  },
  {
   "cell_type": "code",
   "execution_count": null,
   "id": "6b5c0873-bc10-4f4f-a829-75df76bbaf88",
   "metadata": {},
   "outputs": [],
   "source": [
    "import pandas as pd\n",
    "from jax import numpy as jnp\n",
    "from typing import Dict\n",
    "import copy\n",
    "\n",
    "from summer2 import CompartmentalModel\n",
    "from summer2.parameters import Parameter as param\n",
    "from summer2.parameters import Function as func\n",
    "from summer2.parameters import Time\n",
    "\n",
    "pd.options.plotting.backend = \"plotly\""
   ]
  },
  {
   "cell_type": "markdown",
   "id": "253e99f7-078f-4d52-bafe-ca5a11c59ce8",
   "metadata": {},
   "source": [
    "## Crude birth flow\n",
    "\n",
    "New people are born into the destination compartment every time unit (also referred to as recruitment).\n",
    "A \"crude birth rate\" is multiplied through by the population size to calculate the rate of entry into the starting population.\n",
    "Therefore, this is the per capita rate of new births for the entire population.\n",
    "\n",
    "Other approaches are sometimes used in epidemiology,\n",
    "such as linking the rate of new births to the number of females of child-bearing age in the population (fertility rate).\n",
    "Implementing such an approach would require us to model this sub-population."
   ]
  },
  {
   "cell_type": "code",
   "execution_count": null,
   "id": "af47ef76-5831-4cca-ad1c-b32b68453fb7",
   "metadata": {},
   "outputs": [],
   "source": [
    "def get_sir_with_birth_model(\n",
    "    parameters: Dict\n",
    ")-> CompartmentalModel:\n",
    "    \"\"\"\n",
    "    Take the previous SIR model and add a birth flow.\n",
    "    \n",
    "    Args:\n",
    "        parameters: The parameter values to be used in running the model\n",
    "    Returns:\n",
    "        The summer model object\n",
    "    \"\"\"\n",
    "    \n",
    "    model = get_sir_freq_model(parameters)\n",
    "\n",
    "    # Add crude birth flow to the model\n",
    "    model.add_crude_birth_flow(\n",
    "        \"crude_birth\", \n",
    "        birth_rate=param(\"birth\"), \n",
    "        dest=\"susceptible\"\n",
    "    )\n",
    "    \n",
    "    return model"
   ]
  },
  {
   "cell_type": "code",
   "execution_count": null,
   "id": "ad1f8cb3-370e-4d6f-9c44-80ee7bc10e9d",
   "metadata": {},
   "outputs": [],
   "source": [
    "sir_params.update({\"birth\": 0.03})  # Add an arbitrary crude birth rate\n",
    "\n",
    "sir_birth_model = get_sir_with_birth_model(sir_params)\n",
    "    \n",
    "sir_birth_model.run(parameters=sir_params)\n",
    "compartment_values = sir_birth_model.get_outputs_df()\n",
    "compartment_values.plot()"
   ]
  },
  {
   "cell_type": "markdown",
   "id": "56a35a30-a29e-4280-8b28-37725cc41608",
   "metadata": {},
   "source": [
    "Clearly the total size of the population is growing. The rate of births here (0.03) is very high if we think of the time unit as years, and implausible if we think of it as days, but the purpose is to illustrate the effect of this process. "
   ]
  },
  {
   "cell_type": "markdown",
   "id": "96ae2c68-b4dc-4dda-8ffc-fcb721c06377",
   "metadata": {},
   "source": [
    "## Replacement birth flow\n",
    "\n",
    "Add a flow to replace the number of deaths into the destination compartment. This means the total population should be conserved over time."
   ]
  },
  {
   "cell_type": "code",
   "execution_count": null,
   "id": "d308f5cf-504a-4671-84d7-b8a6751a328d",
   "metadata": {},
   "outputs": [],
   "source": [
    "def get_sir_with_birth_replace_model(\n",
    "    parameters: Dict\n",
    ")-> CompartmentalModel:\n",
    "    \"\"\"\n",
    "    Take the previous SIR model with infection-specific dceaths included,\n",
    "    and add a birth flow to replace these deaths.\n",
    "    \n",
    "    Args:\n",
    "        parameters: The parameter values to be used in running the model\n",
    "    Returns:\n",
    "        The summer model object\n",
    "    \"\"\"\n",
    "    \n",
    "    model = get_sir_with_death_model(parameters)\n",
    "    \n",
    "    # Add replacement birth flow to the model\n",
    "    model.add_replacement_birth_flow(\n",
    "        \"crude_birth\", \n",
    "        dest=\"susceptible\"\n",
    "    )\n",
    "    \n",
    "    return model"
   ]
  },
  {
   "cell_type": "code",
   "execution_count": null,
   "id": "da029723-b163-4bed-b91f-c616a21eb38c",
   "metadata": {},
   "outputs": [],
   "source": [
    "sir_birth_replace_model = get_sir_with_birth_replace_model(sir_params)\n",
    "\n",
    "sir_birth_replace_model.run(parameters=sir_params)\n",
    "compartment_values = sir_birth_replace_model.get_outputs_df()\n",
    "compartment_values.plot()"
   ]
  },
  {
   "cell_type": "code",
   "execution_count": null,
   "id": "26ed8129-546b-42cb-9908-64a2cda7271e",
   "metadata": {},
   "outputs": [],
   "source": [
    "sir_birth_replace_model = get_sir_with_birth_replace_model(sir_params)\n",
    "\n",
    "sir_birth_replace_model.run(parameters=sir_params)\n",
    "compartment_values = sir_birth_replace_model.get_outputs_df()\n",
    "compartment_values.plot()"
   ]
  }
 ],
 "metadata": {
  "kernelspec": {
   "display_name": "Python 3 (ipykernel)",
   "language": "python",
   "name": "python3"
  },
  "language_info": {
   "codemirror_mode": {
    "name": "ipython",
    "version": 3
   },
   "file_extension": ".py",
   "mimetype": "text/x-python",
   "name": "python",
   "nbconvert_exporter": "python",
   "pygments_lexer": "ipython3",
   "version": "3.10.4"
  }
 },
 "nbformat": 4,
 "nbformat_minor": 5
}
