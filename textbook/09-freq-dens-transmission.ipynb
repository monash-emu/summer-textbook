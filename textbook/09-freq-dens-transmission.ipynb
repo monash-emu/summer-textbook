{
 "cells": [
  {
   "cell_type": "markdown",
   "id": "2125f5e6-6724-40d2-b35b-e95e7d88de60",
   "metadata": {
    "tags": []
   },
   "source": [
    "# Transmission assumptions\n",
    "In the previous chapters, \n",
    "we have been using frequency-dependent transmission assumption.\n",
    "Under this assumption, the rate of transmission is proportional\n",
    "to the number of susceptibles and the prevalence of infectious persons in the population.\n",
    "We have been referring to the parameter used for this transition process as the `contact_rate`,\n",
    "in which case we can consider this as the _per capita_ rate at which\n",
    "two specific individuals come into effective contact.\n",
    "Note that an effective contact can be defined as a contact that would result in\n",
    "transmission were it to occur between a susceptible person and an infectious person.\n",
    "Let's return to a really simple SIR model.\n",
    "In fact, even simpler than the one we introduced in notebook 02,\n",
    "because it doesn't even have an infection-related death flow.\n",
    "We'll initially create a function that returns the model object without\n",
    "any transmission flows, so we can add the process we want later."
   ]
  },
  {
   "cell_type": "code",
   "execution_count": null,
   "id": "5fe1a76b-7060-48b7-9326-1a6679aa779c",
   "metadata": {},
   "outputs": [],
   "source": [
    "# If running on Google Colab, run the following line of code to install the summer package\n",
    "# %pip install summerepi2"
   ]
  },
  {
   "cell_type": "code",
   "execution_count": null,
   "id": "1dfad33f-6522-4ac4-b5ba-452ac703a2fd",
   "metadata": {},
   "outputs": [],
   "source": [
    "import pandas as pd\n",
    "pd.options.plotting.backend = \"plotly\"\n",
    "\n",
    "from summer2 import CompartmentalModel\n",
    "from summer2.parameters import Parameter"
   ]
  },
  {
   "cell_type": "code",
   "execution_count": null,
   "id": "d0cdf8c5-48ab-4507-a756-15c3f3229a01",
   "metadata": {},
   "outputs": [],
   "source": [
    "def get_sir_base_structure(\n",
    "    config: dict,\n",
    ") -> CompartmentalModel:\n",
    "    \"\"\"\n",
    "    Generate a mode that doesn't do much in itself, but has basic\n",
    "    characteristics that we can then use to add our transmission assumptions to.\n",
    "    \n",
    "    Args:\n",
    "        config: The fixed values used in creating the model structure\n",
    "    Returns:\n",
    "        The summer model object\n",
    "    \"\"\"\n",
    "    compartments = (\n",
    "        \"susceptible\",\n",
    "        \"infectious\",\n",
    "        \"recovered\",\n",
    "    )\n",
    "    infectious_compartment = [\"infectious\"]\n",
    "    analysis_times = (0.,  config[\"end_time\"])\n",
    "    model = CompartmentalModel(\n",
    "        times=analysis_times,\n",
    "        compartments=compartments,\n",
    "        infectious_compartments=infectious_compartment,\n",
    "    )\n",
    "    pop = config[\"population\"]\n",
    "    seed = config[\"seed\"]\n",
    "    suscept_pop = pop - seed\n",
    "    msg = \"Seed larger than population\"\n",
    "    assert pop >= 0., msg\n",
    "    model.set_initial_population(\n",
    "        distribution={\n",
    "            \"susceptible\": suscept_pop, \n",
    "            \"infectious\": seed}\n",
    "    )\n",
    "    model.add_transition_flow(\n",
    "        name=\"recovery\", \n",
    "        fractional_rate=Parameter(\"recovery\"), \n",
    "        source=\"infectious\", \n",
    "        dest=\"recovered\",\n",
    "    )\n",
    "    return model"
   ]
  },
  {
   "cell_type": "markdown",
   "id": "c9d2ef2d-32a7-4da9-86e3-ce97aa3aa17c",
   "metadata": {},
   "source": [
    "## Frequency dependence\n",
    "As mentioned, \n",
    "we've already been using the assumption of frequency-dependent transmission in previous notebooks, \n",
    "but let's have another look at the model using this type of transmission."
   ]
  },
  {
   "cell_type": "code",
   "execution_count": null,
   "id": "5953f78b-0cc2-48be-9e4d-a67e85c6542d",
   "metadata": {},
   "outputs": [],
   "source": [
    "model_config = {\n",
    "    \"population\": 1.,\n",
    "    \"seed\": 0.01,\n",
    "    \"end_time\": 20.,\n",
    "}\n",
    "freq_parameters = {\n",
    "    \"recovery\": 0.333,\n",
    "    \"contact_rate\": 1.,\n",
    "}"
   ]
  },
  {
   "cell_type": "code",
   "execution_count": null,
   "id": "72b0b8f6-8e49-46f3-b7f5-619b3efb8af6",
   "metadata": {},
   "outputs": [],
   "source": [
    "sir_freq_model = get_sir_base_structure(model_config)\n",
    "sir_freq_model.add_infection_frequency_flow(\n",
    "    name=\"infection\", \n",
    "    contact_rate=Parameter(\"contact_rate\"),\n",
    "    source=\"susceptible\", \n",
    "    dest=\"infectious\",\n",
    ")\n",
    "sir_freq_model.run(parameters=freq_parameters)\n",
    "sir_freq_values = sir_freq_model.get_outputs_df()\n",
    "sir_freq_values.plot(\n",
    "    labels={\"index\": \"time\", \"value\": \"proportion\"},\n",
    ")"
   ]
  },
  {
   "cell_type": "markdown",
   "id": "f5530210-b08f-43fc-84ca-1d7f8c7be55a",
   "metadata": {},
   "source": [
    "For all our previous models,\n",
    "and as briefly shown in the ordinary differential equations presented in notebook 07,\n",
    "we have previously assumed that the force of infection scales according\n",
    "to the prevalence of infectious individuals in the simulated population.\n",
    "\n",
    "That is, frequency-dependent transmission:\n",
    "\n",
    "$$ \\lambda (t) \\propto \\frac{I(t)}{N(t)} $$\n",
    "\n",
    "where $\\lambda (t)$ represents the force of infection,\n",
    "$I(t)$ the number of infectious persons in the population,\n",
    "$N(t)$ the total population size\n",
    "and $t$ time.\n",
    "\n",
    "## How is density-dependent tranmission different?\n",
    "The conceptual difference is that the force of infection\n",
    "is proportional to the number of infectious persons rather than the\n",
    "prevalence of infectious persons.\n",
    "That is, for density-dependent transmission:\n",
    "\n",
    "$$ \\lambda (t) \\propto I(t) $$\n",
    "\n",
    "For either of these assumptions, \n",
    "there is also a model input parameter that will be multiplied through\n",
    "by the size of the infectious population (number or prevalence).\n",
    "The symbol $\\beta$ is often used to represent the quantity that scales $I(t)$,\n",
    "and so is equivalent to our `contact_rate` parameter for density-dependent transmission.\n",
    "For frequency-dependent transmission, \n",
    "$\\beta$ can again represent the constant of proportionality between\n",
    "the force of infection ($\\lambda(t)$) and the number of infectives ($I(t)$).\n",
    "In this case, it incorporates the division by the population size ($N(t)$),\n",
    "and so differs from our `contact_rate` parameter.\n",
    "Unfortunately there are no consistent rules for what $\\beta$ should represent,\n",
    "and so it is important to examine how it is implemented in any given model.\n",
    "Of course, the name of the parameter is less important than what it represents, \n",
    "which is discussed below.\n",
    "Once we have calculated the force of infection, we can think of it in a similar way to \n",
    "how we think of a parameter to a standard inter-compartmental transition flow\n",
    "(the difference being that the rate is dependent on quantity that emerges from the model).\n",
    "As for any other such flow, it is next multiplied by the source compartment\n",
    "(`susceptible`) when we come to calculating the actual number of people being infected.\n",
    "\n",
    "Next, let's run a model with density-dependent transmission instead of frequency-dependent."
   ]
  },
  {
   "cell_type": "code",
   "execution_count": null,
   "id": "f6a9f55b-fb45-45f4-9aa8-814f603fcb38",
   "metadata": {},
   "outputs": [],
   "source": [
    "dens_parameters = {\n",
    "    \"recovery\": 0.333,\n",
    "    \"contact_rate\": 1.,\n",
    "}\n",
    "sir_dens_model = get_sir_base_structure(model_config)\n",
    "sir_dens_model.add_infection_density_flow(\n",
    "    name=\"infection\", \n",
    "    contact_rate=Parameter(\"contact_rate\"),\n",
    "    source=\"susceptible\", \n",
    "    dest=\"infectious\",\n",
    ")\n",
    "sir_dens_model.run(parameters=dens_parameters)\n",
    "sir_dens_values = sir_dens_model.get_outputs_df()\n",
    "sir_dens_values.plot(\n",
    "    labels={\"index\": \"time\", \"value\": \"proportion\"},\n",
    ")"
   ]
  },
  {
   "cell_type": "markdown",
   "id": "73294557-ca5b-4329-91f2-e1ddca020214",
   "metadata": {},
   "source": [
    "The model outputs are identical, \n",
    "which is unsurprising because this is a really trivial example.\n",
    "Because the population size is fixed at a value of one,\n",
    "the division by $N(t)$ has no effect on the force of infection.\n",
    "However, next let's consider what happens if we scale the population size back up to 1000.\n",
    "We can easily recover the exact same dynamics as we saw previously for both the\n",
    "frequency and density-dependent models by dividing `population`, `seed` and `contact_rate`\n",
    "by the new, larger population size.\n",
    "However, we need to adjust the model's parameters too."
   ]
  },
  {
   "cell_type": "code",
   "execution_count": null,
   "id": "885cfe67-f1f5-41d6-8634-a459bdfce4e9",
   "metadata": {},
   "outputs": [],
   "source": [
    "# Scale all population-related quantities up by a factor of 1000\n",
    "model_config.update(\n",
    "    {\n",
    "        \"population\": 1000.,\n",
    "        \"seed\": 10.,\n",
    "    }\n",
    ")\n",
    "\n",
    "# Scale the contact rate parameter down by a factor of 1000\n",
    "dens_parameters.update(\n",
    "    {\n",
    "        \"contact_rate\": 0.001,\n",
    "    }\n",
    ")\n",
    "large_pop_dens_model = get_sir_base_structure(model_config)\n",
    "large_pop_dens_model.add_infection_density_flow(\n",
    "    name=\"infection\", \n",
    "    contact_rate=Parameter(\"contact_rate\"),\n",
    "    source=\"susceptible\", \n",
    "    dest=\"infectious\",\n",
    ")\n",
    "large_pop_dens_model.run(parameters=dens_parameters)\n",
    "large_pop_dens_values = large_pop_dens_model.get_outputs_df()\n",
    "large_pop_dens_values.plot(\n",
    "    labels={\"index\": \"time\", \"value\": \"compartment size\"},\n",
    ")"
   ]
  },
  {
   "cell_type": "markdown",
   "id": "88820632-9beb-4fc0-b03c-464019acae31",
   "metadata": {},
   "source": [
    "So here we have shown that if the population size is fixed over time,\n",
    "we can easily recover the same dynamics for both transmission types.\n",
    "The only difference is the interpretation of the `contact_rate` parameter\n",
    "that we used to produce these two simulations.\n",
    "Under the assumption of frequency dependence,\n",
    "we can interpret this parameter as the rate at which two specific individuals\n",
    "come into effective contact in the population\n",
    "(recalling that effective contact is a contact which would result in transmission\n",
    "if it were to occur between a susceptible and an infectious person).\n",
    "By contrast, under the assumption of density dependence,\n",
    "the `contact_rate` parameter should be interpreted as the number of effective contacts\n",
    "made by an infectious person per unit time.\n",
    "Therefore, the parameter needs to be smaller by a factor of the size of \n",
    "the population under density dependence compared to frequency dependence.\n",
    "\n",
    "## Changing population size\n",
    "So far, this is all pretty trivial.\n",
    "We have demonstrated identical dynamics under these assumptions.\n",
    "Next, let's consider what would happen if the population size changes over time.\n",
    "To do this, let's add deaths to all of the compartments so that the population\n",
    "changes dramatically during the simulation time frame.\n",
    "This unrealistic if we're thinking of the time unit as days,\n",
    "but is an easy way to make sure the population size changes rapidly enough to affect things.\n",
    "\n",
    "### Frequency dependence, declining population"
   ]
  },
  {
   "cell_type": "code",
   "execution_count": null,
   "id": "07ee3953-5b4e-4239-aad8-4dd858fc45f0",
   "metadata": {},
   "outputs": [],
   "source": [
    "sir_freq_deaths_model = get_sir_base_structure(model_config)\n",
    "sir_freq_deaths_model.add_infection_frequency_flow(\n",
    "    name=\"infection\", \n",
    "    contact_rate=Parameter(\"contact_rate\"),\n",
    "    source=\"susceptible\", \n",
    "    dest=\"infectious\",\n",
    ")\n",
    "freq_parameters.update(\n",
    "    {\n",
    "        \"crude_death_rate\": 0.05,\n",
    "    }\n",
    ")\n",
    "sir_freq_deaths_model.add_universal_death_flows(\n",
    "    \"non_infection_deaths\",\n",
    "    Parameter(\"crude_death_rate\"),\n",
    ")\n",
    "sir_freq_deaths_model.run(parameters=freq_parameters)\n",
    "sir_freq_deaths_values = sir_freq_deaths_model.get_outputs_df()\n",
    "sir_freq_deaths_values.plot(\n",
    "    labels={\"index\": \"time\", \"value\": \"compartment size\"},\n",
    ")"
   ]
  },
  {
   "cell_type": "markdown",
   "id": "ed75f00e-bb5d-4bb1-9924-31f9cae18aa2",
   "metadata": {},
   "source": [
    "### Frequency dependence, unchanged proportional epidemic dynamics\n",
    "It looks like the model dynamics are different, and in a sense they are.\n",
    "However, if we look at the proportional sizes of the compartments,\n",
    "we see that actually the dynamics are essentially the same."
   ]
  },
  {
   "cell_type": "code",
   "execution_count": null,
   "id": "eb907dbd-619d-438d-a08e-ca65a002c975",
   "metadata": {},
   "outputs": [],
   "source": [
    "sir_freq_deaths_props = sir_freq_deaths_values.div(sir_freq_deaths_values.sum(axis=1), axis=0)\n",
    "sir_freq_deaths_props.plot(\n",
    "    labels={\"index\": \"time\", \"value\": \"proportion\"},\n",
    ")"
   ]
  },
  {
   "cell_type": "markdown",
   "id": "4ad9c495-63fb-45ba-9ee1-9f8c596b2c9e",
   "metadata": {},
   "source": [
    "### Density dependence, declining population\n",
    "Let's work through the same process for the density-dependent transmission model.\n",
    "Again, if we look at the compartment sizes directly,\n",
    "we can see that the model dynamics have changed."
   ]
  },
  {
   "cell_type": "code",
   "execution_count": null,
   "id": "adf077c4-a8b7-4ad0-827b-b5383077761c",
   "metadata": {},
   "outputs": [],
   "source": [
    "sir_dens_deaths_model = get_sir_base_structure(model_config)\n",
    "sir_dens_deaths_model.add_infection_density_flow(\n",
    "    name=\"infection\", \n",
    "    contact_rate=Parameter(\"contact_rate\"),\n",
    "    source=\"susceptible\", \n",
    "    dest=\"infectious\",\n",
    ")\n",
    "dens_parameters.update(\n",
    "    {\n",
    "        \"crude_death_rate\": 0.05,\n",
    "    }\n",
    ")\n",
    "sir_dens_deaths_model.add_universal_death_flows(\n",
    "    \"non_infection_deaths\",\n",
    "    Parameter(\"crude_death_rate\"),\n",
    ")\n",
    "sir_dens_deaths_model.run(parameters=dens_parameters)\n",
    "sir_dens_deaths_values = sir_dens_deaths_model.get_outputs_df()\n",
    "sir_dens_deaths_values.plot(\n",
    "    labels={\"index\": \"time\", \"value\": \"compartment size\"},\n",
    ")"
   ]
  },
  {
   "cell_type": "markdown",
   "id": "2c864ae6-62e1-4cd4-8da1-bd435d893478",
   "metadata": {},
   "source": [
    "### Density dependence, changed infection dynamics with changing population size\n",
    "However, perhaps more importantly we can also see that the\n",
    "dynamics are different if we look at the compartment proportions over time.\n",
    "Specifically, because the population shrinks as the epidemic proceeds,\n",
    "the rate of infection falls as the `susceptible` and `infectious` compartments\n",
    "of the model drop, which is not offset by the shrinking denominator\n",
    "of the population size (as it would be under frequency dependence).\n",
    "This leads to a smaller epidemic final size relative to population,\n",
    "and so a greater proportion of the population remaining susceptible throughout."
   ]
  },
  {
   "cell_type": "code",
   "execution_count": null,
   "id": "f45a3b0e-54a6-45ae-8428-cffd095c9d6f",
   "metadata": {},
   "outputs": [],
   "source": [
    "sir_dens_deaths_props = sir_dens_deaths_values.div(sir_dens_deaths_values.sum(axis=1), axis=0)\n",
    "sir_dens_deaths_props.plot(\n",
    "    labels={\"index\": \"time\", \"value\": \"proportion\"},\n",
    ")"
   ]
  }
 ],
 "metadata": {
  "kernelspec": {
   "display_name": "Python 3 (ipykernel)",
   "language": "python",
   "name": "python3"
  },
  "language_info": {
   "codemirror_mode": {
    "name": "ipython",
    "version": 3
   },
   "file_extension": ".py",
   "mimetype": "text/x-python",
   "name": "python",
   "nbconvert_exporter": "python",
   "pygments_lexer": "ipython3",
   "version": "3.10.3"
  }
 },
 "nbformat": 4,
 "nbformat_minor": 5
}
