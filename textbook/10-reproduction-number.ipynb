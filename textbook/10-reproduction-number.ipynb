{
 "cells": [
  {
   "cell_type": "markdown",
   "id": "66732e75-cb93-4c36-8117-9909526d72f0",
   "metadata": {},
   "source": [
    "# The reproduction number\n",
    "The reproduction number is a key quantity in infectious disease modelling,\n",
    "which has major implications for epidemic dynamics.\n",
    "It represents the average number of secondary infectious persons resulting from a single infectious person.\n",
    "In modelling, we often consider both the time-varying reproduction ($R_{t}$)\n",
    "and the basic reproduction number ($R_{0}$).\n",
    "The former ($R_{t}$) represents the number of secondary infectious being produced at a time point\n",
    "in the epidemic or the simulation we are running,\n",
    "whereas the latter ($R_{0}$) represents the theoretical number of secondary\n",
    "infectious cases that would occur from a single infectious person in a fully susceptible population.\n",
    "\n",
    "The basic reproduction number is a useful way of conceptualising the overall infectiousness of a pathogen,\n",
    "and provides additional information to the \"contact rate\" that we have previously introduced.\n",
    "The key distinction is that the contact rate represents the number of secondary infections\n",
    "resulting **_per unit time_**, whereas the reproduction number is the number of secondary\n",
    "occurring infectious cases **_per infectious case_**."
   ]
  },
  {
   "cell_type": "code",
   "execution_count": null,
   "id": "b085d664-2bfa-48de-bd29-3275a71d59f7",
   "metadata": {},
   "outputs": [],
   "source": [
    "try:\n",
    "    import google.colab\n",
    "    %pip install summerepi2==1.0.4\n",
    "except:\n",
    "    pass"
   ]
  },
  {
   "cell_type": "code",
   "execution_count": null,
   "id": "7d970b11-a31d-4e3a-b00d-1fbfd7c14eb7",
   "metadata": {},
   "outputs": [],
   "source": [
    "import pandas as pd\n",
    "import numpy as np\n",
    "pd.options.plotting.backend = \"plotly\"\n",
    "\n",
    "from summer2 import CompartmentalModel\n",
    "from summer2.parameters import Parameter"
   ]
  },
  {
   "cell_type": "code",
   "execution_count": null,
   "id": "1b8320cf-7137-4d48-a537-8ad83f27cfe8",
   "metadata": {},
   "outputs": [],
   "source": [
    "def build_sir_model(\n",
    "    config: dict,\n",
    ") -> CompartmentalModel:\n",
    "    \"\"\"\n",
    "    This model is almost identical to the one introduced in notebook 02,\n",
    "    except even simpler because the death outflow has been removed.\n",
    "    \"\"\"\n",
    "    \n",
    "    compartments = (\n",
    "        \"susceptible\",\n",
    "        \"infectious\",\n",
    "        \"recovered\",\n",
    "    )\n",
    "    analysis_times = (0.0, model_config[\"end_time\"])\n",
    "    model = CompartmentalModel(\n",
    "        times=analysis_times,\n",
    "        compartments=compartments,\n",
    "        infectious_compartments=[\"infectious\"],\n",
    "    )\n",
    "    model.set_initial_population(\n",
    "        distribution=\n",
    "        {\n",
    "            \"susceptible\": config[\"population\"] - config[\"seed\"], \n",
    "            \"infectious\": config[\"seed\"],\n",
    "        },\n",
    "    )\n",
    "    \n",
    "    model.add_infection_frequency_flow(\n",
    "        name=\"infection\", \n",
    "        contact_rate=Parameter(\"contact_rate\"),\n",
    "        source=\"susceptible\", \n",
    "        dest=\"infectious\",\n",
    "    )\n",
    "    model.add_transition_flow(\n",
    "        name=\"recovery\", \n",
    "        fractional_rate=Parameter(\"recovery\"),\n",
    "        source=\"infectious\", \n",
    "        dest=\"recovered\",\n",
    "    )\n",
    "    \n",
    "    return model"
   ]
  },
  {
   "cell_type": "code",
   "execution_count": null,
   "id": "154347a9-e993-498f-93ac-eb5aacb73020",
   "metadata": {},
   "outputs": [],
   "source": [
    "model_config = {\n",
    "    \"population\": 1000.0,\n",
    "    \"seed\": 10.0,\n",
    "    \"end_time\": 20.0,\n",
    "}\n",
    "\n",
    "sir_model = build_sir_model(model_config)"
   ]
  },
  {
   "cell_type": "markdown",
   "id": "97cbf244-3d25-40b8-9fb2-241ab5a0ed68",
   "metadata": {},
   "source": [
    "We only need one parameter value for now\n",
    "because we're going to set the `contact_rate` parameter\n",
    "by calculating this later from the $R_{0}$ value we're targeting."
   ]
  },
  {
   "cell_type": "code",
   "execution_count": null,
   "id": "8e1031ae-b2bc-4d0b-83fb-5a03676c9473",
   "metadata": {},
   "outputs": [],
   "source": [
    "parameters = {\"recovery\": 0.333}\n",
    "sojourn_infectious = 1.0 / parameters[\"recovery\"]"
   ]
  },
  {
   "cell_type": "code",
   "execution_count": null,
   "id": "c3b75f75-6c7a-4ba8-83b6-413018c168e2",
   "metadata": {},
   "outputs": [],
   "source": [
    "def get_output_from_r0s(\n",
    "    model: CompartmentalModel,\n",
    "    basic_reproduction_numbers: tuple,\n",
    "    compartment: str,\n",
    ") -> pd.DataFrame:\n",
    "    \"\"\"\n",
    "    Run the model with various basic reproduction numbers,\n",
    "    provided as a user input, and collate the results together.\n",
    "    \n",
    "    Args:\n",
    "        model: The model to be run\n",
    "        basic_reproduction_numbers: The reproduction numbers to use\n",
    "        compartment: The compartment output of interest\n",
    "    Returns:\n",
    "        outputs: Dataframe with the compartment outputs \n",
    "            in columns for each reproduction number\n",
    "    \"\"\"\n",
    "    \n",
    "    outputs = pd.DataFrame(columns=basic_reproduction_numbers)\n",
    "    for r0 in basic_reproduction_numbers:\n",
    "        parameters[\"contact_rate\"] = r0 / sojourn_infectious\n",
    "        model.run(parameters=parameters)\n",
    "        outputs[r0] = sir_model.get_outputs_df()[compartment]\n",
    "        \n",
    "    return outputs"
   ]
  },
  {
   "cell_type": "markdown",
   "id": "c0e52d68-e48a-4845-9de5-384c75b4347e",
   "metadata": {},
   "source": [
    "## Effect of $R_{0}$\n",
    "Of course, the basic reproduction number has a major effect on epidemic dynamics.\n",
    "As for the contact rate, the infectiousness of the pathogen we are simulating\n",
    "scales directly with the parameter value we use for this quantity.\n",
    "A higher $R_{0}$ drives a more rapid take off of the epidemic during the early exponential growth phase.\n",
    "However, this also leads to a more rapid depletion of the susceptible pool,\n",
    "so that the epidemic also begins to decline sooner."
   ]
  },
  {
   "cell_type": "code",
   "execution_count": null,
   "id": "a54f98f4-b2dc-4770-83f4-4755648f4a1a",
   "metadata": {},
   "outputs": [],
   "source": [
    "high_r0s = (2.0, 3.0, 5.0, 10.0)\n",
    "axis_labels = {\"index\": \"time\", \"value\": \"number infectious\"}\n",
    "get_output_from_r0s(sir_model, high_r0s, \"infectious\").plot(labels=axis_labels)"
   ]
  },
  {
   "cell_type": "markdown",
   "id": "0c30179b-9138-4851-9075-7ee97d3e3a13",
   "metadata": {},
   "source": [
    "## Threshold value for epidemic take-off\n",
    "The threshold value of one for the reproduction number is a key tipping point, \n",
    "above which we can expect the epidemic to take off,\n",
    "but below which we expect the infection to steadily decline in the community.\n",
    "Because we are not concerned with stochastic (random) extinction events in these deterministic models,\n",
    "this is seen consistently around this threshold value of one.\n",
    "One minor qualifier here is that for this numerical solution,\n",
    "the threshold doesn't occur exactly at one,\n",
    "because even the fact that a small proportion of the population start off\n",
    "infectious marginally reduces the proportion of the population that is susceptible to infection.\n",
    "(This could be relevant if you're playing around with values very close to one\n",
    "in the following cell.)"
   ]
  },
  {
   "cell_type": "code",
   "execution_count": null,
   "id": "35082c12-b2dd-44f6-8b00-83341feb8462",
   "metadata": {},
   "outputs": [],
   "source": [
    "model_config.update({\"end_time\": 100.0})\n",
    "sir_model = build_sir_model(model_config)\n",
    "close_1_r0s = (0.9, 0.95, 1.05, 1.1)\n",
    "get_output_from_r0s(sir_model, close_1_r0s, \"infectious\").plot(labels=axis_labels)"
   ]
  },
  {
   "cell_type": "markdown",
   "id": "611773ef-6c65-4a13-8d9c-d92bdb246ca4",
   "metadata": {},
   "source": [
    "## Epidemic final size\n",
    "The higher we turn $R_{0}$ up,\n",
    "the greater the proportion of the population that will be infected.\n",
    "As we reach very high values for this quantity (e.g. >10),\n",
    "nearly all the population becomes infected by the end of the simulation period\n",
    "(although always short of 100% of the population)."
   ]
  },
  {
   "cell_type": "code",
   "execution_count": null,
   "id": "c207ab1b-8c4b-47ff-9e89-be482519d4ed",
   "metadata": {},
   "outputs": [],
   "source": [
    "final_size_r0s = np.linspace(1.0, 4.0, 31)\n",
    "model_config.update(\n",
    "    {\n",
    "        \"end_time\": 200.0,\n",
    "        \"population\": 1.0,\n",
    "        \"seed\": 0.01,\n",
    "    }\n",
    ")\n",
    "sir_model = build_sir_model(model_config)\n",
    "get_output_from_r0s(sir_model, final_size_r0s, \"recovered\").iloc[-1].plot(\n",
    "    labels={\"index\": \"R0\", \"value\": \"epidemic final size\"},\n",
    ").update_layout(showlegend=False)"
   ]
  },
  {
   "cell_type": "markdown",
   "id": "c50ab869-a0cc-4807-b854-af79cf3d97e0",
   "metadata": {},
   "source": [
    "## The time-varying reproduction number, $R_{t}$\n",
    "With our simple epidemic model, when the entire population is susceptible at the start of the epidemic,\n",
    "the effective reproduction number will be equal to the the basic reproduction number.\n",
    "However, as the proportion of the population susceptible declines,\n",
    "the effective reproduction number will also fall.\n",
    "Specifically, the time-varying reproduction number is scaled by \n",
    "the proportion of the population remaining susceptible, such that\n",
    "$$ R_{t}= R_{0}\\times \\frac{S(t)}{N(t)} $$\n",
    "where $ N(t) $ is the population size and $ S(t) $ is the number of susceptibles at time $ t $.\n",
    "As the proportion of the population susceptible declines below $ \\frac{1}{R_{0}} $,\n",
    "we expect the effective reproduction number to fall below one.\n",
    "This will result in the epidemic no longer increasing and instead beginning to decline.\n",
    "(We also introduce this idea more briefly in [notebook 02](./02-basic-model-intro.ipynb).) Let's see if that happens."
   ]
  },
  {
   "cell_type": "code",
   "execution_count": null,
   "id": "13a0e044-2aef-4b3d-88a2-0c684a147338",
   "metadata": {},
   "outputs": [],
   "source": [
    "# Just scale a couple of configuration parameters to allow for easier inspection\n",
    "model_config.update(\n",
    "    {\n",
    "        \"end_time\": 20.0,\n",
    "        \"population\": 10.0,   \n",
    "    }\n",
    ")\n",
    "sir_model = build_sir_model(model_config)"
   ]
  },
  {
   "cell_type": "code",
   "execution_count": null,
   "id": "850dc92e-d880-4cea-b20d-54ae653e15e6",
   "metadata": {},
   "outputs": [],
   "source": [
    "# Chose your basic reproduction number\n",
    "r0 = 4.0\n",
    "\n",
    "# Calculate the contact rate parameter from R0\n",
    "parameters.update({\"contact_rate\": r0 / sojourn_infectious})\n",
    "\n",
    "# Run and get outputs\n",
    "sir_model.run(parameters=parameters)\n",
    "outputs = sir_model.get_outputs_df()\n",
    "\n",
    "# Calculate the time-varying reproduction number, Rt\n",
    "outputs[\"reproduction_number\"] = r0 * outputs[\"susceptible\"] / model_config[\"population\"]\n",
    "\n",
    "# Note the threshold value of one\n",
    "outputs[\"threshold\"] = 1.0\n",
    "\n",
    "# Plot\n",
    "outputs[[\"reproduction_number\", \"infectious\", \"threshold\"]].plot(\n",
    "    labels={\"index\": \"time\", \"value\": \"number or prevalence\"}\n",
    ")"
   ]
  },
  {
   "cell_type": "markdown",
   "id": "89037042-0bc5-4cbc-9ee9-885589c7c7c0",
   "metadata": {},
   "source": [
    "Note that although this is true for our very simple SIR model,\n",
    "including a latent period to create an SEIR model \n",
    "would result in a small delay between the \n",
    "reproduction number falling to one and the reversal of the epidemic,\n",
    "which is a commonly included consideration.\n",
    "\n",
    "## Herd immunity threshold\n",
    "The herd immunity threshold is the point at which \n",
    "a sufficient proportion of the population have achieved immunity\n",
    "for the epidemic to begin to decline.\n",
    "When the proportion susceptible is the reciprocal of \n",
    "the basic reproduction number, population immunity will be sufficient to slow transmission.\n",
    "In mathematical terms, at the herd immunity threshold:\n",
    "$$ R_{t} = 1 $$\n",
    "$$ R_{t} = R_{0} \\times S(t) $$\n",
    "$$ S(t) \\approx 1 - R(t) $$\n",
    "(Note that $R(t)$ is the recovered population, not to be confused with $R_{t}$.)\n",
    "From these equations, we have:\n",
    "$$ R_{0} \\times S(t) = 1 $$\n",
    "$$ S(t) = \\frac{1}{R_{0}} $$\n",
    "$$ R(t) = 1 - \\frac{1}{R_{0}} $$\n",
    "This is a classic calculation in infectious disease modelling."
   ]
  }
 ],
 "metadata": {
  "kernelspec": {
   "display_name": "Python 3 (ipykernel)",
   "language": "python",
   "name": "python3"
  },
  "language_info": {
   "codemirror_mode": {
    "name": "ipython",
    "version": 3
   },
   "file_extension": ".py",
   "mimetype": "text/x-python",
   "name": "python",
   "nbconvert_exporter": "python",
   "pygments_lexer": "ipython3",
   "version": "3.10.4"
  }
 },
 "nbformat": 4,
 "nbformat_minor": 5
}
