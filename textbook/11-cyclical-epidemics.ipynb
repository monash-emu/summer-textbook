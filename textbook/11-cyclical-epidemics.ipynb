{
 "cells": [
  {
   "cell_type": "markdown",
   "id": "8cee4052-7463-4912-a9ea-7eb59c71c987",
   "metadata": {},
   "source": [
    "# Cyclical epidemic dynamics\n",
    "Both in models and in reality, we can observe regular cycles in\n",
    "the epidemiology of infectious disease outbreaks.\n"
   ]
  },
  {
   "cell_type": "code",
   "execution_count": null,
   "id": "6b5c0873-bc10-4f4f-a829-75df76bbaf88",
   "metadata": {},
   "outputs": [],
   "source": [
    "import pandas as pd\n",
    "pd.options.plotting.backend = \"plotly\"\n",
    "import plotly.express as px\n",
    "\n",
    "from summer2 import CompartmentalModel"
   ]
  },
  {
   "cell_type": "code",
   "execution_count": null,
   "id": "a61f68bb-3591-48ab-bf70-ce8f5caa681b",
   "metadata": {},
   "outputs": [],
   "source": [
    "# Raw input parameters\n",
    "infectious_period = 7.\n",
    "r0 = 13.\n",
    "life_expectancy = 70.\n",
    "population = 1e5\n",
    "seed = 1.\n",
    "\n",
    "# Derived parameters\n",
    "beta = r0 / infectious_period\n",
    "progression = 0.333\n",
    "recovery = 1. / infectious_period\n",
    "mortality = 1. / life_expectancy / 365.\n",
    "\n",
    "# Create the SEIR model with demographic processes\n",
    "compartments = (\n",
    "    \"susceptible\", \n",
    "    \"latent\", \n",
    "    \"infectious\", \n",
    "    \"recovered\"\n",
    ")\n",
    "seir_demog_model = CompartmentalModel(\n",
    "    times=(0, 36500.),\n",
    "    compartments=compartments,\n",
    "    infectious_compartments=[\"infectious\"],\n",
    ")\n",
    "seir_demog_model.set_initial_population(\n",
    "    distribution={\n",
    "        \"susceptible\": population - seed, \n",
    "        \"infectious\": seed,\n",
    "    }\n",
    ")\n",
    "seir_demog_model.add_infection_frequency_flow(\n",
    "    name=\"infection\", \n",
    "    contact_rate=beta,\n",
    "    source=\"susceptible\", \n",
    "    dest=\"latent\",\n",
    ")\n",
    "seir_demog_model.add_transition_flow(\n",
    "    name=\"progression\", \n",
    "    fractional_rate=progression,\n",
    "    source=\"latent\", \n",
    "    dest=\"infectious\"\n",
    ")\n",
    "seir_demog_model.add_transition_flow(\n",
    "    name=\"recovery\", \n",
    "    fractional_rate=recovery, \n",
    "    source=\"infectious\", \n",
    "    dest=\"recovered\",\n",
    ")\n",
    "seir_demog_model.add_universal_death_flows(\n",
    "    \"universal_death\",\n",
    "    death_rate=mortality,\n",
    ")\n",
    "seir_demog_model.add_replacement_birth_flow(\n",
    "    \"births\",\n",
    "    \"susceptible\",\n",
    ")"
   ]
  },
  {
   "cell_type": "code",
   "execution_count": null,
   "id": "af47ef76-5831-4cca-ad1c-b32b68453fb7",
   "metadata": {},
   "outputs": [],
   "source": [
    "seir_demog_model.run()"
   ]
  },
  {
   "cell_type": "code",
   "execution_count": null,
   "id": "3ea431e7-9812-4c4e-9614-39c68f977048",
   "metadata": {},
   "outputs": [],
   "source": [
    "outputs = seir_demog_model.get_outputs_df()\n",
    "outputs.plot()"
   ]
  },
  {
   "cell_type": "markdown",
   "id": "8cb72675-f3c5-4b48-a2e7-27a04cab7b8b",
   "metadata": {},
   "source": [
    "## Phase plane"
   ]
  },
  {
   "cell_type": "code",
   "execution_count": null,
   "id": "3a28b16c-c871-4dc5-8009-a276bcc219b0",
   "metadata": {},
   "outputs": [],
   "source": [
    "fig = px.line(outputs.loc[outputs.index > 100.], x=\"susceptible\", y=\"infectious\")\n",
    "fig.show()"
   ]
  }
 ],
 "metadata": {
  "kernelspec": {
   "display_name": "Python 3 (ipykernel)",
   "language": "python",
   "name": "python3"
  },
  "language_info": {
   "codemirror_mode": {
    "name": "ipython",
    "version": 3
   },
   "file_extension": ".py",
   "mimetype": "text/x-python",
   "name": "python",
   "nbconvert_exporter": "python",
   "pygments_lexer": "ipython3",
   "version": "3.10.4"
  }
 },
 "nbformat": 4,
 "nbformat_minor": 5
}
