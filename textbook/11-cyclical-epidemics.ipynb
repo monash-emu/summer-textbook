{
 "cells": [
  {
   "cell_type": "markdown",
   "id": "8cee4052-7463-4912-a9ea-7eb59c71c987",
   "metadata": {},
   "source": [
    "# Cyclical epidemic dynamics\n",
    "Both in models and in reality, we can observe regular cycles in\n",
    "the epidemiology of infectious disease outbreaks.\n"
   ]
  },
  {
   "cell_type": "code",
   "execution_count": null,
   "id": "6b5c0873-bc10-4f4f-a829-75df76bbaf88",
   "metadata": {},
   "outputs": [],
   "source": [
    "import pandas as pd\n",
    "pd.options.plotting.backend = \"plotly\"\n",
    "import plotly.express as px\n",
    "\n",
    "from summer2 import CompartmentalModel\n",
    "from summer2.parameters import Parameter"
   ]
  },
  {
   "cell_type": "code",
   "execution_count": null,
   "id": "41270cc9-bbe0-4e94-af51-d9cd7297b282",
   "metadata": {},
   "outputs": [],
   "source": [
    "def build_sir_model(model_config):\n",
    "\n",
    "    compartments = (\n",
    "        \"susceptible\", \n",
    "        \"latent\", \n",
    "        \"infectious\", \n",
    "        \"recovered\",\n",
    "    )\n",
    "    model = CompartmentalModel(\n",
    "        times=(\n",
    "            model_config[\"start_time\"],\n",
    "            model_config[\"end_time\"],\n",
    "        ),\n",
    "        compartments=compartments,\n",
    "        infectious_compartments=[\"infectious\"],\n",
    "    )\n",
    "    model.set_initial_population(\n",
    "        distribution={\n",
    "            \"susceptible\": model_config[\"population\"] - model_config[\"seed\"], \n",
    "            \"infectious\": model_config[\"seed\"],\n",
    "        }\n",
    "    )\n",
    "    model.add_infection_frequency_flow(\n",
    "        name=\"infection\", \n",
    "        contact_rate=Parameter(\"contact_rate\"),\n",
    "        source=\"susceptible\", \n",
    "        dest=\"infectious\",\n",
    "    )\n",
    "    model.add_transition_flow(\n",
    "        name=\"recovery\", \n",
    "        fractional_rate=Parameter(\"recovery_rate\"), \n",
    "        source=\"infectious\", \n",
    "        dest=\"recovered\",\n",
    "    )\n",
    "    return model"
   ]
  },
  {
   "cell_type": "code",
   "execution_count": null,
   "id": "4570e2f5-f5ed-45de-94db-055fb4333983",
   "metadata": {},
   "outputs": [],
   "source": [
    "model_config = {\n",
    "    \"start_time\": 0.,\n",
    "    \"end_time\": 1e3,\n",
    "    \"population\": 1e5,\n",
    "    \"seed\": 1.,\n",
    "}\n",
    "sir_wane_model = build_sir_model(model_config)\n",
    "\n",
    "sir_wane_model.add_transition_flow(\n",
    "    name=\"waning\", \n",
    "    fractional_rate=Parameter(\"replenishment\"), \n",
    "    source=\"recovered\", \n",
    "    dest=\"susceptible\",\n",
    ")"
   ]
  },
  {
   "cell_type": "code",
   "execution_count": null,
   "id": "a61f68bb-3591-48ab-bf70-ce8f5caa681b",
   "metadata": {},
   "outputs": [],
   "source": [
    "# Raw input parameters\n",
    "parameters = {\n",
    "    \"recovery_rate\": 0.333,\n",
    "    \"contact_rate\": 1.,\n",
    "    \"replenishment\": 0.005,\n",
    "}\n",
    "population = 1e5\n",
    "seed = 1."
   ]
  },
  {
   "cell_type": "code",
   "execution_count": null,
   "id": "b8ccff09-ffe0-4bb5-b956-5e7b570c1057",
   "metadata": {},
   "outputs": [],
   "source": [
    "sir_demog_model = build_sir_model(model_config)\n",
    "\n",
    "sir_demog_model.add_universal_death_flows(\n",
    "    \"universal_death\",\n",
    "    death_rate=Parameter(\"replenishment\"),\n",
    ")\n",
    "sir_demog_model.add_replacement_birth_flow(\n",
    "    \"births\",\n",
    "    \"susceptible\",\n",
    ")"
   ]
  },
  {
   "cell_type": "code",
   "execution_count": null,
   "id": "af47ef76-5831-4cca-ad1c-b32b68453fb7",
   "metadata": {},
   "outputs": [],
   "source": [
    "sir_wane_model.run(parameters=parameters)\n",
    "outputs = sir_wane_model.get_outputs_df()\n",
    "outputs.plot()"
   ]
  },
  {
   "cell_type": "code",
   "execution_count": null,
   "id": "3ea431e7-9812-4c4e-9614-39c68f977048",
   "metadata": {},
   "outputs": [],
   "source": [
    "sir_demog_model.run(parameters=parameters)\n",
    "sir_demog_model.get_outputs_df().plot()"
   ]
  },
  {
   "cell_type": "markdown",
   "id": "8cb72675-f3c5-4b48-a2e7-27a04cab7b8b",
   "metadata": {},
   "source": [
    "## Phase plane"
   ]
  },
  {
   "cell_type": "code",
   "execution_count": null,
   "id": "fde356b3-8629-469e-97e4-dd01c4f13747",
   "metadata": {},
   "outputs": [],
   "source": [
    "outputs_after_100 = outputs.loc[outputs.index > 70.]"
   ]
  },
  {
   "cell_type": "code",
   "execution_count": null,
   "id": "3a28b16c-c871-4dc5-8009-a276bcc219b0",
   "metadata": {},
   "outputs": [],
   "source": [
    "fig = px.line(\n",
    "    outputs_after_100, \n",
    "    x=\"susceptible\", \n",
    "    y=\"infectious\"\n",
    ")\n",
    "fig.show()"
   ]
  },
  {
   "cell_type": "code",
   "execution_count": null,
   "id": "c6aee2f3-6333-4ab0-8c9d-a10ae60bbb44",
   "metadata": {},
   "outputs": [],
   "source": [
    "px.line_3d(\n",
    "    outputs_after_100, \n",
    "    x=\"susceptible\", \n",
    "    y=\"infectious\", \n",
    "    z=outputs_after_100.index\n",
    ")"
   ]
  }
 ],
 "metadata": {
  "kernelspec": {
   "display_name": "Python 3 (ipykernel)",
   "language": "python",
   "name": "python3"
  },
  "language_info": {
   "codemirror_mode": {
    "name": "ipython",
    "version": 3
   },
   "file_extension": ".py",
   "mimetype": "text/x-python",
   "name": "python",
   "nbconvert_exporter": "python",
   "pygments_lexer": "ipython3",
   "version": "3.10.3"
  }
 },
 "nbformat": 4,
 "nbformat_minor": 5
}
