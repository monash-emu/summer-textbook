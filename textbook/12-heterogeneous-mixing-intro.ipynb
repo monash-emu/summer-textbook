{
 "cells": [
  {
   "cell_type": "markdown",
   "id": "b0772d4f-cee8-417f-866c-b38537fb9ca0",
   "metadata": {},
   "source": [
    "# Heterogeneous mixing\n",
    "Heterogeneous mixing between population sub-groups\n",
    "can be one of the most difficult areas of\n",
    "compartmental modelling of infectious disease transmission.\n",
    "For this reason, we'll work through this over the course of several notebooks.\n",
    "Let's start off with the rationale of why we're doing this and what we're trying to achieve.\n",
    "\n",
    "## Rationale\n",
    "Direct transmission of infectious pathogens is driven by interactions between \n",
    "individuals within the human population we're simulating.\n",
    "For the previous models we've been simulating,\n",
    "we have been assuming homogeneous mixing.\n",
    "This assumption means that any two individuals within the population\n",
    "have the same chance of coming into contact and transmitting infection.\n",
    "This is analogous to how gas particles interact in Brownian motion,\n",
    "but may not fully represent how humans interact in society.\n",
    "However, in reality, there is heterogeneity in the rate of contact between people\n",
    "in our population of interest, which may be driven by a range of factors.\n",
    "One way of simulating this would be to represent every person in the population separately, \n",
    "which is in fact a commonly adopted approach, called agent-based or network modelling.\n",
    "For now, we're going to keep focusing on compartmental models,\n",
    "and so we'll have to represent our population sub-groups as compartments.\n",
    "Even with just a compartmental model,\n",
    "it is still possible to incorporate heterogeneous mixing between our population groups.\n",
    "\n",
    "## Assumptions\n",
    "Throughout these sections on heterogeneous mixing, let's maintain some key assumptions:\n",
    "- We're considering only directly-transmitted infections within a single population\n",
    "(we won't consider vector-borne infections or environmental infections,\n",
    "but we've been doing this throughout the course so far anyway)\n",
    "- Any population heterogeneity we're interested in will apply to the entire population,\n",
    "and our stratifications should therefore be applied to the entire population\n",
    "(so if we implement a stratification to capture a \"rural\" stratum of the population,\n",
    "we should also implement an \"urban\" stratum)"
   ]
  }
 ],
 "metadata": {
  "kernelspec": {
   "display_name": "Python 3 (ipykernel)",
   "language": "python",
   "name": "python3"
  },
  "language_info": {
   "codemirror_mode": {
    "name": "ipython",
    "version": 3
   },
   "file_extension": ".py",
   "mimetype": "text/x-python",
   "name": "python",
   "nbconvert_exporter": "python",
   "pygments_lexer": "ipython3",
   "version": "3.10.3"
  }
 },
 "nbformat": 4,
 "nbformat_minor": 5
}
