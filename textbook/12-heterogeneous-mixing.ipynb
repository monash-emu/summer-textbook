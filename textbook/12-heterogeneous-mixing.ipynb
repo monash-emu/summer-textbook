{
 "cells": [
  {
   "cell_type": "code",
   "execution_count": null,
   "id": "2b6ed63c-3b04-412c-be87-195cb4b64d66",
   "metadata": {},
   "outputs": [],
   "source": [
    "import pandas as pd\n",
    "import numpy as np\n",
    "pd.options.plotting.backend = \"plotly\"\n",
    "from jax import numpy as jnp\n",
    "\n",
    "from summer2 import CompartmentalModel, Stratification, Multiply\n",
    "from summer2.parameters import Parameter, DerivedOutput, Function"
   ]
  },
  {
   "cell_type": "code",
   "execution_count": null,
   "id": "8db6ac76-a96d-420f-9e6a-5f8099edc69d",
   "metadata": {},
   "outputs": [],
   "source": [
    "def build_sir_model(\n",
    "    config: dict,\n",
    "    stratify: bool,\n",
    ") -> CompartmentalModel:\n",
    "    \n",
    "    # Model characteristics\n",
    "    compartments = config[\"compartments\"]\n",
    "    analysis_times = (0., config[\"end_time\"])\n",
    "    model = CompartmentalModel(\n",
    "        times=analysis_times,\n",
    "        compartments=compartments,\n",
    "        infectious_compartments=(\"infectious\",),\n",
    "    )\n",
    "    model.set_initial_population(\n",
    "        distribution=\n",
    "        {\n",
    "            \"susceptible\": config[\"population\"] - config[\"seed\"], \n",
    "            \"infectious\": config[\"seed\"],\n",
    "        }\n",
    "    )\n",
    "    \n",
    "    # Transitions\n",
    "    model.add_infection_density_flow(\n",
    "        name=\"infection\", \n",
    "        contact_rate=Parameter(\"contact_rate\"),\n",
    "        source=\"susceptible\", \n",
    "        dest=\"infectious\",\n",
    "    )\n",
    "    model.add_transition_flow(\n",
    "        name=\"recovery\", \n",
    "        fractional_rate=1. / Parameter(\"infectious_period\"),\n",
    "        source=\"infectious\", \n",
    "        dest=\"recovered\",\n",
    "    )\n",
    "    \n",
    "    model.request_output_for_compartments(\n",
    "        \"n_infectious\",\n",
    "        \"infectious\",\n",
    "    )\n",
    "    \n",
    "    return model"
   ]
  },
  {
   "cell_type": "code",
   "execution_count": null,
   "id": "9910f444-bcf2-47e6-9f44-b44ec709daf3",
   "metadata": {},
   "outputs": [],
   "source": [
    "def build_simple_strat(compartments):\n",
    "                \n",
    "    mix_strat = Stratification(\n",
    "        \"activity\",\n",
    "        [\"urban\", \"rural\"],\n",
    "        compartments,\n",
    "    )\n",
    "\n",
    "    urban_prop = Parameter(\"urban_prop\")\n",
    "    rural_prop = 1. - urban_prop\n",
    "\n",
    "    mix_strat.set_population_split(\n",
    "        {\n",
    "            \"urban\": urban_prop,\n",
    "            \"rural\": rural_prop,\n",
    "        }\n",
    "    )\n",
    "\n",
    "    mixing_matrix = jnp.array(\n",
    "        [\n",
    "            [1., 1.],\n",
    "            [1., 1.],\n",
    "        ]\n",
    "    )\n",
    "\n",
    "    mix_strat.set_mixing_matrix(mixing_matrix)\n",
    "\n",
    "    return mix_strat"
   ]
  },
  {
   "cell_type": "code",
   "execution_count": null,
   "id": "8f81f973-5c66-4ea5-9fce-bc2151b05498",
   "metadata": {},
   "outputs": [],
   "source": [
    "model_config = {\n",
    "    \"end_time\": 20.,\n",
    "    \"population\": 1.,\n",
    "    \"seed\": 0.01,\n",
    "    \"compartments\": (\"susceptible\", \"infectious\", \"recovered\"),\n",
    "}\n",
    "parameters = {\n",
    "    \"contact_rate\": 1.,\n",
    "    \"infectious_period\": 2.,\n",
    "    \"urban_prop\": 0.1,\n",
    "}\n",
    "\n",
    "outputs = pd.DataFrame(columns=(True, False))\n",
    "for stratify in (True, False):\n",
    "    heterogeneous_mixing_model = build_sir_model(model_config, stratify)\n",
    "    if stratify:\n",
    "        mix_strat = build_simple_strat(model_config[\"compartments\"])\n",
    "        heterogeneous_mixing_model.stratify_with(mix_strat)\n",
    "    \n",
    "    heterogeneous_mixing_model.run(parameters=parameters)\n",
    "    outputs[stratify] = heterogeneous_mixing_model.get_derived_outputs_df()[\"n_infectious\"]"
   ]
  },
  {
   "cell_type": "code",
   "execution_count": null,
   "id": "623375d4-eeae-4048-a709-330fe3558abb",
   "metadata": {},
   "outputs": [],
   "source": [
    "list(zip(outputs[True], outputs[False]))"
   ]
  },
  {
   "cell_type": "code",
   "execution_count": null,
   "id": "ac3fb6f7-8afe-4221-8145-e67d6bc6b36e",
   "metadata": {},
   "outputs": [],
   "source": [
    "[i - j < 0.0001 for i, j in zip(outputs[True], outputs[False])]"
   ]
  },
  {
   "cell_type": "code",
   "execution_count": null,
   "id": "c9e8ec4b-53ad-485a-96ae-2d00c7d4021d",
   "metadata": {},
   "outputs": [],
   "source": [
    "outputs.plot()"
   ]
  }
 ],
 "metadata": {
  "kernelspec": {
   "display_name": "Python 3 (ipykernel)",
   "language": "python",
   "name": "python3"
  },
  "language_info": {
   "codemirror_mode": {
    "name": "ipython",
    "version": 3
   },
   "file_extension": ".py",
   "mimetype": "text/x-python",
   "name": "python",
   "nbconvert_exporter": "python",
   "pygments_lexer": "ipython3",
   "version": "3.10.4"
  }
 },
 "nbformat": 4,
 "nbformat_minor": 5
}
