{
 "cells": [
  {
   "cell_type": "markdown",
   "id": "239ad1bb-b90e-49d2-8ec1-692e2db10eb9",
   "metadata": {},
   "source": [
    "# Population interactions\n",
    "\n",
    "## Rationale\n",
    "So we've now got to the point that we should have\n",
    "some idea of what we are meaning by the mixing matrices\n",
    "that we might like to put into a model.\n",
    "But what do we really mean epidemiologically by\n",
    "different rates of contact between population groups?\n",
    "In reality, people who share certain characteristics\n",
    "often come into contact with people from other groups\n",
    "at rates that differ systematically \n",
    "from pepole who don't share those characteristics.\n",
    "\n",
    "For example, suppose we have two population groups,\n",
    "and we want to consider that people from one population group\n",
    "are more likely to contact other people from that same group\n",
    "than they are to contact other people from the other group.\n",
    "Let's call our two population groups `group1` and `group2`.\n",
    "We've decided that the rate at which a person from \n",
    "`group1` contacts others from `group1` should be greater than the\n",
    "rate at which someone from from `group1` contacts people from `group2`.\n",
    "However, to implement this in a model,\n",
    "we'll need to think about every possible combination of people from one group\n",
    "coming into contact with people from any other group\n",
    "(including the group that person is from themself).\n",
    "So the number of possible group-group interactions we have will\n",
    "be the square of the number of groups we're modelling.\n",
    "This is four in the current example,\n",
    "and we'll need to decide on values for each of the four cells of our $2\\times 2$ matrix.\n",
    "\n",
    "## Starting assumptions\n",
    "It's probably slightly simpler to start looking at this under the density-dependent framework,\n",
    "because we're dealing with _per capita per capita_ rates \n",
    "(i.e. _per capita_ with respect to both the susceptible and the infecting individual).\n",
    "In this case, we might like to consider that the rate at which \n",
    "the first population group contacts the second is the same as the rate\n",
    "at which the second contacts the first.\n",
    "Provided we are thinking of the contents of the mixing matrix as \n",
    "rates of contact per individual per unit time, this is fine.\n",
    "\n",
    "For now, let's still assume that there are no epidemiological\n",
    "differences between our groups, \n",
    "such as in susceptibility or infectiousness\n",
    "(which we'll explore in the [following notebook](./15-susceptibility-infectiousness-matrices.ipynb).\n",
    "Sticking to this approach should make things easier,\n",
    "because we can think of the mixing matrix as just containing\n",
    "the rates at which people come into contact with one another\n",
    "regardless of the risk of transmission from that contact.\n",
    "\n",
    "To summarise, let's start off assuming:\n",
    "- Two interacting population subgroups\n",
    "- Density-dependent transmission\n",
    "- Uniform susceptibility and infectiousness for both groups\n",
    "- Our mixing matrix contains information on the rate of interaction between specific individuals from each possible combination of the two population subgroups being modelled\n",
    "\n",
    "## Assortative mixing\n",
    "The slightly more general assumption\n",
    "that interactions with your own population group\n",
    "happen more often than interactions with other population groups\n",
    "is what is called \"assortative mixing\".\n",
    "For example, our two population groups might represent\n",
    "people living in two neighbouring towns,\n",
    "and we might want to consider that the rate at which\n",
    "people come into contact with other people from their own town\n",
    "is greater than the rate at which they come into contact \n",
    "with people from the other town.\n",
    "\n",
    "Let's define a function that can do this for us,\n",
    "and build a really simple matrix to represent the idea."
   ]
  },
  {
   "cell_type": "code",
   "execution_count": null,
   "id": "8048038b-8d44-4e5e-b5a7-1a196ba08f05",
   "metadata": {},
   "outputs": [],
   "source": [
    "import numpy as np\n",
    "import pandas as pd\n",
    "from jax import numpy as jnp\n",
    "pd.options.plotting.backend = \"plotly\"\n",
    "import plotly.express as px\n",
    "\n",
    "from summer2 import CompartmentalModel, Stratification\n",
    "from summer2.parameters import Parameter, Function, DerivedOutput"
   ]
  },
  {
   "cell_type": "code",
   "execution_count": null,
   "id": "25bf7b87-1fb0-45a4-9c52-cfab99087ef7",
   "metadata": {},
   "outputs": [],
   "source": [
    "def build_assortative_mixing_matrix(\n",
    "    intergroup_contact_rate: float, \n",
    "    jax: bool=True,\n",
    ") -> np.array:\n",
    "    \"\"\"\n",
    "    Get a basic 2 x 2 matrix with ones on the diagonal\n",
    "    and the user-submitted request on the off-diagonal.\n",
    "    \n",
    "    Args:\n",
    "        intergroup_contact_rate: Value for the off-diagonal cells\n",
    "        jax: Whether to return as a numpy or jax numpy array\n",
    "    \"\"\"\n",
    "    \n",
    "    values = [\n",
    "        [1.0, intergroup_contact_rate],\n",
    "        [intergroup_contact_rate, 1.0],\n",
    "    ]\n",
    "    \n",
    "    return jnp.array(values) if jax else np.array(values)"
   ]
  },
  {
   "cell_type": "code",
   "execution_count": null,
   "id": "bd5b6f2d-34a5-4f22-80a2-0b48123f2a34",
   "metadata": {},
   "outputs": [],
   "source": [
    "assortative_matrix = build_assortative_mixing_matrix(0.5, jax=False)\n",
    "px.imshow(assortative_matrix)"
   ]
  },
  {
   "cell_type": "markdown",
   "id": "60276ab4-02e0-433c-8c3b-e60639df6db8",
   "metadata": {},
   "source": [
    "OK, so we've demonstrated what a very simple assortative mixing matrix looks like.\n",
    "Next, let's get this running in a `summer` model."
   ]
  },
  {
   "cell_type": "code",
   "execution_count": null,
   "id": "ecbd99de-9c58-4230-bb04-dc9b20228e18",
   "metadata": {},
   "outputs": [],
   "source": [
    "def build_sir_model(\n",
    "    config: dict,\n",
    ") -> CompartmentalModel:\n",
    "    \"\"\"\n",
    "    This is the same model as introduced in the mixing-and-transmission notebook.\n",
    "    \n",
    "    Args:\n",
    "        config: User requests to define model construction\n",
    "    Returns:\n",
    "        The very basic model object\n",
    "    \"\"\"\n",
    "    compartments = config[\"compartments\"]\n",
    "    analysis_times = (0.0, config[\"end_time\"])\n",
    "    model = CompartmentalModel(\n",
    "        times=analysis_times,\n",
    "        compartments=compartments,\n",
    "        infectious_compartments=(\"infectious\",),\n",
    "    )\n",
    "    model.set_initial_population(\n",
    "        distribution=\n",
    "        {\n",
    "            \"susceptible\": config[\"population\"] - config[\"seed\"], \n",
    "            \"infectious\": config[\"seed\"],\n",
    "        }\n",
    "    )\n",
    "    \n",
    "    model.add_infection_density_flow(\n",
    "        name=\"infection\",\n",
    "        contact_rate=Parameter(\"risk_per_contact\"),\n",
    "        source=\"susceptible\",\n",
    "        dest=\"infectious\",\n",
    "    )\n",
    "    model.add_transition_flow(\n",
    "        name=\"recovery\", \n",
    "        fractional_rate=1. / Parameter(\"infectious_period\"),\n",
    "        source=\"infectious\", \n",
    "        dest=\"recovered\",\n",
    "    )\n",
    "    \n",
    "    return model"
   ]
  },
  {
   "cell_type": "code",
   "execution_count": null,
   "id": "872b985f-2e7b-47b3-ba97-e382adc996e5",
   "metadata": {},
   "outputs": [],
   "source": [
    "def build_simple_strat(\n",
    "    compartments: list,\n",
    ") -> Stratification:\n",
    "    \"\"\"\n",
    "    Get a stratification that divides the modelled population into two groups\n",
    "    and applies a symmetric mixing matrix.\n",
    "    \n",
    "    Args:\n",
    "        compartments: The compartments to be stratified (here all the model's compartments)\n",
    "        mixing_matrix: The mixing matrix for this stratification\n",
    "    Returns:\n",
    "        The completed Stratification object    \n",
    "    \"\"\"\n",
    "                \n",
    "    mix_strat = Stratification(\n",
    "        \"groups\",\n",
    "        [\"group1\", \"group2\"],\n",
    "        compartments,\n",
    "    )\n",
    "    \n",
    "    prop1 = Parameter(\"prop1\")\n",
    "    prop2 = 1. - prop1\n",
    "    mix_strat.set_population_split(\n",
    "        {\n",
    "            \"group1\": prop1,\n",
    "            \"group2\": prop2,\n",
    "        }\n",
    "    )\n",
    "\n",
    "    mixing_matrix = Function(\n",
    "        build_assortative_mixing_matrix, \n",
    "        (Parameter(\"intergroup_interaction\"),),\n",
    "    )\n",
    "    \n",
    "    mix_strat.set_mixing_matrix(mixing_matrix)\n",
    "\n",
    "    return mix_strat"
   ]
  },
  {
   "cell_type": "code",
   "execution_count": null,
   "id": "46c29c08-7dcf-4678-9c4e-f2b5a5fb1dca",
   "metadata": {},
   "outputs": [],
   "source": [
    "def add_group_strat_prevalence_request(\n",
    "    model: CompartmentalModel, \n",
    "    model_name: str,\n",
    "):\n",
    "    \"\"\"\n",
    "    Track the prevalence of infection in the population\n",
    "    of a previously defined model, as well as \n",
    "    the prevalence in each stratified sub-group of the model\n",
    "    (provided these are named in a standard way, using \"group\").\n",
    "    \n",
    "    Args:\n",
    "        model: The model object to modify in-place\n",
    "        model_name: A string to add for the name of the model\n",
    "    \"\"\"\n",
    "    \n",
    "    model.request_output_for_compartments(\n",
    "        f\"{model_name}_prevalence\",\n",
    "        \"infectious\",\n",
    "    )\n",
    "    \n",
    "    for group in model.get_stratification(\"groups\").strata:\n",
    "        model.request_output_for_compartments(\n",
    "            f\"total_{group}\",\n",
    "            model_config[\"compartments\"],\n",
    "            strata={\"groups\": group},\n",
    "            save_results=False,\n",
    "        )\n",
    "        model.request_output_for_compartments(\n",
    "            f\"n_infectious_{group}\",\n",
    "            \"infectious\",\n",
    "            strata={\"groups\": group},\n",
    "            save_results=False,\n",
    "        )\n",
    "        model.request_function_output(\n",
    "            f\"{model_name}_prevalence_{group}\",\n",
    "            func=DerivedOutput(f\"n_infectious_{group}\") / DerivedOutput(f\"total_{group}\"),\n",
    "        )"
   ]
  },
  {
   "cell_type": "code",
   "execution_count": null,
   "id": "4293584c-5078-4310-8535-1ea9b6cf3962",
   "metadata": {},
   "outputs": [],
   "source": [
    "model_config = {\n",
    "    \"end_time\": 40.0,\n",
    "    \"population\": 1.0,\n",
    "    \"seed\": 0.01,\n",
    "    \"compartments\": (\"susceptible\", \"infectious\", \"recovered\"),\n",
    "}\n",
    "\n",
    "parameters = {\n",
    "    \"risk_per_contact\": 0.5,\n",
    "    \"infectious_period\": 4.0,\n",
    "    \"prop1\": 0.5,\n",
    "    \"intergroup_interaction\": 1.0,\n",
    "}"
   ]
  },
  {
   "cell_type": "markdown",
   "id": "4a3af4a6-16e3-439f-b6d5-9201cc84d028",
   "metadata": {},
   "source": [
    "## Unstratified model\n",
    "Just for reference, let's first build a similar model without heterogeneous mixing."
   ]
  },
  {
   "cell_type": "code",
   "execution_count": null,
   "id": "68b3e7f8-076c-439e-a4e5-bcf36155d9b1",
   "metadata": {},
   "outputs": [],
   "source": [
    "unstratified_model = build_sir_model(model_config)\n",
    "unstratified_model.request_output_for_compartments(\n",
    "    \"unstrat_prevalence\",\n",
    "    \"infectious\",\n",
    ")\n",
    "unstratified_model.run(parameters)"
   ]
  },
  {
   "cell_type": "markdown",
   "id": "7a4eb572-682c-40e6-9220-b3c8d362e3fd",
   "metadata": {},
   "source": [
    "### Stratified model with homogeneous mixing"
   ]
  },
  {
   "cell_type": "code",
   "execution_count": null,
   "id": "7d58078a-57be-4f31-90df-c17edf413ca2",
   "metadata": {},
   "outputs": [],
   "source": [
    "simple_strat_model = build_sir_model(model_config)\n",
    "mix_strat = build_simple_strat(model_config[\"compartments\"])\n",
    "simple_strat_model.stratify_with(mix_strat)\n",
    "add_group_strat_prevalence_request(simple_strat_model, \"simple\")\n",
    "simple_strat_model.run(parameters)"
   ]
  },
  {
   "cell_type": "markdown",
   "id": "2d35231e-d172-48d5-ae58-1a41897d627c",
   "metadata": {},
   "source": [
    "At this stage, the model is very simple\n",
    "and the stratification isn't doing anything \n",
    "because the rate of transmission hasn't been adjusted\n",
    "(because the mixing matrix only contains ones,\n",
    "because the user request for the off-diagonal is one)."
   ]
  },
  {
   "cell_type": "code",
   "execution_count": null,
   "id": "ba5a072f-072e-497a-9b92-1cef55c4d1b6",
   "metadata": {},
   "outputs": [],
   "source": [
    "build_assortative_mixing_matrix(parameters[\"intergroup_interaction\"], jax=False)"
   ]
  },
  {
   "cell_type": "markdown",
   "id": "2a96fb78-aa39-4182-9717-2bd12d6f6254",
   "metadata": {},
   "source": [
    "### Stratified model with heterogeneous mixing\n",
    "We'll now introduce a matrix that implements assortative mixing,\n",
    "by setting the off-diagonal elements of the matrix to a value lower than one.\n",
    "This is intended to represent the idea that the rate of interactions\n",
    "between people from different population sub-groups is proportionately\n",
    "lower than the base rate at which people interact with people from their own sub-group."
   ]
  },
  {
   "cell_type": "code",
   "execution_count": null,
   "id": "9cc0c32d-6e35-4e42-942e-6210dc47f16d",
   "metadata": {},
   "outputs": [],
   "source": [
    "parameters.update({\"intergroup_interaction\": 0.5})\n",
    "build_assortative_mixing_matrix(parameters[\"intergroup_interaction\"], jax=False)"
   ]
  },
  {
   "cell_type": "code",
   "execution_count": null,
   "id": "6c17f23a-6b36-4c01-8281-194edfb84423",
   "metadata": {},
   "outputs": [],
   "source": [
    "hetero_mix_model = build_sir_model(model_config)\n",
    "mix_strat = build_simple_strat(model_config[\"compartments\"])\n",
    "hetero_mix_model.stratify_with(mix_strat)\n",
    "add_group_strat_prevalence_request(hetero_mix_model, \"hetero\")"
   ]
  },
  {
   "cell_type": "markdown",
   "id": "072751f6-8b99-45dc-8582-be6a02222d60",
   "metadata": {},
   "source": [
    "We now have assortative mixing in our model.\n",
    "However, we've also reduced the total number of daily contacts that\n",
    "people have per unit time.\n",
    "In the simple model, the number of contacts was one per day\n",
    "(or time unit).\n",
    "We've now reduced the number of daily contacts to 0.75,\n",
    "because in this model we have half of the population assigned each of the two \n",
    "modelled groups and these proportions remain constant\n",
    "(because there is no entry or exit into or out of the model\n",
    "or transition between strata).\n",
    "\n",
    "If we want to have this level of assortativity,\n",
    "but still the same daily risk of transmission \n",
    "for each susceptible individual each day,\n",
    "we could scale our risk of transmission per contact parameter \n",
    "(`risk_per_contact`) up to account for this\n",
    "(equivalent to multiplying the whole matrix through by $\\frac{4}{3}$)."
   ]
  },
  {
   "cell_type": "code",
   "execution_count": null,
   "id": "a56abc91-7c27-480c-ab56-37db513e2bb3",
   "metadata": {},
   "outputs": [],
   "source": [
    "parameters[\"risk_per_contact\"] *= 4.0 / 3.0\n",
    "hetero_mix_model.run(parameters)"
   ]
  },
  {
   "cell_type": "markdown",
   "id": "68de7f4b-f9f4-46b8-bb33-42dc3bebbec1",
   "metadata": {},
   "source": [
    "### Assortative model outputs\n",
    "So now we have implemented assortative mixing in the model.\n",
    "Let's see what that looks like."
   ]
  },
  {
   "cell_type": "code",
   "execution_count": null,
   "id": "a7a163b0-0d5c-4fe4-bc5d-91ef2340d872",
   "metadata": {},
   "outputs": [],
   "source": [
    "pd.concat(\n",
    "    (\n",
    "        unstratified_model.get_derived_outputs_df(), \n",
    "        simple_strat_model.get_derived_outputs_df(), \n",
    "        hetero_mix_model.get_derived_outputs_df(),\n",
    "    ), \n",
    "    axis=1,\n",
    ").plot()"
   ]
  },
  {
   "cell_type": "markdown",
   "id": "4c58d091-11ed-4059-9571-93b655cff301",
   "metadata": {},
   "source": [
    "Perhaps we're driving you completely crazy now;\n",
    "the assortative mixing clearly still hasn't done anything at all\n",
    "(as you can show by selecting/unselecting the outputs\n",
    "of the various models in the graph just above).\n",
    "However, this illustrates an important point about heterogeneous mixing,\n",
    "which is that the mixing itself may not have any important effects\n",
    "unless the groups that are mixing heterogeneously have some sort \n",
    "of different epidemiogical characteristics.\n",
    "Let's implement that next, so that our assortative mixing model\n",
    "is actually achieving something!\n",
    "\n",
    "### Assortative mixing model with adjustment\n",
    "Let's adjust something about one of our strata and re-run the model.\n",
    "We could choose just about any epidemiologically important process here,\n",
    "such as susceptibility, recovery rate or infectiousness,\n",
    "but let's arbitrarily choose infectiousness for now,\n",
    "which we'll double for the `group1` sub-population.\n",
    "Because people from the `group1` population are both more infectious\n",
    "and also interact preferentially with other `group1` individuals,\n",
    "the prevalence of infection becomes greater in this group than in `group2`."
   ]
  },
  {
   "cell_type": "code",
   "execution_count": null,
   "id": "592cf415-9c1b-448c-b8e6-27c2e7f61c3d",
   "metadata": {},
   "outputs": [],
   "source": [
    "hetero_adj_model = build_sir_model(model_config)\n",
    "mix_strat = build_simple_strat(model_config[\"compartments\"])\n",
    "mix_strat.add_infectiousness_adjustments(\n",
    "    \"infectious\",\n",
    "    {\n",
    "        \"group1\": 2.0,\n",
    "        \"group2\": None,\n",
    "    }\n",
    ")\n",
    "hetero_adj_model.stratify_with(mix_strat)\n",
    "add_group_strat_prevalence_request(hetero_adj_model, \"hetero_adj\")\n",
    "hetero_adj_model.run(parameters)\n",
    "hetero_adj_model.get_derived_outputs_df().plot()"
   ]
  },
  {
   "cell_type": "markdown",
   "id": "ec1d923f-8fec-4ba1-9f77-b2a2ecb79193",
   "metadata": {},
   "source": [
    "Note that if we implement completely homogeneous mixing,\n",
    "then the increased infectiousness \n",
    "will still have an effect on overall model dynamics,\n",
    "because part of the population is just more infectious \n",
    "and so the force of infection is greater.\n",
    "However, in this case, the force of infection\n",
    "will be greater for all groups,\n",
    "so the prevalence and profile of the epidemic \n",
    "remains the same for `group1` and `group2`\n",
    "(and so for the overall population).\n",
    "Let's demonstrate that."
   ]
  },
  {
   "cell_type": "code",
   "execution_count": null,
   "id": "d48360ac-6856-448a-9dec-9a5a842d109a",
   "metadata": {},
   "outputs": [],
   "source": [
    "parameters.update({\"intergroup_interaction\": 1.0})\n",
    "hetero_adj_model.run(parameters)\n",
    "hetero_adj_model.get_derived_outputs_df().plot()"
   ]
  },
  {
   "cell_type": "markdown",
   "id": "df4e9b6a-b920-487f-8ba1-e2ded275c61e",
   "metadata": {},
   "source": [
    "At the other extreme,\n",
    "if we set the interaction between groups to zero,\n",
    "then we have absolutely no interaction between the two populations.\n",
    "This is equivalent to having two totally independent SIR models,\n",
    "with no contact between the two groups that we are simulating.\n",
    "In this case, the basic reproduction number for the epidemic\n",
    "dynamics in `group1` is double that for the epidemic occurring in `group2`."
   ]
  },
  {
   "cell_type": "code",
   "execution_count": null,
   "id": "3440acd9-ba1b-40d3-820f-b81ccc192936",
   "metadata": {},
   "outputs": [],
   "source": [
    "parameters.update({\"intergroup_interaction\": 0.0})\n",
    "hetero_adj_model.run(parameters)\n",
    "hetero_adj_model.get_derived_outputs_df().plot()"
   ]
  },
  {
   "cell_type": "markdown",
   "id": "91d01897-4f55-4687-a93a-053a4bd3df81",
   "metadata": {},
   "source": [
    "## Manipulating density-dependent transmission matrices\n",
    "Under this density-dependent framework for thinking about heterogeneous transmission,\n",
    "there is some equivalence between the opposite elements of our matrix.\n",
    "If the elements of the matrix just represent the rates at which someone\n",
    "from one of the population groups comes into contact with \n",
    "someone from another population group,\n",
    "then we would expect the matrix to be symmetrical.\n",
    "That is, the rate at which a specific person from `group1` comes into contact with\n",
    "a specific person from `group2` should be equal to the rate at which\n",
    "a specific person from `group2` comes into a specific person from `group1`.\n",
    "So the symmetric matrix we had been using above, is a reasonable choice.\n",
    "\n",
    "Next, suppose we have a mixing matrix that we want to use in a model which describes\n",
    "the contact rates in these density-dependent terms, but is not symmetric.\n",
    "This is a pretty theoretical situation and not really something we're likely to come across,\n",
    "but let's consider it anyway.\n",
    "In this case, it would probably be reasonable to assume that the reason that the\n",
    "opposite elements of the matrix don't match is because there was some problem\n",
    "with how we collected our data that we used in building the matrix.\n",
    "If we accept that the rate at which `group1` contacts `group2` should be the same\n",
    "as the rate at which `group2` contacts `group1`,\n",
    "then we essentially have two estimates for the same quantity\n",
    "(in the top-right and bottom-left cells of our $2 \\times 2$ matrix).\n",
    "So it would probably be reasonable to average out these two quantities\n",
    "to find one value that we should use for both cells of our matrix.\n",
    "\n",
    "Let's consider how that might look in code\n",
    "(building a function that can handle square matrices of any size).\n",
    "We'll get into this sort of thing in more detail in the next notebook.\n",
    "For now, just note that this process is relatively simple \n",
    "while we're considering density-dependent transmission.\n",
    "\n",
    "It may seem obvious that we could do things like this,\n",
    "but as we'll see in the next notebook,\n",
    "we may need to be more careful with frequency-dependent matrices."
   ]
  },
  {
   "cell_type": "code",
   "execution_count": null,
   "id": "06891d3d-526c-4328-b0cf-74e4a696f149",
   "metadata": {},
   "outputs": [],
   "source": [
    "def get_averaged_matrix(matrix):\n",
    "    \"\"\"\n",
    "    Average out the corresponding opposite off-diagonal elements of the input matrix,\n",
    "    keeping the diagonal elements unchanged.\n",
    "    \n",
    "    Args:\n",
    "        matrix: The user-submitted matrix to manipulate\n",
    "    Returns:\n",
    "        Matrix with the same dimensions as the input, adapted as describe\n",
    "    \"\"\"\n",
    "    upper_part = np.triu(matrix, k=1)\n",
    "    lower_part = np.tril(matrix, k=-1)\n",
    "    upper_result = np.average((upper_part, lower_part.transpose()), axis=0)\n",
    "    lower_result = upper_result.transpose()\n",
    "    return upper_result + lower_result + np.diag(np.diag(matrix))"
   ]
  },
  {
   "cell_type": "code",
   "execution_count": null,
   "id": "9d2051e0-1244-408e-b7ac-b05c3224be84",
   "metadata": {},
   "outputs": [],
   "source": [
    "asymmetric_matrix = np.array(\n",
    "    [\n",
    "        [1.0, 0.4], \n",
    "        [0.6, 1.0],\n",
    "    ]\n",
    ")\n",
    "px.imshow(asymmetric_matrix)"
   ]
  },
  {
   "cell_type": "code",
   "execution_count": null,
   "id": "930467e0-ce0a-4b8e-b566-c8a9ebee7a86",
   "metadata": {},
   "outputs": [],
   "source": [
    "symmetric_matrix = get_averaged_matrix(asymmetric_matrix)\n",
    "px.imshow(symmetric_matrix)"
   ]
  }
 ],
 "metadata": {
  "kernelspec": {
   "display_name": "Python 3 (ipykernel)",
   "language": "python",
   "name": "python3"
  },
  "language_info": {
   "codemirror_mode": {
    "name": "ipython",
    "version": 3
   },
   "file_extension": ".py",
   "mimetype": "text/x-python",
   "name": "python",
   "nbconvert_exporter": "python",
   "pygments_lexer": "ipython3",
   "version": "3.10.4"
  }
 },
 "nbformat": 4,
 "nbformat_minor": 5
}
