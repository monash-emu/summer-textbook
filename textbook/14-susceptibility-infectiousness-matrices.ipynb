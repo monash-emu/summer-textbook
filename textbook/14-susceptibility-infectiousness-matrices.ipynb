{
 "cells": [
  {
   "cell_type": "markdown",
   "id": "886adabd-f132-4e04-a235-b6544b2e3848",
   "metadata": {},
   "source": [
    "# Susceptibility to infection and mixing matrices\n",
    "From the previous notebook,\n",
    "we hopefully have some idea of what the mixing matrices \n",
    "we can use in our models represent.\n",
    "This is really important basic knowledge before we start trying to\n",
    "manipulate them or play around with them in any way.\n",
    "\n",
    "Let's start thinking about adapting our mixing matrix,\n",
    "starting off with a simple density-dependent transmission model\n",
    "stratified into two arbitrary categories\n",
    "(similar to one of the models from the previous notebook).\n",
    "\n",
    "To get started,\n",
    "let's define a simple framework for a model\n",
    "that we can add more features to later.\n",
    "Also, let's define a simple two-stratum stratification object\n",
    "that will expect a mixing matrix later on."
   ]
  },
  {
   "cell_type": "code",
   "execution_count": null,
   "id": "7ae40afc-bd80-4b01-83be-dc210930446e",
   "metadata": {},
   "outputs": [],
   "source": [
    "import pandas as pd\n",
    "import numpy as np\n",
    "pd.options.plotting.backend = \"plotly\"\n",
    "from jax import numpy as jnp\n",
    "\n",
    "from summer2 import CompartmentalModel, Stratification, Multiply\n",
    "from summer2.parameters import Parameter, DerivedOutput, Function"
   ]
  },
  {
   "cell_type": "code",
   "execution_count": null,
   "id": "e3625b84-f45f-4cd5-beb1-64f4361f3871",
   "metadata": {},
   "outputs": [],
   "source": [
    "def build_sir_model(\n",
    "    config: dict,\n",
    ") -> CompartmentalModel:\n",
    "\n",
    "    # Model characteristics\n",
    "    compartments = config[\"compartments\"]\n",
    "    analysis_times = (0.0, config[\"end_time\"])\n",
    "    model = CompartmentalModel(\n",
    "        times=analysis_times,\n",
    "        compartments=compartments,\n",
    "        infectious_compartments=(\"infectious\",),\n",
    "    )\n",
    "    model.set_initial_population(\n",
    "        distribution=\n",
    "        {\n",
    "            \"susceptible\": config[\"population\"] - config[\"seed\"], \n",
    "            \"infectious\": config[\"seed\"],\n",
    "        }\n",
    "    )\n",
    "    \n",
    "    # Transitions\n",
    "    model.add_infection_density_flow(\n",
    "        name=\"infection\", \n",
    "        contact_rate=Parameter(\"risk_per_contact\"),\n",
    "        source=\"susceptible\", \n",
    "        dest=\"infectious\",\n",
    "    )\n",
    "    model.add_transition_flow(\n",
    "        name=\"recovery\", \n",
    "        fractional_rate=1. / Parameter(\"infectious_period\"),\n",
    "        source=\"infectious\", \n",
    "        dest=\"recovered\",\n",
    "    )\n",
    "    \n",
    "    # Output\n",
    "    model.request_output_for_compartments(\n",
    "        \"prevalence\",\n",
    "        \"infectious\",\n",
    "    )\n",
    "    \n",
    "    return model"
   ]
  },
  {
   "cell_type": "code",
   "execution_count": null,
   "id": "5b25fc6d-791d-46f3-bd2b-eb72170c3f77",
   "metadata": {},
   "outputs": [],
   "source": [
    "def build_simple_strat(\n",
    "    compartments: list,\n",
    "    mixing_matrix: jnp.array,\n",
    ") -> Stratification:\n",
    "                \n",
    "    mix_strat = Stratification(\n",
    "        \"groups\",\n",
    "        [\"group1\", \"group2\"],\n",
    "        compartments,\n",
    "    )\n",
    "    \n",
    "    prop1 = Parameter(\"prop1\")\n",
    "    prop2 = 1. - prop1\n",
    "    mix_strat.set_population_split(\n",
    "        {\n",
    "            \"group1\": prop1,\n",
    "            \"group2\": prop2,\n",
    "        }\n",
    "    )\n",
    "\n",
    "    if mixing_matrix is not None:\n",
    "        mix_strat.set_mixing_matrix(mixing_matrix)\n",
    "\n",
    "    return mix_strat"
   ]
  },
  {
   "cell_type": "code",
   "execution_count": null,
   "id": "9083a458-d7aa-44a6-a423-007fe6f91677",
   "metadata": {},
   "outputs": [],
   "source": [
    "model_config = {\n",
    "    \"end_time\": 20.0,\n",
    "    \"population\": 1.0,\n",
    "    \"seed\": 0.01,\n",
    "    \"compartments\": (\"susceptible\", \"infectious\", \"recovered\"),\n",
    "}\n",
    "parameters = {\n",
    "    \"risk_per_contact\": 1.0,\n",
    "    \"infectious_period\": 2.0,\n",
    "    \"prop1\": np.random.uniform(),\n",
    "    \"susceptibility\": 2.0,\n",
    "}"
   ]
  },
  {
   "cell_type": "markdown",
   "id": "8f7db1ef-cb92-4746-b618-1b84e20ba96b",
   "metadata": {},
   "source": [
    "## Comparison model\n",
    "As a comparison,\n",
    "let's quickly build and run an unstratified model\n",
    "with the base parameters."
   ]
  },
  {
   "cell_type": "code",
   "execution_count": null,
   "id": "3dc823d7-34a3-40da-9b29-1cf6166c5c70",
   "metadata": {},
   "outputs": [],
   "source": [
    "base_model = build_sir_model(model_config)\n",
    "base_model.run(parameters=parameters)"
   ]
  },
  {
   "cell_type": "markdown",
   "id": "8c66366c-99a6-480d-9890-b384e782719e",
   "metadata": {},
   "source": [
    "## Increased susceptibility for a sub-population\n",
    "Next, let's increase the susceptibility of a stratum of the model,\n",
    "by adjusting the rate of infection for one of our model sub-groups\n",
    "(using `summer`'s adjustments structures).\n",
    "This scales the rate of rate of infection for `group1` to be\n",
    "the product of the `risk_per_contact` and the `susceptibility` parameter.\n",
    "Increasing the effective parameter for the infection process\n",
    "for a population stratum means that they will experience a greater\n",
    "force of infection and so can be thought of as being more susceptible.\n",
    "\n",
    "Next, let's multiply the first row\n",
    "(relating to the infection of the `group1` population)\n",
    "through by a value to represent increased susceptibility for this stratum.\n",
    "The `susceptibility` parameter again increases the force of infection\n",
    "for the `group1` population, by multiplying both of the contributions\n",
    "to the force of infection through by the same value.\n",
    "Let's check that the these two processes are equivalent."
   ]
  },
  {
   "cell_type": "code",
   "execution_count": null,
   "id": "2dc01cd6-51b9-4932-80c5-89d0fc648ef4",
   "metadata": {},
   "outputs": [],
   "source": [
    "suscept_matrix_model = build_sir_model(model_config)\n",
    "mixing_matrix = jnp.array(\n",
    "    [\n",
    "        [1.0, 1.0],\n",
    "        [1.0, 1.0],\n",
    "    ]\n",
    ")\n",
    "suscept_param_strat = build_simple_strat(model_config[\"compartments\"], mixing_matrix)\n",
    "suscept_param_strat.set_flow_adjustments(\n",
    "    \"infection\",\n",
    "    {\n",
    "        \"group1\": Parameter(\"susceptibility\"),  # Increased susceptibility for group1\n",
    "        \"group2\": None,  # No change for group2\n",
    "    },\n",
    ")\n",
    "suscept_matrix_model.stratify_with(suscept_param_strat)\n",
    "suscept_matrix_model.run(parameters=parameters)"
   ]
  },
  {
   "cell_type": "markdown",
   "id": "f59e7593-5f15-4a2c-8281-9ac55437a813",
   "metadata": {},
   "source": [
    "In this case, we didn't even need the mixing matrix, of course.\n",
    "We could achieve the same effect by adjusting susceptibility,\n",
    "provided we do have the sub-populations implemented."
   ]
  },
  {
   "cell_type": "code",
   "execution_count": null,
   "id": "1fdd0421-388b-43b5-8990-cf6da80b4048",
   "metadata": {},
   "outputs": [],
   "source": [
    "suscept_model = build_sir_model(model_config)\n",
    "suscept_param_strat = build_simple_strat(model_config[\"compartments\"], None)\n",
    "suscept_param_strat.set_flow_adjustments(\n",
    "    \"infection\",\n",
    "    {\n",
    "        \"group1\": Parameter(\"susceptibility\"),\n",
    "        \"group2\": None,\n",
    "    },\n",
    ")\n",
    "suscept_model.stratify_with(suscept_param_strat)\n",
    "suscept_model.run(parameters=parameters)"
   ]
  },
  {
   "cell_type": "markdown",
   "id": "87236aa2-ffe8-4419-9909-7a9135e65d2f",
   "metadata": {},
   "source": [
    "We can achieve the same thing by adjusting our mixing matrix.\n",
    "To do this, we'll have to multiply the appropriate\n",
    "row of our matrix through"
   ]
  },
  {
   "cell_type": "code",
   "execution_count": null,
   "id": "8824d12f-2faf-41e4-9550-287c613fca39",
   "metadata": {},
   "outputs": [],
   "source": [
    "strat_model = build_sir_model(model_config)\n",
    "\n",
    "def build_frequency_mixing_matrix(susceptibility):\n",
    "    return jnp.array(\n",
    "        [\n",
    "            [susceptibility, susceptibility],  # Multiply group1 row of matrix by the susceptibility value\n",
    "            [1.0, 1.0],\n",
    "        ]\n",
    "    )\n",
    "\n",
    "mixing_matrix = Function(\n",
    "    build_frequency_mixing_matrix, \n",
    "    (Parameter(\"susceptibility\"),),\n",
    ")\n",
    "suscept_matrix_strat = build_simple_strat(model_config[\"compartments\"], mixing_matrix)\n",
    "strat_model.stratify_with(suscept_matrix_strat)\n",
    "strat_model.run(parameters=parameters)"
   ]
  },
  {
   "cell_type": "code",
   "execution_count": null,
   "id": "66d9b384-c078-4de1-8f8b-1931c92903c5",
   "metadata": {},
   "outputs": [],
   "source": [
    "outputs = pd.DataFrame(\n",
    "    {\n",
    "        \"stratified, adjusted matrix\": strat_model.get_derived_outputs_df()[\"prevalence\"],\n",
    "        \"stratified, increased susceptibility\": suscept_matrix_model.get_derived_outputs_df()[\"prevalence\"],\n",
    "        \"stratified, increased susceptibility, no matrix\": suscept_model.get_derived_outputs_df()[\"prevalence\"],\n",
    "    }\n",
    ")\n",
    "differences = outputs.min(axis=1) - outputs.max(axis=1)\n",
    "assert all(abs(differences) < 1e-8), \"There's a discrepancy\"\n",
    "outputs[\"base comparison\"] = base_model.get_derived_outputs_df()[\"prevalence\"]\n",
    "outputs.plot()"
   ]
  },
  {
   "cell_type": "markdown",
   "id": "8d378f48-560a-4aa9-b207-7b9d07c305ec",
   "metadata": {},
   "source": [
    "# Adjusting infectiousness"
   ]
  }
 ],
 "metadata": {
  "kernelspec": {
   "display_name": "Python 3 (ipykernel)",
   "language": "python",
   "name": "python3"
  },
  "language_info": {
   "codemirror_mode": {
    "name": "ipython",
    "version": 3
   },
   "file_extension": ".py",
   "mimetype": "text/x-python",
   "name": "python",
   "nbconvert_exporter": "python",
   "pygments_lexer": "ipython3",
   "version": "3.10.3"
  }
 },
 "nbformat": 4,
 "nbformat_minor": 5
}
