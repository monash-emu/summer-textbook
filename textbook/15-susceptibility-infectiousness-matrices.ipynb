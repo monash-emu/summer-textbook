{
 "cells": [
  {
   "cell_type": "markdown",
   "id": "886adabd-f132-4e04-a235-b6544b2e3848",
   "metadata": {},
   "source": [
    "# Susceptibility and infectiousness in mixing matrices\n",
    "From the previous two notebooks,\n",
    "we hopefully have some idea of what the mixing matrices \n",
    "we can use in our models represent.\n",
    "This is really important basic knowledge before we start trying to\n",
    "manipulate them.\n",
    "This notebook aims to really nail down the intuition \n",
    "around the rows and columns in these matrices.\n",
    "This notebook is again not that impressive visually,\n",
    "but should continue to build our intuition around mixing matrices.\n",
    "\n",
    "Let's think about adapting our mixing matrix,\n",
    "starting off with a simple density-dependent transmission model\n",
    "stratified into two arbitrary categories\n",
    "(similar to one of the models from the previous notebook).\n",
    "To get started, let's define a simple framework for a model\n",
    "that we can add more features to later.\n",
    "Also, let's define a simple two-stratum stratification object\n",
    "that will expect a mixing matrix later on."
   ]
  },
  {
   "cell_type": "code",
   "execution_count": null,
   "id": "94e7b1ee-a0b1-4f00-a715-714c7cba23c5",
   "metadata": {},
   "outputs": [],
   "source": [
    "try:\n",
    "    import google.colab\n",
    "    %pip install summerepi2\n",
    "except:\n",
    "    pass"
   ]
  },
  {
   "cell_type": "code",
   "execution_count": null,
   "id": "7ae40afc-bd80-4b01-83be-dc210930446e",
   "metadata": {},
   "outputs": [],
   "source": [
    "import pandas as pd\n",
    "import numpy as np\n",
    "pd.options.plotting.backend = \"plotly\"\n",
    "from jax import numpy as jnp\n",
    "\n",
    "from summer2 import CompartmentalModel, Stratification\n",
    "from summer2.parameters import Parameter, Function"
   ]
  },
  {
   "cell_type": "code",
   "execution_count": null,
   "id": "e3625b84-f45f-4cd5-beb1-64f4361f3871",
   "metadata": {},
   "outputs": [],
   "source": [
    "def build_sir_model(\n",
    "    config: dict,\n",
    ") -> CompartmentalModel:\n",
    "    \n",
    "    compartments = config[\"compartments\"]\n",
    "    analysis_times = (0.0, config[\"end_time\"])\n",
    "    model = CompartmentalModel(\n",
    "        times=analysis_times,\n",
    "        compartments=compartments,\n",
    "        infectious_compartments=(\"infectious\",),\n",
    "    )\n",
    "    model.set_initial_population(\n",
    "        distribution=\n",
    "        {\n",
    "            \"susceptible\": config[\"population\"] - config[\"seed\"], \n",
    "            \"infectious\": config[\"seed\"],\n",
    "        },\n",
    "    )\n",
    "    \n",
    "    model.add_infection_density_flow(\n",
    "        name=\"infection\", \n",
    "        contact_rate=Parameter(\"risk_per_contact\"),\n",
    "        source=\"susceptible\", \n",
    "        dest=\"infectious\",\n",
    "    )\n",
    "    model.add_transition_flow(\n",
    "        name=\"recovery\", \n",
    "        fractional_rate=1.0 / Parameter(\"infectious_period\"),\n",
    "        source=\"infectious\", \n",
    "        dest=\"recovered\",\n",
    "    )\n",
    "    \n",
    "    model.request_output_for_compartments(\n",
    "        \"prevalence\",\n",
    "        \"infectious\",\n",
    "    )\n",
    "    \n",
    "    return model"
   ]
  },
  {
   "cell_type": "code",
   "execution_count": null,
   "id": "5b25fc6d-791d-46f3-bd2b-eb72170c3f77",
   "metadata": {},
   "outputs": [],
   "source": [
    "def build_simple_strat(\n",
    "    compartments: list,\n",
    "    mixing_matrix: jnp.array,\n",
    ") -> Stratification:\n",
    "                \n",
    "    mix_strat = Stratification(\n",
    "        \"groups\",\n",
    "        [\"group1\", \"group2\"],\n",
    "        compartments,\n",
    "    )\n",
    "    \n",
    "    prop1 = Parameter(\"prop1\")\n",
    "    prop2 = 1.0 - prop1\n",
    "    mix_strat.set_population_split(\n",
    "        {\n",
    "            \"group1\": prop1,\n",
    "            \"group2\": prop2,\n",
    "        }\n",
    "    )\n",
    "\n",
    "    if mixing_matrix is not None:\n",
    "        mix_strat.set_mixing_matrix(mixing_matrix)\n",
    "\n",
    "    return mix_strat"
   ]
  },
  {
   "cell_type": "code",
   "execution_count": null,
   "id": "9083a458-d7aa-44a6-a423-007fe6f91677",
   "metadata": {},
   "outputs": [],
   "source": [
    "model_config = {\n",
    "    \"end_time\": 40.0,\n",
    "    \"population\": 1.0,\n",
    "    \"seed\": 0.01,\n",
    "    \"compartments\": (\n",
    "        \"susceptible\", \n",
    "        \"infectious\", \n",
    "        \"recovered\",\n",
    "    ),\n",
    "}\n",
    "parameters = {\n",
    "    \"risk_per_contact\": 0.5,\n",
    "    \"infectious_period\": 4.0,\n",
    "    \"prop1\": np.random.uniform(),\n",
    "    \"transmission_scaler\": 2.0,\n",
    "}"
   ]
  },
  {
   "cell_type": "markdown",
   "id": "8f7db1ef-cb92-4746-b618-1b84e20ba96b",
   "metadata": {},
   "source": [
    "### Comparison model\n",
    "For later comparison,\n",
    "let's quickly build and run an unstratified model with the base parameters."
   ]
  },
  {
   "cell_type": "code",
   "execution_count": null,
   "id": "3dc823d7-34a3-40da-9b29-1cf6166c5c70",
   "metadata": {},
   "outputs": [],
   "source": [
    "base_model = build_sir_model(model_config)\n",
    "base_model.run(parameters=parameters)"
   ]
  },
  {
   "cell_type": "markdown",
   "id": "8c66366c-99a6-480d-9890-b384e782719e",
   "metadata": {},
   "source": [
    "## Increased susceptibility for a sub-population\n",
    "\n",
    "### Adjusting the infection rate\n",
    "Next, let's increase the susceptibility of a stratum of the model,\n",
    "by adjusting the rate of infection for one of our model sub-groups\n",
    "(using `summer`'s adjustments structures).\n",
    "This scales the rate of rate of infection for `group1` to be\n",
    "the product of the `risk_per_contact` and the `susceptibility` parameter.\n",
    "Increasing the effective parameter for the infection process\n",
    "for a population stratum means that they will experience a greater\n",
    "force of infection and so can be thought of as being more susceptible.\n",
    "Note we haven't implemented a mixing matrix for this model."
   ]
  },
  {
   "cell_type": "code",
   "execution_count": null,
   "id": "1fdd0421-388b-43b5-8990-cf6da80b4048",
   "metadata": {},
   "outputs": [],
   "source": [
    "suscept_model = build_sir_model(model_config)\n",
    "suscept_adjust_strat = build_simple_strat(model_config[\"compartments\"], None)\n",
    "suscept_adjust_strat.set_flow_adjustments(\n",
    "    \"infection\",\n",
    "    {\n",
    "        \"group1\": Parameter(\"transmission_scaler\"),  # Increased susceptibility for group1\n",
    "        \"group2\": None,  # No change for group2\n",
    "    },\n",
    ")\n",
    "suscept_model.stratify_with(suscept_adjust_strat)\n",
    "suscept_model.run(parameters=parameters)"
   ]
  },
  {
   "cell_type": "markdown",
   "id": "1e855c1a-e795-4276-b4c3-1c2eef178224",
   "metadata": {},
   "source": [
    "### Adjusting the mixing matrix\n",
    "Next, let's create a model with a mixing matrix,\n",
    "but with the first row\n",
    "(relating to the infection of the `group1` population)\n",
    "multiplied through by a value to represent increased susceptibility for this stratum.\n",
    "The `susceptibility` parameter again increases the force of infection\n",
    "for the `group1` population, by multiplying both of the contributions\n",
    "to the force of infection through by the same value.\n",
    "\n",
    "Remember from [notebook 12](./12-heterogeneous-mixing-intro.ipynb) \n",
    "that the force of infection for `group1`\n",
    "is calculated as the number of infectious persons in `group1`\n",
    "multiplied by the top-left cell of our mixing matrix,\n",
    "plus the number of infectious persons in `group2`\n",
    "multiplied by the top-right cell of our mixing matrix.\n",
    "More generally, the force of infection is calculated\n",
    "from the vector of the number of infectious persons in each sub-group\n",
    "multiplied by the row of the matrix that pertains to the\n",
    "population whose force of infection we are calculating."
   ]
  },
  {
   "cell_type": "code",
   "execution_count": null,
   "id": "8824d12f-2faf-41e4-9550-287c613fca39",
   "metadata": {},
   "outputs": [],
   "source": [
    "suscept_matrix_model = build_sir_model(model_config)\n",
    "\n",
    "def build_suscept_adjusted_matrix(scaler):\n",
    "    return jnp.array(\n",
    "        [\n",
    "            [scaler, scaler],  # Multiply group1 row of matrix by the susceptibility value\n",
    "            [1.0, 1.0],\n",
    "        ]\n",
    "    )\n",
    "\n",
    "mixing_matrix = Function(\n",
    "    build_suscept_adjusted_matrix, \n",
    "    (Parameter(\"transmission_scaler\"),),\n",
    ")\n",
    "suscept_matrix_strat = build_simple_strat(model_config[\"compartments\"], mixing_matrix)\n",
    "suscept_matrix_model.stratify_with(suscept_matrix_strat)\n",
    "suscept_matrix_model.run(parameters=parameters)"
   ]
  },
  {
   "cell_type": "markdown",
   "id": "4eb85b10-dbd5-450d-bbbe-67fe23d7c5ab",
   "metadata": {},
   "source": [
    "### Adjusting the infection rate, with dummy mixing matrix\n",
    "One last way to do the same thing\n",
    "is that we could keep the unadjusted mixing matrix in place,\n",
    "but still apply the adjustment to the infection process.\n",
    "This might be a clearer illustration of how the adjustment\n",
    "affects the model relative to the base heterogeneous mixing model,\n",
    "although it's really very similar to the first approach, of course."
   ]
  },
  {
   "cell_type": "code",
   "execution_count": null,
   "id": "2dc01cd6-51b9-4932-80c5-89d0fc648ef4",
   "metadata": {},
   "outputs": [],
   "source": [
    "suscept_matrix_adjust_model = build_sir_model(model_config)\n",
    "mixing_matrix = jnp.array(\n",
    "    [\n",
    "        [1.0, 1.0],\n",
    "        [1.0, 1.0],\n",
    "    ]\n",
    ")\n",
    "suscept_matrix_adjust_strat = build_simple_strat(model_config[\"compartments\"], mixing_matrix)\n",
    "suscept_matrix_adjust_strat.set_flow_adjustments(\n",
    "    \"infection\",\n",
    "    {\n",
    "        \"group1\": Parameter(\"transmission_scaler\"),\n",
    "        \"group2\": None,\n",
    "    },\n",
    ")\n",
    "suscept_matrix_adjust_model.stratify_with(suscept_matrix_adjust_strat)\n",
    "suscept_matrix_adjust_model.run(parameters=parameters)"
   ]
  },
  {
   "cell_type": "markdown",
   "id": "ee72df19-0c81-4948-b63f-5e08acd2fbe2",
   "metadata": {},
   "source": [
    "### Checking the results\n",
    "Let's check that these three different approaches to \n",
    "increasing susceptibility have the same behaviour \n",
    "(and also compare to the base model\n",
    "with the baseline level of susceptibility).\n",
    "Again, toggle the plotly curves on and off to check \n",
    "that they overly one another."
   ]
  },
  {
   "cell_type": "code",
   "execution_count": null,
   "id": "66d9b384-c078-4de1-8f8b-1931c92903c5",
   "metadata": {},
   "outputs": [],
   "source": [
    "outputs = pd.DataFrame(\n",
    "    {\n",
    "        \"increased infection rate (stratified)\": suscept_model.get_derived_outputs_df()[\"prevalence\"],\n",
    "        \"adjusted matrix (stratified)\": suscept_matrix_adjust_model.get_derived_outputs_df()[\"prevalence\"],\n",
    "        \"increased infection rate, dummy matrix (stratified)\": suscept_matrix_model.get_derived_outputs_df()[\"prevalence\"],\n",
    "    }\n",
    ")\n",
    "differences = outputs.min(axis=1) - outputs.max(axis=1)\n",
    "assert all(abs(differences) < 1e-8), \"There's a discrepancy\"\n",
    "outputs[\"base comparison (unstratified)\"] = base_model.get_derived_outputs_df()[\"prevalence\"]\n",
    "outputs.plot()"
   ]
  },
  {
   "cell_type": "markdown",
   "id": "8d378f48-560a-4aa9-b207-7b9d07c305ec",
   "metadata": {},
   "source": [
    "## Adjusting infectiousness\n",
    "Next, let's work through a similar process for infectiousness,\n",
    "demonstrating that this is equivalent to changing\n",
    "a column of the mixing matrix.\n",
    "\n",
    "### Adjusting infectiousness\n",
    "Again, we'll use `summer`'s adjustment methods here,\n",
    "but now adjusting the contribution of the infectious person to the force of infection,\n",
    "rather than adjusting the rate of infection itself."
   ]
  },
  {
   "cell_type": "code",
   "execution_count": null,
   "id": "454cc92e-af85-4f82-b30c-5182e2b1a93c",
   "metadata": {},
   "outputs": [],
   "source": [
    "infectious_model = build_sir_model(model_config)\n",
    "infectious_adjust_strat = build_simple_strat(model_config[\"compartments\"], None)\n",
    "infectious_adjust_strat.add_infectiousness_adjustments(\n",
    "    \"infectious\",\n",
    "    {\n",
    "        \"group1\": Parameter(\"transmission_scaler\"),\n",
    "        \"group2\": None,\n",
    "    }\n",
    ")\n",
    "infectious_model.stratify_with(infectious_adjust_strat)\n",
    "infectious_model.run(parameters=parameters)"
   ]
  },
  {
   "cell_type": "markdown",
   "id": "6a1134b2-26b9-4403-afd5-a34ed243b0eb",
   "metadata": {},
   "source": [
    "### Adjusting the mixing matrix\n",
    "This is similar to the adjustment for susceptibility,\n",
    "except that we'll scale a column of the mixing matrix rather than row.\n",
    "\n",
    "Here, we're increasing the extent to which one of the population\n",
    "groups contributes to each of the force of infection calculations,\n",
    "so increasing infectiousness."
   ]
  },
  {
   "cell_type": "code",
   "execution_count": null,
   "id": "e16232d9-3a4e-44b7-a5da-e00291b0abd6",
   "metadata": {},
   "outputs": [],
   "source": [
    "infectious_matrix_model = build_sir_model(model_config)\n",
    "\n",
    "def build_infectious_adjusted_matrix(scaler):\n",
    "    return jnp.array(\n",
    "        [\n",
    "            [scaler, 1.0],  # Multiply group1 column of the matrix by the susceptibility value\n",
    "            [scaler, 1.0],  # Same again\n",
    "        ]\n",
    "    )\n",
    "\n",
    "mixing_matrix = Function(\n",
    "    build_infectious_adjusted_matrix, \n",
    "    (Parameter(\"transmission_scaler\"),),\n",
    ")\n",
    "infectious_matrix_strat = build_simple_strat(model_config[\"compartments\"], mixing_matrix)\n",
    "infectious_matrix_model.stratify_with(infectious_matrix_strat)\n",
    "infectious_matrix_model.run(parameters=parameters)"
   ]
  },
  {
   "cell_type": "markdown",
   "id": "b3a52fd9-ed02-4e97-947a-8b8fe6f89eed",
   "metadata": {},
   "source": [
    "### Adjusting infectiousness, with dummy mixing matrix\n",
    "As before, this is a bit unnecessary,\n",
    "but might make the comparison more obvious,\n",
    "because the model for which we are adjusting the\n",
    "infectiousness for is the stratified model."
   ]
  },
  {
   "cell_type": "code",
   "execution_count": null,
   "id": "f8de56a0-5c8f-4caa-831b-9adf30446ce2",
   "metadata": {},
   "outputs": [],
   "source": [
    "infectious_matrix_adjust_model = build_sir_model(model_config)\n",
    "mixing_matrix = jnp.array(\n",
    "    [\n",
    "        [1.0, 1.0],\n",
    "        [1.0, 1.0],\n",
    "    ]\n",
    ")\n",
    "infectious_matrix_adjust_strat = build_simple_strat(model_config[\"compartments\"], mixing_matrix)\n",
    "infectious_matrix_adjust_strat.add_infectiousness_adjustments(\n",
    "    \"infectious\",\n",
    "    {\n",
    "        \"group1\": Parameter(\"transmission_scaler\"),\n",
    "        \"group2\": None,\n",
    "    }\n",
    ")\n",
    "infectious_matrix_adjust_model.stratify_with(infectious_matrix_adjust_strat)\n",
    "infectious_matrix_adjust_model.run(parameters=parameters)"
   ]
  },
  {
   "cell_type": "markdown",
   "id": "c83c1f26-b8aa-47ec-9a96-cc553bc535b8",
   "metadata": {},
   "source": [
    "### Checking the results\n",
    "As we did for susceptibility, \n",
    "let's check that these three different approaches to \n",
    "increasing infectiousness behave the same\n",
    "(and also compare to the base model\n",
    "with the baseline level of infectiousness)."
   ]
  },
  {
   "cell_type": "code",
   "execution_count": null,
   "id": "bc89fea3-8106-46c3-a9a2-533726b83445",
   "metadata": {},
   "outputs": [],
   "source": [
    "outputs = pd.DataFrame(\n",
    "    {\n",
    "        \"increased infectiousness (stratified)\": infectious_model.get_derived_outputs_df()[\"prevalence\"],\n",
    "        \"adjusted matrix (stratified)\": infectious_matrix_model.get_derived_outputs_df()[\"prevalence\"],\n",
    "        \"increased infectiousness, dummy matrix (stratified)\": infectious_matrix_adjust_model.get_derived_outputs_df()[\"prevalence\"],\n",
    "    }\n",
    ")\n",
    "differences = outputs.min(axis=1) - outputs.max(axis=1)\n",
    "assert all(abs(differences) < 1e-8), \"There's a discrepancy\"\n",
    "outputs[\"base comparison\"] = base_model.get_derived_outputs_df()[\"prevalence\"]\n",
    "outputs.plot()"
   ]
  },
  {
   "cell_type": "markdown",
   "id": "d4af347d-d030-43ac-9832-87e94a5554db",
   "metadata": {},
   "source": [
    "## Summary\n",
    "Last, also note that even though we can make each of these two adjustments\n",
    "to our model in multiple ways,\n",
    "increasing the infectiousness of a group and increasing the susceptibility of a group\n",
    "result in different dynamics (even if the effect is fairly similar in this simplistic example)\n",
    "and are very different processes conceptually.\n",
    "\n",
    "Note that the point here was to build intuition for what these matrices mean.\n",
    "Having done all of this, we're actually **_not_** generally going to go around multiplying\n",
    "rows and columns of our matrices by scalar values to adjust the susceptibility\n",
    "and infectiousness of population groups.\n",
    "The reason for this is that we want to keep the mixing matrices for representing \n",
    "the rates at which population groups come into contact with one another,\n",
    "and we have other ways to adjust susceptibility and infectiousness \n",
    "that we would prefer to use.\n",
    "If we isolate these two processes and save the model's mixing matrix\n",
    "for just the rates at which sub-populations interact,\n",
    "we can preserve separate intuitions for what each of these structures\n",
    "mean within our model."
   ]
  }
 ],
 "metadata": {
  "kernelspec": {
   "display_name": "Python 3 (ipykernel)",
   "language": "python",
   "name": "python3"
  },
  "language_info": {
   "codemirror_mode": {
    "name": "ipython",
    "version": 3
   },
   "file_extension": ".py",
   "mimetype": "text/x-python",
   "name": "python",
   "nbconvert_exporter": "python",
   "pygments_lexer": "ipython3",
   "version": "3.10.4"
  }
 },
 "nbformat": 4,
 "nbformat_minor": 5
}
