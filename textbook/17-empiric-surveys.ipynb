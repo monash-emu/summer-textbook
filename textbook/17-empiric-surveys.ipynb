{
 "cells": [
  {
   "cell_type": "markdown",
   "id": "966ca2c2-3e00-4678-878d-549211370204",
   "metadata": {},
   "source": [
    "# Understanding empiric contact data\n",
    "Having worked with some \"fake empiric\" matrices under the assumption of\n",
    "frequency-dependent transmission in the previous notebook,\n",
    "let's move on to using some actual data derived from contact surveys.\n",
    "In the previous notebook, we also briefly introduced the POLYMOD study,\n",
    "which is described here\n",
    "https://journals.plos.org/plosmedicine/article?id=10.1371/journal.pmed.0050074#s5\n",
    "and includes a link to the survey results in matrix form here\n",
    "https://doi.org/10.1371/journal.pmed.0050074.st005.\n",
    "\n",
    "The matrices are presented in a form that is transposed relative to the way\n",
    "we have been thinking about contact structures.\n",
    "In the document downloaded from the link above, \n",
    "the rows are labelled \"age of contact\"\n",
    "and the columns are labelled \"age group of participant\".\n",
    "Because we have preferred to think in terms of \n",
    "a vector of prevalence values multiplied through by a row of the mixing matrix,\n",
    "this is transposed relative to our convention.\n",
    "We'll therefore transpose these matrices from the outset\n",
    "to keep with the same conventions we were using previously."
   ]
  },
  {
   "cell_type": "code",
   "execution_count": null,
   "id": "ad7ed081-4f10-4917-bdd8-5bbeb2e1c2ac",
   "metadata": {},
   "outputs": [],
   "source": [
    "import numpy as np\n",
    "import pandas as pd\n",
    "pd.options.plotting.backend = \"plotly\"\n",
    "import plotly.express as px\n",
    "import plotly.graph_objects as go"
   ]
  },
  {
   "cell_type": "code",
   "execution_count": null,
   "id": "e8537681-377a-47ab-ab14-12fc1f4d80c5",
   "metadata": {},
   "outputs": [],
   "source": [
    "def build_polymod_britain_matrix():\n",
    "    matrix = [\n",
    "        [1.92, 0.65, 0.41, 0.24, 0.46, 0.73, 0.67, 0.83, 0.24, 0.22, 0.36, 0.20, 0.20, 0.26, 0.13],\n",
    "        [0.95, 6.64, 1.09, 0.73, 0.61, 0.75, 0.95, 1.39, 0.90, 0.16, 0.30, 0.22, 0.50, 0.48, 0.20],\n",
    "        [0.48, 1.31, 6.85, 1.52, 0.27, 0.31, 0.48, 0.76, 1.00, 0.69, 0.32, 0.44, 0.27, 0.41, 0.33],\n",
    "        [0.33, 0.34, 1.03, 6.71, 1.58, 0.73, 0.42, 0.56, 0.85, 1.16, 0.70, 0.30, 0.20, 0.48, 0.63],\n",
    "        [0.45, 0.30, 0.22, 0.93, 2.59, 1.49, 0.75, 0.63, 0.77, 0.87, 0.88, 0.61, 0.53, 0.37, 0.33],\n",
    "        [0.79, 0.66, 0.44, 0.74, 1.29, 1.83, 0.97, 0.71, 0.74, 0.85, 0.88, 0.87, 0.67, 0.74, 0.33],\n",
    "        [0.97, 1.07, 0.62, 0.50, 0.88, 1.19, 1.67, 0.89, 1.02, 0.91, 0.92, 0.61, 0.76, 0.63, 0.27],\n",
    "        [1.02, 0.98, 1.26, 1.09, 0.76, 0.95, 1.53, 1.50, 1.32, 1.09, 0.83, 0.69, 1.02, 0.96, 0.20],\n",
    "        [0.55, 1.00, 1.14, 0.94, 0.73, 0.88, 0.82, 1.23, 1.35, 1.27, 0.89, 0.67, 0.94, 0.81, 0.80],\n",
    "        [0.29, 0.54, 0.57, 0.77, 0.97, 0.93, 0.57, 0.80, 1.32, 1.87, 0.61, 0.80, 0.61, 0.59, 0.57],\n",
    "        [0.33, 0.38, 0.40, 0.41, 0.44, 0.85, 0.60, 0.61, 0.71, 0.95, 0.74, 1.06, 0.59, 0.56, 0.57],\n",
    "        [0.31, 0.21, 0.25, 0.33, 0.39, 0.53, 0.68, 0.53, 0.55, 0.51, 0.82, 1.17, 0.85, 0.85, 0.33],\n",
    "        [0.26, 0.25, 0.19, 0.24, 0.19, 0.34, 0.40, 0.39, 0.47, 0.55, 0.41, 0.78, 0.65, 0.85, 0.57],\n",
    "        [0.09, 0.11, 0.12, 0.20, 0.19, 0.22, 0.13, 0.30, 0.23, 0.13, 0.21, 0.28, 0.36, 0.70, 0.60],\n",
    "        [0.14, 0.15, 0.21, 0.10, 0.24, 0.17, 0.15, 0.41, 0.50, 0.71, 0.53, 0.76, 0.47, 0.74, 1.47],\n",
    "    ]\n",
    "    return np.array(matrix).T  # Transposing here"
   ]
  },
  {
   "cell_type": "markdown",
   "id": "ca5077d4-2f6f-4367-9723-b8709488b2b4",
   "metadata": {},
   "source": [
    "OK, next let's see what an empiric matrix looks like."
   ]
  },
  {
   "cell_type": "code",
   "execution_count": null,
   "id": "8953b324-ccee-4a7e-9040-e816c98c57f0",
   "metadata": {},
   "outputs": [],
   "source": [
    "age_groups = [i for i in range(0, 75, 5)]\n",
    "empiric_matrix = build_polymod_britain_matrix()\n",
    "px.imshow(\n",
    "    empiric_matrix, \n",
    "    x=age_groups, \n",
    "    y=age_groups, \n",
    "    labels={\"x\": \"contact age\", \"y\": \"respondent age\"},\n",
    ")"
   ]
  },
  {
   "cell_type": "code",
   "execution_count": null,
   "id": "89d744af-59c4-4189-acbf-046a32552be1",
   "metadata": {},
   "outputs": [],
   "source": [
    "empiric_dataframe = pd.DataFrame(empiric_matrix)\n",
    "fig = go.Figure(\n",
    "    data=[\n",
    "        go.Surface(\n",
    "            x=empiric_dataframe.columns, \n",
    "            y=empiric_dataframe.index, \n",
    "            z=empiric_dataframe.values,\n",
    "        )\n",
    "    ]\n",
    ")\n",
    "fig.update_layout(\n",
    "    width=800, \n",
    "    height=600, \n",
    "    scene=dict(\n",
    "        xaxis_title=\"respondent age\",\n",
    "        yaxis_title=\"contact age\",\n",
    "        zaxis_title=\"contacts\",\n",
    "    ),\n",
    ")\n",
    "fig.show()"
   ]
  },
  {
   "cell_type": "markdown",
   "id": "0c62f622-e2f5-45f4-9d2f-450f9a217570",
   "metadata": {},
   "source": [
    "## Matrix characteristics\n",
    "Already there are several features of this matrix that are of epidemiological interest:\n",
    "- The matrix is generally assortative, \n",
    "with its diagonal elements often taking the largest values\n",
    "(so people tend to associate most strongly with other people of the same age group)\n",
    "- There is a second, fainter peak in contacts that is loosely parallel to the diagonal\n",
    "of the matrix, but separated by about 30 years. This represents mixing\n",
    "between two successive generations (i.e. parents with their children and vice versa)\n",
    "- The most intense mixing appears to occur in children and young adults,\n",
    "although we'll go into that in more detail next\n",
    "\n",
    "So there is plenty to think about in terms of the implications\n",
    "for infectious disease transmission even before we incorporate\n",
    "these empiric data into our simulation model.\n",
    "\n",
    "Of course, there is a bit of jiggle or random variability,\n",
    "as there will be with any empirically collected data,\n",
    "and these contact rates/patterns are highly dependent on the social characteristics\n",
    "of the setting that they have been collected from.\n",
    "Nevertheless, this is not an uncommon pattern\n",
    "that was also observed for the other POLYMOD countries.\n",
    "\n",
    "### Average contacts reported per participant\n",
    "Next, let's have a look at the total of each row of the matrix.\n",
    "Given that each row represent a susceptible age bracket at risk of being infected,\n",
    "the row totals should represent the average total number of contacts reported\n",
    "by participants in the study.\n",
    "\n",
    "We can see from the graph below, \n",
    "that older children and young adults report the greatest number of contacts,\n",
    "and there is a gradual decline thereafter with increasing age through the rest of adulthood.\n",
    "\n",
    "Remember that these numbers are simply averages of the number of reported contacts \n",
    "of survey participants."
   ]
  },
  {
   "cell_type": "code",
   "execution_count": null,
   "id": "526bd2f7-9e5a-4226-abf7-1761af14e0ac",
   "metadata": {},
   "outputs": [],
   "source": [
    "axis_labels = {\"index\": \"age\", \"value\": \"contacts\"}\n",
    "pd.DataFrame(empiric_matrix, index=age_groups, columns=age_groups).plot.area(labels=axis_labels)"
   ]
  },
  {
   "cell_type": "markdown",
   "id": "64bd2d9e-8f6c-4ee8-ba2e-5af18816b6fd",
   "metadata": {},
   "source": [
    "### Age of contacts reported by all participants\n",
    "Looking at the sums over the columns,\n",
    "we see largely a similar pattern for similar reasons \n",
    "to those described above for the row totals.\n",
    "However, there is one noticeable difference,\n",
    "which is that there is an uptick at the top for\n",
    "the oldest age bracket.\n",
    "Perhaps this is just random variability?\n",
    "... but the rate nearly doubles from the second-top\n",
    "(65 to 69 years) age bracket to the top one (70 years and above),\n",
    "and it seems that this happens for many age groups,\n",
    "so perhaps there's another explanation.\n",
    "Note that this is the same observation as noting\n",
    "that the right-most column of the mixing matrix\n",
    "we plotted above is marginally brighter \n",
    "than the one immediately to its left.\n",
    "\n",
    "In fact, there is a very good reason for this,\n",
    "and that's that now that we're summing over the columns,\n",
    "we're considering quite a different quantity.\n",
    "This again illustrates the point from the\n",
    "[previous notebook](./16-contact-surveys.ipynb)\n",
    "that the number of reported contacts\n",
    "(overall and for any specific age group of respondents)\n",
    "is determined to some extent by the number of people in\n",
    "that age group available to come into contact with.\n",
    "For these age brackets and considering a high-income country,\n",
    "we would expect that the last age group would be larger than the second-last\n",
    "because the second-last only includes people aged 65 to 69 years,\n",
    "whereas the last one includes people of any age from 70 upwards.\n",
    "Even though this age group may be less socially active,\n",
    "in many high-income settings this age group is at least double the size\n",
    "of the second-oldest bracket.\n",
    "\n",
    "So given that the survey results reflect the reported\n",
    "rates of contact with any person from a given age bracket,\n",
    "we would expect the reported rates of contact\n",
    "to be higher for contacts from larger age groups."
   ]
  },
  {
   "cell_type": "code",
   "execution_count": null,
   "id": "61edc12c-5b5f-492d-ba99-54cb0f8f910b",
   "metadata": {},
   "outputs": [],
   "source": [
    "pd.DataFrame(empiric_matrix.T, index=age_groups, columns=age_groups).plot.area(\n",
    "    labels=dict(index=\"age\", value=\"contacts\"),\n",
    ")"
   ]
  },
  {
   "cell_type": "markdown",
   "id": "950a3c47-2ff2-41be-b471-fb66397ff79d",
   "metadata": {},
   "source": [
    "This should reinforce the point that we have to think\n",
    "carefully when adapting a matrix from one setting to another,\n",
    "even if we want the contact structures to be essentially retained."
   ]
  }
 ],
 "metadata": {
  "kernelspec": {
   "display_name": "Python 3 (ipykernel)",
   "language": "python",
   "name": "python3"
  },
  "language_info": {
   "codemirror_mode": {
    "name": "ipython",
    "version": 3
   },
   "file_extension": ".py",
   "mimetype": "text/x-python",
   "name": "python",
   "nbconvert_exporter": "python",
   "pygments_lexer": "ipython3",
   "version": "3.10.4"
  }
 },
 "nbformat": 4,
 "nbformat_minor": 5
}
