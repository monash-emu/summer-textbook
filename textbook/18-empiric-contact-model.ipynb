{
 "cells": [
  {
   "cell_type": "markdown",
   "id": "966ca2c2-3e00-4678-878d-549211370204",
   "metadata": {},
   "source": [
    "# Implementing empiric survey data in a model\n",
    "Next let's feed these empiric data into a model.\n",
    "The easiest way to do this is to use a model of a population \n",
    "that is the same or similar to the one that we're modelling.\n",
    "If we're doing this, then it's reasonable to just feed the mixing data straight in.\n",
    "The POLYMOD surveys were performed from late 2005 through much of 2006,\n",
    "so if we're using the matrix for Great Britain and simulating\n",
    "an infectious disease in that population, then we should be fine,\n",
    "provided we also use the age structure for that population.\n",
    "\n",
    "Let's get started by using the same data as we used in the previous notebook.\n",
    "Then we'll also use some population age structure data for the same setting,\n",
    "i.e. the United Kingdom in 2006."
   ]
  },
  {
   "cell_type": "code",
   "execution_count": null,
   "id": "f574f36d-3795-4584-9a34-2ec33682c82f",
   "metadata": {},
   "outputs": [],
   "source": [
    "try:\n",
    "    import google.colab\n",
    "    %pip install summerepi2\n",
    "except:\n",
    "    pass"
   ]
  },
  {
   "cell_type": "code",
   "execution_count": null,
   "id": "ad7ed081-4f10-4917-bdd8-5bbeb2e1c2ac",
   "metadata": {},
   "outputs": [],
   "source": [
    "import pandas as pd\n",
    "pd.options.plotting.backend = \"plotly\"\n",
    "import plotly.graph_objects as go\n",
    "from jax import numpy as jnp\n",
    "\n",
    "from summer2 import CompartmentalModel, Stratification\n",
    "from summer2.parameters import Parameter, DerivedOutput"
   ]
  },
  {
   "cell_type": "code",
   "execution_count": null,
   "id": "87aabcc1-bed8-4b08-bd83-d856b51d86e6",
   "metadata": {},
   "outputs": [],
   "source": [
    "def build_polymod_britain_matrix():\n",
    "    matrix = [\n",
    "        [1.92, 0.65, 0.41, 0.24, 0.46, 0.73, 0.67, 0.83, 0.24, 0.22, 0.36, 0.20, 0.20, 0.26, 0.13],\n",
    "        [0.95, 6.64, 1.09, 0.73, 0.61, 0.75, 0.95, 1.39, 0.90, 0.16, 0.30, 0.22, 0.50, 0.48, 0.20],\n",
    "        [0.48, 1.31, 6.85, 1.52, 0.27, 0.31, 0.48, 0.76, 1.00, 0.69, 0.32, 0.44, 0.27, 0.41, 0.33],\n",
    "        [0.33, 0.34, 1.03, 6.71, 1.58, 0.73, 0.42, 0.56, 0.85, 1.16, 0.70, 0.30, 0.20, 0.48, 0.63],\n",
    "        [0.45, 0.30, 0.22, 0.93, 2.59, 1.49, 0.75, 0.63, 0.77, 0.87, 0.88, 0.61, 0.53, 0.37, 0.33],\n",
    "        [0.79, 0.66, 0.44, 0.74, 1.29, 1.83, 0.97, 0.71, 0.74, 0.85, 0.88, 0.87, 0.67, 0.74, 0.33],\n",
    "        [0.97, 1.07, 0.62, 0.50, 0.88, 1.19, 1.67, 0.89, 1.02, 0.91, 0.92, 0.61, 0.76, 0.63, 0.27],\n",
    "        [1.02, 0.98, 1.26, 1.09, 0.76, 0.95, 1.53, 1.50, 1.32, 1.09, 0.83, 0.69, 1.02, 0.96, 0.20],\n",
    "        [0.55, 1.00, 1.14, 0.94, 0.73, 0.88, 0.82, 1.23, 1.35, 1.27, 0.89, 0.67, 0.94, 0.81, 0.80],\n",
    "        [0.29, 0.54, 0.57, 0.77, 0.97, 0.93, 0.57, 0.80, 1.32, 1.87, 0.61, 0.80, 0.61, 0.59, 0.57],\n",
    "        [0.33, 0.38, 0.40, 0.41, 0.44, 0.85, 0.60, 0.61, 0.71, 0.95, 0.74, 1.06, 0.59, 0.56, 0.57],\n",
    "        [0.31, 0.21, 0.25, 0.33, 0.39, 0.53, 0.68, 0.53, 0.55, 0.51, 0.82, 1.17, 0.85, 0.85, 0.33],\n",
    "        [0.26, 0.25, 0.19, 0.24, 0.19, 0.34, 0.40, 0.39, 0.47, 0.55, 0.41, 0.78, 0.65, 0.85, 0.57],\n",
    "        [0.09, 0.11, 0.12, 0.20, 0.19, 0.22, 0.13, 0.30, 0.23, 0.13, 0.21, 0.28, 0.36, 0.70, 0.60],\n",
    "        [0.14, 0.15, 0.21, 0.10, 0.24, 0.17, 0.15, 0.41, 0.50, 0.71, 0.53, 0.76, 0.47, 0.74, 1.47],\n",
    "    ]\n",
    "    return jnp.array(matrix).T"
   ]
  },
  {
   "cell_type": "code",
   "execution_count": null,
   "id": "9801ac31-e8ac-4988-b870-846f34dd5406",
   "metadata": {},
   "outputs": [],
   "source": [
    "age_groups = [i for i in range(0, 75, 5)]\n",
    "age_pops_list = [\n",
    "    3458060, 3556024, 3824317, 3960916, 3911291, 3762213, 4174675, 4695853, \n",
    "    4653082, 3986098, 3620216, 3892985, 3124676, 2706365, 6961183,\n",
    "]\n",
    "age_pops = pd.Series(age_pops_list, index=age_groups)\n",
    "print(f\"Total simulated population is {round(age_pops.sum() / 1e6, 1)} million\")\n",
    "age_pops.plot.area(labels={\"index\": \"age\", \"value\": \"population\"})"
   ]
  },
  {
   "cell_type": "code",
   "execution_count": null,
   "id": "09b07df6-64bd-40e8-ba77-52b4fb14c068",
   "metadata": {},
   "outputs": [],
   "source": [
    "def build_sir_model(\n",
    "    config: dict,\n",
    ") -> CompartmentalModel:\n",
    "    \"\"\"\n",
    "    This function is similar to the model builder in several previous notebooks, \n",
    "    except that it implements frequency-dependent mixing.\n",
    "    \n",
    "    Args:\n",
    "        config: User requests to define model construction\n",
    "    Returns:\n",
    "        The model object\n",
    "    \"\"\"\n",
    "\n",
    "    compartments = config[\"compartments\"]\n",
    "    analysis_times = (0.0, config[\"end_time\"])\n",
    "    model = CompartmentalModel(\n",
    "        times=analysis_times,\n",
    "        compartments=compartments,\n",
    "        infectious_compartments=(\"infectious\",),\n",
    "    )\n",
    "    model.set_initial_population(\n",
    "        distribution=\n",
    "        {\n",
    "            \"susceptible\": config[\"population\"] - config[\"seed\"], \n",
    "            \"infectious\": config[\"seed\"],\n",
    "        },\n",
    "    )\n",
    "\n",
    "    model.add_infection_frequency_flow(\n",
    "        name=\"infection\",\n",
    "        contact_rate=Parameter(\"risk_per_contact\"),\n",
    "        source=\"susceptible\",\n",
    "        dest=\"infectious\",\n",
    "    )\n",
    "    model.add_transition_flow(\n",
    "        name=\"recovery\", \n",
    "        fractional_rate=1. / Parameter(\"infectious_period\"),\n",
    "        source=\"infectious\", \n",
    "        dest=\"recovered\",\n",
    "    )\n",
    "    \n",
    "    return model"
   ]
  },
  {
   "cell_type": "code",
   "execution_count": null,
   "id": "91a8c5dd-daa3-4f8d-b04a-44d3c088fd15",
   "metadata": {},
   "outputs": [],
   "source": [
    "def build_age_strat(\n",
    "    compartments: list,\n",
    "    age_pops: pd.Series,\n",
    "    mixing_matrix: jnp.array,\n",
    ") -> Stratification:\n",
    "    \"\"\"\n",
    "    Get a stratification that just divides the population into age groups\n",
    "    as per the user request and implements a mixing matrix provided from outside this function.\n",
    "    \n",
    "    Args:\n",
    "        compartments: The compartments to be stratified (all of them)\n",
    "        age_pops: Series with indexes the age groups to be implemented and values the size of each age-specific population group\n",
    "        mixing_matrix: The mixing matrix for this stratification\n",
    "    Returns:\n",
    "        The completed Stratification object    \n",
    "    \"\"\"\n",
    "    \n",
    "    mix_strat = Stratification(\n",
    "        \"age\",\n",
    "        (str(age) for age in age_pops.index),\n",
    "        compartments,\n",
    "    )\n",
    "    \n",
    "    split = {str(age): pop / age_pops.sum() for age, pop in zip(age_pops.index, age_pops)}\n",
    "    mix_strat.set_population_split(split)        \n",
    "\n",
    "    mix_strat.set_mixing_matrix(mixing_matrix)\n",
    "\n",
    "    return mix_strat"
   ]
  },
  {
   "cell_type": "code",
   "execution_count": null,
   "id": "1a95abd6-10cd-4b6b-b1a2-8c58d163d607",
   "metadata": {},
   "outputs": [],
   "source": [
    "def add_group_strat_prevalence_request(\n",
    "    model: CompartmentalModel, \n",
    "):\n",
    "    \"\"\"\n",
    "    Similar function to that in the assortative-mixing notebook.\n",
    "    \"\"\"\n",
    "    \n",
    "    for age_start in model.get_stratification(\"age\").strata:\n",
    "        group = age_start if len(age_start) == 2 else \"0\" + age_start\n",
    "        model.request_output_for_compartments(\n",
    "            f\"total_{group}\",\n",
    "            model_config[\"compartments\"],\n",
    "            strata={\"age\": age_start},\n",
    "            save_results=False,\n",
    "        )\n",
    "        model.request_output_for_compartments(\n",
    "            f\"n_infectious_{group}\",\n",
    "            \"infectious\",\n",
    "            strata={\"age\": age_start},\n",
    "            save_results=False,\n",
    "        )\n",
    "        model.request_function_output(\n",
    "            f\"{group}\",\n",
    "            func=DerivedOutput(f\"n_infectious_{group}\") / DerivedOutput(f\"total_{group}\"),\n",
    "        )"
   ]
  },
  {
   "cell_type": "markdown",
   "id": "14769a63-98d0-4490-9dd5-e58c7e144a52",
   "metadata": {},
   "source": [
    "... and let's set some arbitrary parameters\n",
    "for an imaginary infectious disease\n",
    "outbreak in this population,\n",
    "and run the model."
   ]
  },
  {
   "cell_type": "code",
   "execution_count": null,
   "id": "0499bd5d-9581-4b49-bab4-d1ead83d91bf",
   "metadata": {},
   "outputs": [],
   "source": [
    "model_config = {\n",
    "    \"end_time\": 40.0,\n",
    "    \"population\": 60e6,\n",
    "    \"seed\": 100.0,\n",
    "    \"compartments\": (\"susceptible\", \"infectious\", \"recovered\"),\n",
    "}\n",
    "parameters = {\n",
    "    \"risk_per_contact\": 0.1,\n",
    "    \"infectious_period\": 4.0,\n",
    "}"
   ]
  },
  {
   "cell_type": "code",
   "execution_count": null,
   "id": "52838c05-5391-4881-92e1-f0139cd4447b",
   "metadata": {},
   "outputs": [],
   "source": [
    "uk_model = build_sir_model(model_config)\n",
    "mixing_matrix = build_polymod_britain_matrix()\n",
    "mix_strat = build_age_strat(model_config[\"compartments\"], age_pops, mixing_matrix)\n",
    "uk_model.stratify_with(mix_strat)\n",
    "add_group_strat_prevalence_request(uk_model)\n",
    "uk_model.run(parameters)\n",
    "output_data = uk_model.get_derived_outputs_df()"
   ]
  },
  {
   "cell_type": "markdown",
   "id": "bfd86b3b-171b-4b8b-ba93-17bf649d1c8e",
   "metadata": {},
   "source": [
    "Let's see what the results look like.\n",
    "We probably don't expect them to show any particularly dramatic age effects,\n",
    "because the only difference between the age groups is the contact rates,\n",
    "and we haven't implemented any other epidemiological differences between\n",
    "the age groups.\n",
    "Nevertheless, we should see some small differences between the groups\n",
    "because of the heterogeneous mixing."
   ]
  },
  {
   "cell_type": "code",
   "execution_count": null,
   "id": "e77d81d2-6745-42ef-ac04-8db93716d1af",
   "metadata": {},
   "outputs": [],
   "source": [
    "plotting_data = output_data.iloc[10: 30]\n",
    "transposed_data = plotting_data.transpose()\n",
    "fig = go.Figure(\n",
    "    data=[\n",
    "        go.Contour(\n",
    "            x=transposed_data.columns, \n",
    "            y=transposed_data.index, \n",
    "            z=transposed_data.values\n",
    "        )\n",
    "    ]\n",
    ")\n",
    "fig.update_xaxes(title=\"time\")\n",
    "fig.update_yaxes(title=\"age group\")\n",
    "fig.update_traces(colorbar_title_text=\"prevalence\")\n",
    "fig.show()"
   ]
  },
  {
   "cell_type": "code",
   "execution_count": null,
   "id": "dc87e510-9775-4788-aa4f-106dc9579efd",
   "metadata": {
    "tags": []
   },
   "outputs": [],
   "source": [
    "fig = go.Figure(\n",
    "    data=[\n",
    "        go.Surface(\n",
    "            x=transposed_data.columns, \n",
    "            y=transposed_data.index, \n",
    "            z=transposed_data.values,\n",
    "        )\n",
    "    ],\n",
    ")\n",
    "fig.update_layout(\n",
    "    width=800, \n",
    "    height=600, \n",
    "    scene=dict(\n",
    "        xaxis_title=\"time\",\n",
    "        yaxis_title=\"age group\",\n",
    "        zaxis_title=\"prevalence\",\n",
    "    ),\n",
    ")\n",
    "fig.show()"
   ]
  },
  {
   "cell_type": "markdown",
   "id": "aa182021-4cc4-4b2f-a28f-3811c2ba0593",
   "metadata": {},
   "source": [
    "So transmission is a little more intense and occurs a little earlier in the younger age groups."
   ]
  }
 ],
 "metadata": {
  "kernelspec": {
   "display_name": "Python 3 (ipykernel)",
   "language": "python",
   "name": "python3"
  },
  "language_info": {
   "codemirror_mode": {
    "name": "ipython",
    "version": 3
   },
   "file_extension": ".py",
   "mimetype": "text/x-python",
   "name": "python",
   "nbconvert_exporter": "python",
   "pygments_lexer": "ipython3",
   "version": "3.10.4"
  }
 },
 "nbformat": 4,
 "nbformat_minor": 5
}
