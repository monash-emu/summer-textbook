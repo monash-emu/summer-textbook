{
 "cells": [
  {
   "cell_type": "markdown",
   "id": "a6625919-ece6-47ab-826b-571a5fbfb74f",
   "metadata": {},
   "source": [
    "# Adapting mixing matrices\n",
    "\n",
    "## Goal of this notebook\n",
    "Unfortunately, a lot of countries around the world have\n",
    "no empirically collected survey data on contact patterns,\n",
    "so we often have to infer from one setting to another.\n",
    "There are many different ways that we could do this,\n",
    "and the social interactions between population groups\n",
    "are likely highly dependent on many factors,\n",
    "including the age structure and composition of workplaces and schools,\n",
    "and a wide range of social and cultural factors.\n",
    "These factors are outside the scope of this series,\n",
    "but let's work through how we adjust only for differences in\n",
    "age structure between the setting in which the data were collected\n",
    "and the age structure in the setting we want to model.\n",
    "\n",
    "## Example to consider\n",
    "Let's try to adapt our mixing matrix from the United Kingdom data from the\n",
    "POLYMOD study to the age structure of the population of India.\n",
    "In one sense, this is not a good example, because there are such \n",
    "huge cultural differences between these two settings other than just \n",
    "the population distribution.\n",
    "However, there are also major differences in the population distribution,\n",
    "so this example should illustrate that consideration well."
   ]
  },
  {
   "cell_type": "code",
   "execution_count": null,
   "id": "513bcc19-8441-4f45-8aab-579cedc0904e",
   "metadata": {},
   "outputs": [],
   "source": [
    "import numpy as np\n",
    "import pandas as pd\n",
    "import plotly.express as px\n",
    "pd.options.plotting.backend = \"plotly\"\n",
    "\n",
    "from summer2 import CompartmentalModel, Stratification, Multiply\n",
    "from summer2.parameters import Parameter, DerivedOutput, Function"
   ]
  },
  {
   "cell_type": "markdown",
   "id": "2a0cbe27-34ee-4d35-95db-79574cce44a9",
   "metadata": {},
   "source": [
    "## Collating our data\n",
    "First, let's define the age structure for each of the two settings we're considering,\n",
    "and have a look at the results.\n",
    "As we can see, the differences in the population structure are considerable."
   ]
  },
  {
   "cell_type": "code",
   "execution_count": null,
   "id": "fee60a68-e4c6-47e7-ab6c-6004dfd1e785",
   "metadata": {},
   "outputs": [],
   "source": [
    "# Use the same age groups as in previous notebooks\n",
    "age_groups = [i for i in range(0, 75, 5)]\n",
    "\n",
    "# United Kingdom\n",
    "uk_pops_list = [\n",
    "    3458060, 3556024, 3824317, 3960916, 3911291, 3762213, 4174675, 4695853, \n",
    "    4653082, 3986098, 3620216, 3892985, 3124676, 2706365, 6961183,\n",
    "]\n",
    "uk_age_pops = pd.Series(uk_pops_list, index=age_groups)\n",
    "uk_age_props = uk_age_pops / uk_age_pops.sum()\n",
    "\n",
    "# India\n",
    "india_pops_list = [\n",
    "    129542986, 125382900, 120793708, 116260529, 107868736, 94680659, 84290793, \n",
    "    74654335, 66648349, 58227885, 49861117, 36403014, 28622039, 22542089, 31830788,\n",
    "]\n",
    "india_age_pops = pd.Series(india_pops_list, index=age_groups)\n",
    "india_age_props = india_age_pops / india_age_pops.sum()\n",
    "\n",
    "pd.DataFrame(\n",
    "    {\n",
    "        \"india\": india_age_props,\n",
    "        \"uk\": uk_age_props,\n",
    "    }\n",
    ").plot(\n",
    "    labels=dict(index=\"age\", value=\"proportion of population\"),\n",
    ")"
   ]
  },
  {
   "cell_type": "markdown",
   "id": "aab98e73-c9c1-4af5-92cf-df9221cee6e9",
   "metadata": {},
   "source": [
    "## Get the base matrix\n",
    "Next, let's get our base matrix for the United Kingdom,\n",
    "that we want to adapt, and have a look at this matrix."
   ]
  },
  {
   "cell_type": "code",
   "execution_count": null,
   "id": "a9d90d9f-02db-4e9f-a30c-6e3637c50b0e",
   "metadata": {},
   "outputs": [],
   "source": [
    "def build_polymod_britain_matrix():\n",
    "    matrix = [\n",
    "        [1.92, 0.65, 0.41, 0.24, 0.46, 0.73, 0.67, 0.83, 0.24, 0.22, 0.36, 0.20, 0.20, 0.26, 0.13],\n",
    "        [0.95, 6.64, 1.09, 0.73, 0.61, 0.75, 0.95, 1.39, 0.90, 0.16, 0.30, 0.22, 0.50, 0.48, 0.20],\n",
    "        [0.48, 1.31, 6.85, 1.52, 0.27, 0.31, 0.48, 0.76, 1.00, 0.69, 0.32, 0.44, 0.27, 0.41, 0.33],\n",
    "        [0.33, 0.34, 1.03, 6.71, 1.58, 0.73, 0.42, 0.56, 0.85, 1.16, 0.70, 0.30, 0.20, 0.48, 0.63],\n",
    "        [0.45, 0.30, 0.22, 0.93, 2.59, 1.49, 0.75, 0.63, 0.77, 0.87, 0.88, 0.61, 0.53, 0.37, 0.33],\n",
    "        [0.79, 0.66, 0.44, 0.74, 1.29, 1.83, 0.97, 0.71, 0.74, 0.85, 0.88, 0.87, 0.67, 0.74, 0.33],\n",
    "        [0.97, 1.07, 0.62, 0.50, 0.88, 1.19, 1.67, 0.89, 1.02, 0.91, 0.92, 0.61, 0.76, 0.63, 0.27],\n",
    "        [1.02, 0.98, 1.26, 1.09, 0.76, 0.95, 1.53, 1.50, 1.32, 1.09, 0.83, 0.69, 1.02, 0.96, 0.20],\n",
    "        [0.55, 1.00, 1.14, 0.94, 0.73, 0.88, 0.82, 1.23, 1.35, 1.27, 0.89, 0.67, 0.94, 0.81, 0.80],\n",
    "        [0.29, 0.54, 0.57, 0.77, 0.97, 0.93, 0.57, 0.80, 1.32, 1.87, 0.61, 0.80, 0.61, 0.59, 0.57],\n",
    "        [0.33, 0.38, 0.40, 0.41, 0.44, 0.85, 0.60, 0.61, 0.71, 0.95, 0.74, 1.06, 0.59, 0.56, 0.57],\n",
    "        [0.31, 0.21, 0.25, 0.33, 0.39, 0.53, 0.68, 0.53, 0.55, 0.51, 0.82, 1.17, 0.85, 0.85, 0.33],\n",
    "        [0.26, 0.25, 0.19, 0.24, 0.19, 0.34, 0.40, 0.39, 0.47, 0.55, 0.41, 0.78, 0.65, 0.85, 0.57],\n",
    "        [0.09, 0.11, 0.12, 0.20, 0.19, 0.22, 0.13, 0.30, 0.23, 0.13, 0.21, 0.28, 0.36, 0.70, 0.60],\n",
    "        [0.14, 0.15, 0.21, 0.10, 0.24, 0.17, 0.15, 0.41, 0.50, 0.71, 0.53, 0.76, 0.47, 0.74, 1.47],\n",
    "    ]\n",
    "    return np.array(matrix).T"
   ]
  },
  {
   "cell_type": "code",
   "execution_count": null,
   "id": "89636bc3-fe49-47da-96fb-31855a27c5ec",
   "metadata": {},
   "outputs": [],
   "source": [
    "uk_matrix = build_polymod_britain_matrix()\n",
    "px.imshow(uk_matrix)"
   ]
  },
  {
   "cell_type": "markdown",
   "id": "db737508-029d-4b63-96a1-179a88baecb5",
   "metadata": {},
   "source": [
    "## Adaptation\n",
    "Next, we need to calculate the ratio of the proportions\n",
    "of the population in each age group between India and the UK.\n",
    "Last, we need to multiply each row of our matrix through\n",
    "by the age ratios we calculated previously.\n",
    "This is equivalent to multiplying the original matrix through\n",
    "by a matrix of the same dimensions, \n",
    "with the population ratios on the diagonal of the matrix we previously calculated."
   ]
  },
  {
   "cell_type": "code",
   "execution_count": null,
   "id": "9d3b20d7-8934-48ee-8587-247c53c6d647",
   "metadata": {},
   "outputs": [],
   "source": [
    "india_uk_ratios = india_age_props / uk_age_props\n",
    "adjusted_matrix = np.dot(uk_matrix, np.diag(india_uk_ratios))"
   ]
  },
  {
   "cell_type": "markdown",
   "id": "59865050-33ca-435a-a99a-8a188aa1394c",
   "metadata": {},
   "source": [
    "## Results\n",
    "As you can see from the adapted matrix displayed below,\n",
    "we now have a matrix in which the contacts are much more skewed towards\n",
    "the younger age groups, as we would expect for a population with \n",
    "a younger age distribution like India."
   ]
  },
  {
   "cell_type": "code",
   "execution_count": null,
   "id": "2b62e10c-972e-4efe-9403-fc60b803a997",
   "metadata": {},
   "outputs": [],
   "source": [
    "px.imshow(adjusted_matrix)"
   ]
  },
  {
   "cell_type": "markdown",
   "id": "a8b837a3-0624-4aef-b2b8-455848baaf93",
   "metadata": {},
   "source": [
    "This matrix is not ideal for \n",
    "a model of an infectious disease in India.\n",
    "However, failing to apply this adjustment\n",
    "and using the UK matrices as reported\n",
    "with the Indian population distribution\n",
    "would be plain wrong."
   ]
  }
 ],
 "metadata": {
  "kernelspec": {
   "display_name": "Python 3 (ipykernel)",
   "language": "python",
   "name": "python3"
  },
  "language_info": {
   "codemirror_mode": {
    "name": "ipython",
    "version": 3
   },
   "file_extension": ".py",
   "mimetype": "text/x-python",
   "name": "python",
   "nbconvert_exporter": "python",
   "pygments_lexer": "ipython3",
   "version": "3.10.4"
  }
 },
 "nbformat": 4,
 "nbformat_minor": 5
}
